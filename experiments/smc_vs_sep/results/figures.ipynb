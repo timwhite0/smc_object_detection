{
 "cells": [
  {
   "cell_type": "code",
   "execution_count": 1,
   "metadata": {},
   "outputs": [],
   "source": [
    "import sys\n",
    "sys.path.append(\"/home/twhit/smc_object_detection/\")\n",
    "from smc.sampler import SMCsampler\n",
    "from smc.prior import StarPrior\n",
    "from smc.images import ImageModel\n",
    "from smc.kernel import MetropolisHastings\n",
    "from smc.aggregate import Aggregate\n",
    "\n",
    "import torch\n",
    "device = torch.device(\"cuda:7\" if torch.cuda.is_available() else \"cpu\")\n",
    "torch.cuda.set_device(device)\n",
    "torch.set_default_device(device)\n",
    "\n",
    "import numpy as np\n",
    "import matplotlib.pyplot as plt"
   ]
  },
  {
   "cell_type": "markdown",
   "metadata": {},
   "source": [
    "### Load in images"
   ]
  },
  {
   "cell_type": "code",
   "execution_count": 2,
   "metadata": {},
   "outputs": [],
   "source": [
    "images = torch.load('../data/images.pt').to(device)\n",
    "true_counts = torch.load('../data/true_counts.pt').to(device)\n",
    "true_locs = torch.load('../data/true_locs.pt').to(device)\n",
    "true_fluxes = torch.load('../data/true_fluxes.pt').to(device)\n",
    "\n",
    "num_counts = true_counts.max().item() + 1  # |{0,1,2,...,max_count}|"
   ]
  },
  {
   "cell_type": "code",
   "execution_count": 3,
   "metadata": {},
   "outputs": [],
   "source": [
    "image_dim = images.shape[1]\n",
    "image_index = 69  # choose image with multiple sources just outside the border\n",
    "\n",
    "grid_interval = image_dim // 4\n",
    "outer_min = 0 - 0.5\n",
    "outer_max = image_dim - 0.5\n",
    "pad = 2\n",
    "\n",
    "cmap = 'gray'\n",
    "linewidth = 2\n",
    "pad_color1 = 'darkorange'\n",
    "pad_color2 = 'darkorange'"
   ]
  },
  {
   "cell_type": "code",
   "execution_count": 4,
   "metadata": {},
   "outputs": [],
   "source": [
    "image = images[image_index]\n",
    "image_height = image.shape[0]\n",
    "image_width = image.shape[1]\n",
    "\n",
    "true_counts = true_counts[image_index]\n",
    "true_locs = true_locs[image_index]\n",
    "true_fluxes = true_fluxes[image_index]"
   ]
  },
  {
   "cell_type": "code",
   "execution_count": 5,
   "metadata": {},
   "outputs": [
    {
     "data": {
      "image/png": "[encoded data removed]",
      "text/plain": [
       "<Figure size 600x600 with 1 Axes>"
      ]
     },
     "metadata": {},
     "output_type": "display_data"
    }
   ],
   "source": [
    "fig, ax = plt.subplots(1, 1, figsize = (6,6))\n",
    "img = ax.imshow(image.cpu(), cmap = cmap)\n",
    "_ = ax.spines[['top', 'right', 'bottom', 'left']].set_visible(False)\n",
    "_ = ax.set_xticks([])\n",
    "_ = ax.set_yticks([])\n",
    "\n",
    "_ = ax.scatter(true_locs.cpu()[:true_counts.cpu().item(), 1] - 0.5,\n",
    "               true_locs.cpu()[:true_counts.cpu().item(), 0] - 0.5,\n",
    "               color = 'gold', edgecolors = 'black', marker = '*', s = 200)\n",
    "_ = ax.vlines(x = [outer_min - pad, outer_max + pad],\n",
    "              ymin = outer_min - pad, ymax = outer_max + pad,\n",
    "              color = 'white', linewidth = linewidth)\n",
    "_ = ax.hlines(y = [outer_min - pad, outer_max + pad],\n",
    "              xmin = outer_min - pad, xmax = outer_max + pad,\n",
    "              color = 'white', linewidth = linewidth)"
   ]
  },
  {
   "cell_type": "markdown",
   "metadata": {},
   "source": [
    "### Run sampler"
   ]
  },
  {
   "cell_type": "code",
   "execution_count": 6,
   "metadata": {},
   "outputs": [],
   "source": [
    "prior = StarPrior(max_objects = 10,\n",
    "                  image_height = image_height,\n",
    "                  image_width = image_width,\n",
    "                  flux_mean = 80000,\n",
    "                  flux_stdev = 15000,\n",
    "                  pad = 2)\n",
    "\n",
    "imagemodel = ImageModel(image_height = image_height,\n",
    "                        image_width = image_width,\n",
    "                        psf_stdev = 1.5,\n",
    "                        background = 100000)\n",
    "\n",
    "mh = MetropolisHastings(num_iters = 75,\n",
    "                        locs_stdev = 0.1,\n",
    "                        features_stdev = 1000,\n",
    "                        features_min = 50000,\n",
    "                        features_max = 110000)"
   ]
  },
  {
   "cell_type": "code",
   "execution_count": 7,
   "metadata": {},
   "outputs": [
    {
     "name": "stdout",
     "output_type": "stream",
     "text": [
      "true count = 5\n",
      "true total flux = 387310.0625\n",
      "\n",
      "Starting the tile samplers...\n",
      "iteration 5, temperature = 0.008851579390466213\n",
      "iteration 10, temperature = 0.03939235582947731\n",
      "iteration 15, temperature = 0.14765842258930206\n",
      "iteration 20, temperature = 0.27740007638931274\n",
      "iteration 25, temperature = 0.5924820899963379\n",
      "Done!\n",
      "\n"
     ]
    }
   ],
   "source": [
    "torch.manual_seed(0)\n",
    "\n",
    "print(f\"true count = {true_counts}\")\n",
    "print(f\"true total flux = {true_fluxes.sum()}\\n\")\n",
    "\n",
    "sampler = SMCsampler(image = image,\n",
    "                    tile_dim = image_height,\n",
    "                    Prior = prior,\n",
    "                    ImageModel = imagemodel,\n",
    "                    MutationKernel = mh,\n",
    "                    num_catalogs_per_count = 2000,\n",
    "                    max_smc_iters = 200)\n",
    "\n",
    "sampler.run(print_progress = True)"
   ]
  },
  {
   "cell_type": "code",
   "execution_count": 8,
   "metadata": {},
   "outputs": [],
   "source": [
    "catalog_index = sampler.weights_intercount.argmax().item()\n",
    "locs = sampler.locs.squeeze()[catalog_index]\n",
    "counts = sampler.counts.squeeze()[catalog_index].int()"
   ]
  },
  {
   "cell_type": "code",
   "execution_count": 9,
   "metadata": {},
   "outputs": [
    {
     "data": {
      "image/png": "[encoded data removed]",
      "text/plain": [
       "<Figure size 600x600 with 1 Axes>"
      ]
     },
     "metadata": {},
     "output_type": "display_data"
    }
   ],
   "source": [
    "fig, ax = plt.subplots(1, 1, figsize = (6,6))\n",
    "img = ax.imshow(image.cpu(), cmap = cmap)\n",
    "_ = ax.spines[['top', 'right', 'bottom', 'left']].set_visible(False)\n",
    "_ = ax.set_xticks([])\n",
    "_ = ax.set_yticks([])\n",
    "\n",
    "_ = ax.scatter(locs.cpu()[:counts.cpu().item(), 1] - 0.5,\n",
    "               locs.cpu()[:counts.cpu().item(), 0] - 0.5,\n",
    "               color = 'blue', edgecolors = 'black', marker = '*', s = 200)\n",
    "\n",
    "_ = ax.vlines(x = [outer_min - pad, outer_max + pad],\n",
    "              ymin = outer_min - pad, ymax = outer_max + pad,\n",
    "              color = pad_color1, linewidth = linewidth)\n",
    "_ = ax.hlines(y = [outer_min - pad, outer_max + pad],\n",
    "              xmin = outer_min - pad, xmax = outer_max + pad,\n",
    "              color = pad_color1, linewidth = linewidth)"
   ]
  },
  {
   "cell_type": "code",
   "execution_count": 10,
   "metadata": {},
   "outputs": [],
   "source": [
    "torch.manual_seed(0)\n",
    "\n",
    "agg = Aggregate(sampler.Prior,\n",
    "                sampler.ImageModel,\n",
    "                sampler.tiled_image,\n",
    "                sampler.counts,\n",
    "                sampler.locs,\n",
    "                sampler.features,\n",
    "                sampler.weights_intercount)\n",
    "\n",
    "agg.run()"
   ]
  },
  {
   "cell_type": "code",
   "execution_count": 11,
   "metadata": {},
   "outputs": [],
   "source": [
    "unique, num = agg.features.squeeze().unique(dim = 0, return_counts = True)\n",
    "catalog_index = (agg.features.squeeze() == unique[num.argmax()]).all(dim = 1).nonzero()[0].item()\n",
    "locs = agg.locs.squeeze()[catalog_index]\n",
    "counts = agg.counts.squeeze()[catalog_index]"
   ]
  },
  {
   "cell_type": "code",
   "execution_count": 12,
   "metadata": {},
   "outputs": [
    {
     "data": {
      "image/png": "[encoded data removed]",
      "text/plain": [
       "<Figure size 600x600 with 1 Axes>"
      ]
     },
     "metadata": {},
     "output_type": "display_data"
    }
   ],
   "source": [
    "fig, ax = plt.subplots(1, 1, figsize = (6,6))\n",
    "img = ax.imshow(image.cpu(), cmap = cmap)\n",
    "_ = ax.spines[['top', 'right', 'bottom', 'left']].set_visible(False)\n",
    "_ = ax.set_xticks([])\n",
    "_ = ax.set_yticks([])\n",
    "\n",
    "_ = ax.scatter(locs.cpu()[:counts.cpu().item(), 1] - 0.5,\n",
    "               locs.cpu()[:counts.cpu().item(), 0] - 0.5,\n",
    "               color = 'blue', edgecolors = 'black', marker = '*', s = 200)\n",
    "\n",
    "_ = ax.vlines(x = [outer_min - pad, outer_max + pad],\n",
    "              ymin = outer_min - pad, ymax = outer_max + pad,\n",
    "              color = 'white', linewidth = linewidth)\n",
    "_ = ax.hlines(y = [outer_min - pad, outer_max + pad],\n",
    "              xmin = outer_min - pad, xmax = outer_max + pad,\n",
    "              color = 'white', linewidth = linewidth)\n",
    "_ = ax.vlines(x = [outer_min, outer_max],\n",
    "              ymin = outer_min, ymax = outer_max,\n",
    "              color = pad_color1, linewidth = linewidth)\n",
    "_ = ax.hlines(y = [outer_min, outer_max],\n",
    "              xmin = outer_min, xmax = outer_max,\n",
    "              color = pad_color1, linewidth = linewidth)"
   ]
  }
 ],
 "metadata": {
  "kernelspec": {
   "display_name": "Python 3",
   "language": "python",
   "name": "python3"
  },
  "language_info": {
   "codemirror_mode": {
    "name": "ipython",
    "version": 3
   },
   "file_extension": ".py",
   "mimetype": "text/x-python",
   "name": "python",
   "nbconvert_exporter": "python",
   "pygments_lexer": "ipython3",
   "version": "3.10.12"
  }
 },
 "nbformat": 4,
 "nbformat_minor": 2
}
