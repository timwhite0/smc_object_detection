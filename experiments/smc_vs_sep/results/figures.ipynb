{
 "cells": [
  {
   "cell_type": "code",
   "execution_count": 1,
   "metadata": {},
   "outputs": [],
   "source": [
    "import torch\n",
    "import numpy as np\n",
    "import matplotlib.pyplot as plt"
   ]
  },
  {
   "cell_type": "markdown",
   "metadata": {},
   "source": [
    "### Load in images"
   ]
  },
  {
   "cell_type": "code",
   "execution_count": 2,
   "metadata": {},
   "outputs": [],
   "source": [
    "images = torch.load('../data/images.pt')\n",
    "true_counts = torch.load('../data/true_counts.pt')\n",
    "true_locs = torch.load('../data/true_locs.pt')\n",
    "true_fluxes = torch.load('../data/true_fluxes.pt')\n",
    "\n",
    "num_counts = true_counts.max().item() + 1  # |{0,1,2,...,max_count}|"
   ]
  },
  {
   "cell_type": "code",
   "execution_count": 3,
   "metadata": {},
   "outputs": [],
   "source": [
    "image_dim = images.shape[1]\n",
    "image_index = 0\n",
    "\n",
    "grid_interval = image_dim // 4\n",
    "outer_min = 0 - 0.5\n",
    "outer_max = image_dim - 0.5\n",
    "pad = 2\n",
    "\n",
    "cmap = 'gray'\n",
    "linewidth = 2\n",
    "pad_color1 = 'orangered'\n",
    "pad_color2 = 'mediumseagreen'"
   ]
  },
  {
   "cell_type": "code",
   "execution_count": 4,
   "metadata": {},
   "outputs": [
    {
     "data": {
      "image/png": "[encoded data removed]",
      "text/plain": [
       "<Figure size 600x600 with 1 Axes>"
      ]
     },
     "metadata": {},
     "output_type": "display_data"
    }
   ],
   "source": [
    "fig, ax = plt.subplots(1, 1, figsize = (6,6))\n",
    "img = ax.imshow(images[image_index], cmap = cmap)\n",
    "_ = ax.spines[['top', 'right', 'bottom', 'left']].set_visible(False)\n",
    "_ = ax.set_xticks([])\n",
    "_ = ax.set_yticks([])\n",
    "\n",
    "# tile borders\n",
    "_ = ax.vlines(x = [outer_min - pad, outer_max + pad],\n",
    "              ymin = outer_min - pad, ymax = outer_max + pad,\n",
    "              color = pad_color1, linewidth = linewidth)\n",
    "_ = ax.hlines(y = [outer_min - pad, outer_max + pad],\n",
    "              xmin = outer_min - pad, xmax = outer_max + pad,\n",
    "              color = pad_color1, linewidth = linewidth)"
   ]
  }
 ],
 "metadata": {
  "kernelspec": {
   "display_name": "Python 3",
   "language": "python",
   "name": "python3"
  },
  "language_info": {
   "codemirror_mode": {
    "name": "ipython",
    "version": 3
   },
   "file_extension": ".py",
   "mimetype": "text/x-python",
   "name": "python",
   "nbconvert_exporter": "python",
   "pygments_lexer": "ipython3",
   "version": "3.10.12"
  }
 },
 "nbformat": 4,
 "nbformat_minor": 2
}
