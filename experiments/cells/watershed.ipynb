{
 "cells": [
  {
   "cell_type": "code",
   "execution_count": 1,
   "metadata": {},
   "outputs": [
    {
     "name": "stderr",
     "output_type": "stream",
     "text": [
      "/home/twhit/.local/lib/python3.10/site-packages/matplotlib/projections/__init__.py:63: UserWarning: Unable to import Axes3D. This may be due to multiple versions of Matplotlib being installed (e.g. as a system package and as a pip package). As a result, the 3D projection is not available.\n",
      "  warnings.warn(\"Unable to import Axes3D. This may be due to multiple versions of \"\n"
     ]
    }
   ],
   "source": [
    "import torch\n",
    "device = \"cpu\"\n",
    "\n",
    "import matplotlib.pyplot as plt\n",
    "import skimage\n",
    "from scipy.stats import mode\n",
    "from scipy import ndimage\n",
    "import numpy as np"
   ]
  },
  {
   "cell_type": "markdown",
   "metadata": {},
   "source": [
    "### Load images"
   ]
  },
  {
   "cell_type": "code",
   "execution_count": 2,
   "metadata": {},
   "outputs": [],
   "source": [
    "true_counts = torch.load(\"images/true_counts.pt\").to(device)\n",
    "true_fluors = torch.load(\"images/true_fluors.pt\").to(device)\n",
    "images = torch.load(\"images/images.pt\").to(device).numpy().astype(int)\n",
    "num_images = images.shape[0]\n",
    "max_objects = true_fluors.shape[1]"
   ]
  },
  {
   "cell_type": "markdown",
   "metadata": {},
   "source": [
    "### Otsu thresholding"
   ]
  },
  {
   "cell_type": "code",
   "execution_count": 3,
   "metadata": {},
   "outputs": [],
   "source": [
    "min_distances = np.arange(1, 10, 2)\n",
    "otsu_estimated_counts = torch.zeros(min_distances.shape[0], num_images).cpu()\n",
    "otsu_mae = torch.zeros(min_distances.shape[0]).cpu()\n",
    "\n",
    "for d in range(len(min_distances)):\n",
    "    for i in range(num_images):\n",
    "        # Threshold to get binary mask\n",
    "        cells = images[i] >= skimage.filters.threshold_otsu(images[i])\n",
    "\n",
    "        # Compute Euclidean distance based on mask\n",
    "        distance = ndimage.distance_transform_edt(cells)\n",
    "\n",
    "        # Get coordinates of local maxima\n",
    "        local_max_coords = skimage.feature.peak_local_max(distance, min_distance = min_distances[d], exclude_border = False)\n",
    "\n",
    "        # Create mask of local_max_coords\n",
    "        local_max_mask = np.zeros(distance.shape, dtype = bool)\n",
    "        local_max_mask[tuple(local_max_coords.T)] = True\n",
    "        \n",
    "        # Label the local_max_mask\n",
    "        markers = skimage.measure.label(local_max_mask)\n",
    "        \n",
    "        # Watershed segmentation\n",
    "        labels = skimage.segmentation.watershed(-distance, markers, mask = cells, connectivity = 2)\n",
    "\n",
    "        # Extract estimated count\n",
    "        num_foreground_labels = len(np.unique(labels)) - 1\n",
    "        otsu_estimated_counts[d,i] = num_foreground_labels * (num_foreground_labels <= 2*max_objects) + 0 * (num_foreground_labels > 2*max_objects)\n",
    "    \n",
    "    otsu_mae[d] = (otsu_estimated_counts[d] - true_counts).abs().mean()"
   ]
  },
  {
   "cell_type": "code",
   "execution_count": 4,
   "metadata": {},
   "outputs": [
    {
     "data": {
      "text/plain": [
       "tensor([[1.0000, 3.0000, 5.0000, 7.0000, 9.0000],\n",
       "        [1.2730, 0.6600, 0.6610, 0.7460, 1.7540]])"
      ]
     },
     "execution_count": 4,
     "metadata": {},
     "output_type": "execute_result"
    }
   ],
   "source": [
    "torch.stack((torch.tensor(min_distances).cpu(), otsu_mae))"
   ]
  },
  {
   "cell_type": "markdown",
   "metadata": {},
   "source": [
    "### Li thresholding"
   ]
  },
  {
   "cell_type": "code",
   "execution_count": 5,
   "metadata": {},
   "outputs": [],
   "source": [
    "min_distances = np.arange(1, 10, 2)\n",
    "li_estimated_counts = torch.zeros(min_distances.shape[0], num_images).cpu()\n",
    "li_mae = torch.zeros(min_distances.shape[0]).cpu()\n",
    "\n",
    "for d in range(len(min_distances)):\n",
    "    for i in range(num_images):\n",
    "        # Threshold to get binary mask\n",
    "        cells = images[i] >= skimage.filters.threshold_li(images[i])\n",
    "\n",
    "        # Compute Euclidean distance based on mask\n",
    "        distance = ndimage.distance_transform_edt(cells)\n",
    "\n",
    "        # Get coordinates of local maxima\n",
    "        local_max_coords = skimage.feature.peak_local_max(distance, min_distance = min_distances[d], exclude_border = False)\n",
    "\n",
    "        # Create mask of local_max_coords\n",
    "        local_max_mask = np.zeros(distance.shape, dtype = bool)\n",
    "        local_max_mask[tuple(local_max_coords.T)] = True\n",
    "        \n",
    "        # Label the local_max_mask\n",
    "        markers = skimage.measure.label(local_max_mask)\n",
    "        \n",
    "        # Watershed segmentation\n",
    "        labels = skimage.segmentation.watershed(-distance, markers, mask = cells, connectivity = 2)\n",
    "\n",
    "        # Extract estimated count\n",
    "        num_foreground_labels = len(np.unique(labels)) - 1\n",
    "        li_estimated_counts[d,i] = num_foreground_labels * (num_foreground_labels <= 2*max_objects) + 0 * (num_foreground_labels > 2*max_objects)\n",
    "    \n",
    "    li_mae[d] = (li_estimated_counts[d] - true_counts).abs().mean()"
   ]
  },
  {
   "cell_type": "code",
   "execution_count": 6,
   "metadata": {},
   "outputs": [
    {
     "data": {
      "text/plain": [
       "tensor([[1.0000, 3.0000, 5.0000, 7.0000, 9.0000],\n",
       "        [1.2420, 0.5790, 0.5640, 0.6260, 1.5740]])"
      ]
     },
     "execution_count": 6,
     "metadata": {},
     "output_type": "execute_result"
    }
   ],
   "source": [
    "torch.stack((torch.tensor(min_distances).cpu(), li_mae))"
   ]
  },
  {
   "cell_type": "markdown",
   "metadata": {},
   "source": [
    "### Triangle thresholding"
   ]
  },
  {
   "cell_type": "code",
   "execution_count": 7,
   "metadata": {},
   "outputs": [],
   "source": [
    "min_distances = np.arange(1, 10, 2)\n",
    "triangle_estimated_counts = torch.zeros(min_distances.shape[0], num_images).cpu()\n",
    "triangle_mae = torch.zeros(min_distances.shape[0]).cpu()\n",
    "\n",
    "for d in range(len(min_distances)):\n",
    "    for i in range(num_images):\n",
    "        # Threshold to get binary mask\n",
    "        cells = images[i] >= skimage.filters.threshold_triangle(images[i])\n",
    "\n",
    "        # Compute Euclidean distance based on mask\n",
    "        distance = ndimage.distance_transform_edt(cells)\n",
    "\n",
    "        # Get coordinates of local maxima\n",
    "        local_max_coords = skimage.feature.peak_local_max(distance, min_distance = min_distances[d], exclude_border = False)\n",
    "\n",
    "        # Create mask of local_max_coords\n",
    "        local_max_mask = np.zeros(distance.shape, dtype = bool)\n",
    "        local_max_mask[tuple(local_max_coords.T)] = True\n",
    "        \n",
    "        # Label the local_max_mask\n",
    "        markers = skimage.measure.label(local_max_mask)\n",
    "        \n",
    "        # Watershed segmentation\n",
    "        labels = skimage.segmentation.watershed(-distance, markers, mask = cells, connectivity = 2)\n",
    "\n",
    "        # Extract estimated count\n",
    "        num_foreground_labels = len(np.unique(labels)) - 1\n",
    "        triangle_estimated_counts[d,i] = num_foreground_labels * (num_foreground_labels <= 2*max_objects) + 0 * (num_foreground_labels > 2*max_objects)\n",
    "    \n",
    "    triangle_mae[d] = (triangle_estimated_counts[d] - true_counts).abs().mean()"
   ]
  },
  {
   "cell_type": "code",
   "execution_count": 8,
   "metadata": {},
   "outputs": [
    {
     "data": {
      "text/plain": [
       "tensor([[1.0000, 3.0000, 5.0000, 7.0000, 9.0000],\n",
       "        [1.6700, 0.8590, 0.8190, 0.8370, 1.1440]])"
      ]
     },
     "execution_count": 8,
     "metadata": {},
     "output_type": "execute_result"
    }
   ],
   "source": [
    "torch.stack((torch.tensor(min_distances).cpu(), triangle_mae))"
   ]
  },
  {
   "cell_type": "markdown",
   "metadata": {},
   "source": [
    "### Write results"
   ]
  },
  {
   "cell_type": "markdown",
   "metadata": {},
   "source": [
    "We'll use Li's method and set `min_distance = 5` during peak-finding since this combination achieved the lowest mean absolute error."
   ]
  },
  {
   "cell_type": "code",
   "execution_count": 9,
   "metadata": {},
   "outputs": [],
   "source": [
    "torch.save(li_estimated_counts[:,2], 'results/watershed_estimated_counts.pt')"
   ]
  }
 ],
 "metadata": {
  "kernelspec": {
   "display_name": "Python 3",
   "language": "python",
   "name": "python3"
  },
  "language_info": {
   "codemirror_mode": {
    "name": "ipython",
    "version": 3
   },
   "file_extension": ".py",
   "mimetype": "text/x-python",
   "name": "python",
   "nbconvert_exporter": "python",
   "pygments_lexer": "ipython3",
   "version": "3.10.12"
  }
 },
 "nbformat": 4,
 "nbformat_minor": 2
}
