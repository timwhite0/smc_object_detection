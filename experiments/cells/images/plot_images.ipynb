{
 "cells": [
  {
   "cell_type": "code",
   "execution_count": 1,
   "metadata": {},
   "outputs": [
    {
     "name": "stderr",
     "output_type": "stream",
     "text": [
      "/home/twhit/.local/lib/python3.10/site-packages/matplotlib/projections/__init__.py:63: UserWarning: Unable to import Axes3D. This may be due to multiple versions of Matplotlib being installed (e.g. as a system package and as a pip package). As a result, the 3D projection is not available.\n",
      "  warnings.warn(\"Unable to import Axes3D. This may be due to multiple versions of \"\n"
     ]
    }
   ],
   "source": [
    "device = \"cpu\"\n",
    "\n",
    "import matplotlib.pyplot as plt\n",
    "import seaborn as snss\n",
    "import torch"
   ]
  },
  {
   "cell_type": "markdown",
   "metadata": {},
   "source": [
    "### Load synthetic images"
   ]
  },
  {
   "cell_type": "code",
   "execution_count": 4,
   "metadata": {},
   "outputs": [],
   "source": [
    "true_counts = torch.load(\"true_counts.pt\").to(device)\n",
    "true_fluors = torch.load(\"true_fluors.pt\").to(device)\n",
    "true_locs = torch.load(\"true_locs.pt\").to(device)\n",
    "true_axes = torch.load(\"true_axes.pt\").to(device)\n",
    "true_angles = torch.load(\"true_angles.pt\").to(device)\n",
    "true_total_intensities = torch.load(\"true_total_intensities.pt\").to(device)\n",
    "images = torch.load(\"images.pt\").to(device)"
   ]
  }
 ],
 "metadata": {
  "kernelspec": {
   "display_name": "Python 3",
   "language": "python",
   "name": "python3"
  },
  "language_info": {
   "codemirror_mode": {
    "name": "ipython",
    "version": 3
   },
   "file_extension": ".py",
   "mimetype": "text/x-python",
   "name": "python",
   "nbconvert_exporter": "python",
   "pygments_lexer": "ipython3",
   "version": "3.10.12"
  }
 },
 "nbformat": 4,
 "nbformat_minor": 2
}
