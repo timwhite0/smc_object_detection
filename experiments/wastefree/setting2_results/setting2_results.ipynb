{
 "cells": [
  {
   "cell_type": "code",
   "execution_count": null,
   "metadata": {},
   "outputs": [],
   "source": [
    "import matplotlib.pyplot as plt\n",
    "import seaborn as sns\n",
    "import torch\n",
    "\n",
    "# torch.cuda.is_available()\n",
    "device = torch.device(\"cuda:6\" if torch.cuda.is_available() else \"cpu\")\n",
    "torch.cuda.set_device(device)\n",
    "torch.set_default_device(device)"
   ]
  },
  {
   "cell_type": "markdown",
   "metadata": {},
   "source": [
    "### Load results"
   ]
  },
  {
   "cell_type": "code",
   "execution_count": null,
   "metadata": {},
   "outputs": [],
   "source": [
    "true_counts = torch.load(\"../images/setting2_true_counts.pt\").to(device)\n",
    "true_fluxes = torch.load(\"../images/setting2_true_fluxes.pt\").to(device)\n",
    "true_locs = torch.load(\"../images/setting2_true_locs.pt\").to(device)\n",
    "true_total_intensities = torch.load(\"../images/setting2_true_total_intensities.pt\").to(device)\n",
    "images = torch.load(\"../images/setting2_images.pt\").to(device)\n",
    "\n",
    "N0 = 20000\n",
    "kernel_num_iters = ...\n",
    "catalogs_per_block = ...\n",
    "setting2_std_posterior_mean_count = torch.load(\"./setting2_std_posterior_mean_count.pt\").to(device)\n",
    "setting2_std_posterior_mean_total_flux = torch.load(\"./setting2_std_posterior_mean_total_flux.pt\").to(device)\n",
    "setting2_std_log_normalizing_constant = torch.load(\"./setting2_std_log_normalizing_constant.pt\").to(device)\n",
    "setting2_std_runtime = torch.load(\"./setting2_std_runtime.pt\").to(device)\n",
    "setting2_std_num_iters = torch.load(\"./setting2_std_num_iters.pt\").to(device)\n",
    "\n",
    "wastefree_M = ...\n",
    "setting2_wf_posterior_mean_count = torch.load(\"./setting2_wf_posterior_mean_count.pt\").to(device)\n",
    "setting2_wf_posterior_mean_total_flux = torch.load(\"./setting2_wf_posterior_mean_total_flux.pt\").to(device)\n",
    "setting2_wf_log_normalizing_constant = torch.load(\"./setting2_wf_log_normalizing_constant.pt\").to(device)\n",
    "setting2_wf_runtime = torch.load(\"./setting2_wf_runtime.pt\").to(device)\n",
    "setting2_wf_num_iters = torch.load(\"./setting2_wf_num_iters.pt\").to(device)"
   ]
  }
 ],
 "metadata": {
  "kernelspec": {
   "display_name": "Python 3",
   "language": "python",
   "name": "python3"
  },
  "language_info": {
   "codemirror_mode": {
    "name": "ipython",
    "version": 3
   },
   "file_extension": ".py",
   "mimetype": "text/x-python",
   "name": "python",
   "nbconvert_exporter": "python",
   "pygments_lexer": "ipython3",
   "version": "3.10.12"
  }
 },
 "nbformat": 4,
 "nbformat_minor": 2
}
