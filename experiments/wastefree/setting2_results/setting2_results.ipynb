{
 "cells": [
  {
   "cell_type": "code",
   "execution_count": null,
   "metadata": {},
   "outputs": [],
   "source": [
    "import matplotlib.pyplot as plt\n",
    "import seaborn as sns\n",
    "import torch\n",
    "\n",
    "# torch.cuda.is_available()\n",
    "# device = torch.device(\"cuda:6\" if torch.cuda.is_available() else \"cpu\")\n",
    "# torch.cuda.set_device(device)\n",
    "# torch.set_default_device(device)\n",
    "device=\"cpu\""
   ]
  },
  {
   "cell_type": "markdown",
   "metadata": {},
   "source": [
    "## Load results"
   ]
  },
  {
   "cell_type": "code",
   "execution_count": null,
   "metadata": {},
   "outputs": [],
   "source": [
    "true_counts = torch.load(\"../images/setting2_true_counts.pt\").to(device)\n",
    "true_fluxes = torch.load(\"../images/setting2_true_fluxes.pt\").to(device)\n",
    "true_locs = torch.load(\"../images/setting2_true_locs.pt\").to(device)\n",
    "true_total_intensities = torch.load(\"../images/setting2_true_total_intensities.pt\").to(device)\n",
    "images = torch.load(\"../images/setting2_images.pt\").to(device)\n",
    "true_total_observed_flux = (images - 19200).sum([1,2])\n",
    "\n",
    "N0 = 20000\n",
    "kernel_num_iters = 100\n",
    "catalogs_per_block = 100\n",
    "setting2_std_posterior_mean_count = torch.load(\"./setting2_std_posterior_mean_count.pt\", map_location=torch.device('cpu')).to(device)\n",
    "setting2_std_posterior_mean_total_flux = torch.load(\"./setting2_std_posterior_mean_total_flux.pt\", map_location=torch.device('cpu')).to(device)\n",
    "setting2_std_log_normalizing_constant = torch.load(\"./setting2_std_log_normalizing_constant.pt\", map_location=torch.device('cpu')).to(device)\n",
    "setting2_std_runtime = torch.load(\"./setting2_std_runtime.pt\", map_location=torch.device('cpu')).to(device)\n",
    "setting2_std_num_iters = torch.load(\"./setting2_std_num_iters.pt\", map_location=torch.device('cpu')).to(device)\n",
    "\n",
    "wastefree_M = 80\n",
    "setting2_wf_posterior_mean_count = torch.load(\"./setting2_wf_posterior_mean_count.pt\", map_location=torch.device('cpu')).to(device)\n",
    "setting2_wf_posterior_mean_total_flux = torch.load(\"./setting2_wf_posterior_mean_total_flux.pt\", map_location=torch.device('cpu')).to(device)\n",
    "setting2_wf_log_normalizing_constant = torch.load(\"./setting2_wf_log_normalizing_constant.pt\", map_location=torch.device('cpu')).to(device)\n",
    "setting2_wf_runtime = torch.load(\"./setting2_wf_runtime.pt\", map_location=torch.device('cpu')).to(device)\n",
    "setting2_wf_num_iters = torch.load(\"./setting2_wf_num_iters.pt\", map_location=torch.device('cpu')).to(device)"
   ]
  },
  {
   "cell_type": "markdown",
   "metadata": {},
   "source": [
    "## Standard results"
   ]
  },
  {
   "cell_type": "code",
   "execution_count": null,
   "metadata": {},
   "outputs": [],
   "source": [
    "print(f\"RMSE (source count) across {images.shape[0]} images:\", ((setting2_std_posterior_mean_count - true_counts)**2).mean().sqrt().item())\n",
    "print(f\"MAE (source count) across {images.shape[0]} images:\", ((setting2_std_posterior_mean_count - true_counts).abs()).mean().item())\n",
    "print(f\"RMSE (total flux) across {images.shape[0]} images:\", ((setting2_std_posterior_mean_total_flux - true_total_observed_flux)**2).mean().sqrt().item())\n",
    "print(f\"MAE (total flux) across {images.shape[0]} images:\", ((setting2_std_posterior_mean_total_flux - true_total_observed_flux).abs()).mean().item())\n",
    "print(f\"correct number of sources detected in {(setting2_std_posterior_mean_count.round() == true_counts).sum()} of the {images.shape[0]} images (accuracy = {(setting2_std_posterior_mean_count.round() == true_counts).sum()/images.shape[0]})\")\n",
    "print(f\"number of iterations: mean = {setting2_std_num_iters.mean().int()}, minimum = {setting2_std_num_iters.min().int()}, median = {setting2_std_num_iters.median().int()}, maximum = {setting2_std_num_iters.max().int()}\")\n",
    "print(f\"runtime: mean = {setting2_std_runtime.mean().int()}, minimum = {setting2_std_runtime.min().int()}, median = {setting2_std_runtime.median().int()}, maximum = {setting2_std_runtime.max().int()}\")"
   ]
  },
  {
   "cell_type": "markdown",
   "metadata": {},
   "source": [
    "## Waste-free results"
   ]
  },
  {
   "cell_type": "code",
   "execution_count": null,
   "metadata": {},
   "outputs": [],
   "source": [
    "print(f\"RMSE (source count) across {images.shape[0]} images:\", ((setting2_wf_posterior_mean_count - true_counts)**2).mean().sqrt().item())\n",
    "print(f\"MAE (source count) across {images.shape[0]} images:\", ((setting2_wf_posterior_mean_count - true_counts).abs()).mean().item())\n",
    "print(f\"RMSE (total flux) across {images.shape[0]} images:\", ((setting2_wf_posterior_mean_total_flux - true_total_observed_flux)**2).mean().sqrt().item())\n",
    "print(f\"MAE (total flux) across {images.shape[0]} images:\", ((setting2_wf_posterior_mean_total_flux - true_total_observed_flux).abs()).mean().item())\n",
    "print(f\"correct number of sources detected in {(setting2_wf_posterior_mean_count.round() == true_counts).sum()} of the {images.shape[0]} images (accuracy = {(setting2_wf_posterior_mean_count.round() == true_counts).sum()/images.shape[0]})\")\n",
    "print(f\"number of iterations: mean = {setting2_wf_num_iters.mean().int()}, minimum = {setting2_wf_num_iters.min().int()}, median = {setting2_wf_num_iters.median().int()}, maximum = {setting2_wf_num_iters.max().int()}\")\n",
    "print(f\"runtime: mean = {setting2_wf_runtime.mean().int()}, minimum = {setting2_wf_runtime.min().int()}, median = {setting2_wf_runtime.median().int()}, maximum = {setting2_wf_runtime.max().int()}\")"
   ]
  },
  {
   "cell_type": "markdown",
   "metadata": {},
   "source": [
    "## Plots"
   ]
  },
  {
   "cell_type": "code",
   "execution_count": null,
   "metadata": {},
   "outputs": [],
   "source": [
    "max_objects = 9\n",
    "\n",
    "wf_num_correct_by_count = torch.zeros(max_objects)\n",
    "wf_prop_correct_by_count = torch.zeros(max_objects)\n",
    "std_num_correct_by_count = torch.zeros(max_objects)\n",
    "std_prop_correct_by_count = torch.zeros(max_objects)\n",
    "wf_mean_estimated_count_by_count = torch.zeros(max_objects)\n",
    "std_mean_estimated_count_by_count = torch.zeros(max_objects)\n",
    "wf_mae_by_count =  torch.zeros(max_objects)\n",
    "std_mae_by_count =  torch.zeros(max_objects)\n",
    "\n",
    "for num in range(max_objects):\n",
    "    wf_num_correct_by_count[num] = (setting2_wf_posterior_mean_count[true_counts==num].round() == true_counts[true_counts==num]).sum()\n",
    "    wf_prop_correct_by_count[num] = wf_num_correct_by_count[num]/(true_counts==num).sum()\n",
    "    \n",
    "    std_num_correct_by_count[num] = (setting2_std_posterior_mean_count[true_counts==num].round() == true_counts[true_counts==num]).sum()\n",
    "    std_prop_correct_by_count[num] = std_num_correct_by_count[num]/(true_counts==num).sum()\n",
    "    \n",
    "    \n",
    "    wf_mean_estimated_count_by_count[num] = setting2_wf_posterior_mean_count[true_counts==num].mean()\n",
    "    std_mean_estimated_count_by_count[num] = setting2_std_posterior_mean_count[true_counts==num].mean()\n",
    "    \n",
    "    wf_mae_by_count[num] = ((setting2_wf_posterior_mean_count[true_counts==num] - true_counts[true_counts==num]).abs()).mean()\n",
    "    std_mae_by_count[num] = ((setting2_std_posterior_mean_count[true_counts==num] - true_counts[true_counts==num]).abs()).mean()"
   ]
  },
  {
   "cell_type": "code",
   "execution_count": null,
   "metadata": {},
   "outputs": [],
   "source": [
    "dot_size = 75\n",
    "line_width = 2\n",
    "text_size = 12\n",
    "\n",
    "wf_color = \"blue\"\n",
    "std_color = \"red\"\n",
    "\n",
    "range_max_objects = torch.arange(max_objects, device=\"cpu\")\n",
    "\n",
    "fig2, [[fig2a,fig2b],[fig2c,fig2d]] = plt.subplots(nrows = 2, ncols = 2, figsize = (15,14))\n",
    "\n",
    "fig2a.plot(range_max_objects, wf_prop_correct_by_count.cpu(), label = \"Waste-free\", color = \"blue\", linewidth = line_width)\n",
    "fig2a.scatter(range_max_objects, wf_prop_correct_by_count.cpu(), color = \"blue\", s = dot_size)\n",
    "\n",
    "fig2a.plot(range_max_objects, std_prop_correct_by_count.cpu(), label = \"Standard\", color = \"red\", linewidth = line_width)\n",
    "fig2a.scatter(range_max_objects, std_prop_correct_by_count.cpu(), color = \"red\", s = dot_size)\n",
    "\n",
    "fig2a.set_xlabel(\"True number of sources\", fontsize = text_size)\n",
    "fig2a.set_ylabel(\"Classification accuracy\", fontsize = text_size)\n",
    "fig2a.legend(ncol=2, fancybox=True, loc=\"upper center\", bbox_to_anchor=(0.5,1.155), fontsize = text_size)\n",
    "\n",
    "\n",
    "\n",
    "fig2b.plot(range_max_objects, wf_mean_estimated_count_by_count.cpu(), color = wf_color, label = \"Waste-free\", linewidth = line_width)\n",
    "fig2b.scatter(range_max_objects, wf_mean_estimated_count_by_count.cpu(), color = wf_color, s = dot_size)\n",
    "\n",
    "fig2b.plot(range_max_objects, std_mean_estimated_count_by_count.cpu(), color = std_color, label = \"Standard\", linewidth = line_width)\n",
    "fig2b.scatter(range_max_objects, std_mean_estimated_count_by_count.cpu(), color = std_color, s = dot_size)\n",
    "fig2b.set_xlabel(\"True number of sources\", fontsize = text_size)\n",
    "fig2b.set_ylabel(\"Estimated number of sources\", fontsize = text_size)\n",
    "\n",
    "\n",
    "fig2c.plot(range_max_objects, (wf_mae_by_count + wf_mae_by_count[0]).cpu(), label = \"Waste-free\", color = wf_color, linewidth = line_width)\n",
    "fig2c.scatter(range_max_objects, wf_mae_by_count.cpu(), color = wf_color, s = dot_size)\n",
    "\n",
    "fig2c.plot(range_max_objects, (std_mae_by_count + std_mae_by_count[0]).cpu(), label = \"Standard\", color = std_color, linewidth = line_width)\n",
    "fig2c.scatter(range_max_objects, std_mae_by_count.cpu(), color = std_color, s = dot_size)\n",
    "fig2c.set_xlabel(\"True number of sources\", fontsize = text_size)\n",
    "fig2c.set_ylabel(\"Mean absolute error\", fontsize = text_size)\n",
    "\n",
    "fig2d.scatter(true_total_observed_flux, setting2_std_posterior_mean_total_flux,color = std_color)\n",
    "fig2d.scatter(true_total_observed_flux, setting2_wf_posterior_mean_total_flux,color = wf_color)\n",
    "#how does this one work? "
   ]
  }
 ],
 "metadata": {
  "kernelspec": {
   "display_name": "Python 3 (ipykernel)",
   "language": "python",
   "name": "python3"
  },
  "language_info": {
   "codemirror_mode": {
    "name": "ipython",
    "version": 3
   },
   "file_extension": ".py",
   "mimetype": "text/x-python",
   "name": "python",
   "nbconvert_exporter": "python",
   "pygments_lexer": "ipython3",
   "version": "3.10.12"
  }
 },
 "nbformat": 4,
 "nbformat_minor": 2
}
