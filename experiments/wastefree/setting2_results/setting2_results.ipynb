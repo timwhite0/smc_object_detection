{
 "cells": [
  {
   "cell_type": "code",
   "execution_count": 1,
   "metadata": {},
   "outputs": [
    {
     "name": "stderr",
     "output_type": "stream",
     "text": [
      "/usr/lib/python3/dist-packages/scipy/__init__.py:146: UserWarning: A NumPy version >=1.17.3 and <1.25.0 is required for this version of SciPy (detected version 1.26.3\n",
      "  warnings.warn(f\"A NumPy version >={np_minversion} and <{np_maxversion}\"\n"
     ]
    }
   ],
   "source": [
    "import matplotlib.pyplot as plt\n",
    "import seaborn as sns\n",
    "import torch\n",
    "\n",
    "# torch.cuda.is_available()\n",
    "# device = torch.device(\"cuda:6\" if torch.cuda.is_available() else \"cpu\")\n",
    "# torch.cuda.set_device(device)\n",
    "# torch.set_default_device(device)\n",
    "device=\"cpu\""
   ]
  },
  {
   "cell_type": "markdown",
   "metadata": {},
   "source": [
    "## Load results"
   ]
  },
  {
   "cell_type": "code",
   "execution_count": 2,
   "metadata": {},
   "outputs": [],
   "source": [
    "true_counts = torch.load(\"../images/setting2_true_counts.pt\").to(device)\n",
    "true_fluxes = torch.load(\"../images/setting2_true_fluxes.pt\").to(device)\n",
    "true_locs = torch.load(\"../images/setting2_true_locs.pt\").to(device)\n",
    "true_total_intensities = torch.load(\"../images/setting2_true_total_intensities.pt\").to(device)\n",
    "images = torch.load(\"../images/setting2_images.pt\").to(device)\n",
    "true_total_observed_flux = (images - 19200).sum([1,2])\n",
    "\n",
    "N0 = 20000\n",
    "kernel_num_iters = 100\n",
    "catalogs_per_block = 300\n",
    "setting2_std_posterior_mean_count = torch.load(\"./setting2_std_posterior_mean_count.pt\").to(device)\n",
    "setting2_std_posterior_mean_total_flux = torch.load(\"./setting2_std_posterior_mean_total_flux.pt\").to(device)\n",
    "setting2_std_log_normalizing_constant = torch.load(\"./setting2_std_log_normalizing_constant.pt\").to(device)\n",
    "setting2_std_runtime = torch.load(\"./setting2_std_runtime.pt\").to(device)\n",
    "setting2_std_num_iters = torch.load(\"./setting2_std_num_iters.pt\").to(device)\n",
    "\n",
    "wastefree_M = 125\n",
    "setting2_wf_posterior_mean_count = torch.load(\"./setting2_wf_posterior_mean_count.pt\").to(device)\n",
    "setting2_wf_posterior_mean_total_flux = torch.load(\"./setting2_wf_posterior_mean_total_flux.pt\").to(device)\n",
    "setting2_wf_log_normalizing_constant = torch.load(\"./setting2_wf_log_normalizing_constant.pt\").to(device)\n",
    "setting2_wf_runtime = torch.load(\"./setting2_wf_runtime.pt\").to(device)\n",
    "setting2_wf_num_iters = torch.load(\"./setting2_wf_num_iters.pt\").to(device)"
   ]
  },
  {
   "cell_type": "markdown",
   "metadata": {},
   "source": [
    "## Standard results"
   ]
  },
  {
   "cell_type": "code",
   "execution_count": 3,
   "metadata": {},
   "outputs": [
    {
     "name": "stdout",
     "output_type": "stream",
     "text": [
      "RMSE (source count) across 1000 images: 0.3703225553035736\n",
      "MAE (source count) across 1000 images: 0.1901659369468689\n",
      "RMSE (total flux) across 1000 images: 1486.6439208984375\n",
      "MAE (total flux) across 1000 images: 1138.0714111328125\n",
      "correct number of sources detected in 838 of the 1000 images (accuracy = 0.8379999995231628)\n",
      "number of iterations: mean = 46, minimum = 32, median = 42, maximum = 174\n",
      "runtime: mean = 22, minimum = 15, median = 19, maximum = 82\n"
     ]
    }
   ],
   "source": [
    "print(f\"RMSE (source count) across {images.shape[0]} images:\", ((setting2_std_posterior_mean_count - true_counts)**2).mean().sqrt().item())\n",
    "print(f\"MAE (source count) across {images.shape[0]} images:\", ((setting2_std_posterior_mean_count - true_counts).abs()).mean().item())\n",
    "print(f\"RMSE (total flux) across {images.shape[0]} images:\", ((setting2_std_posterior_mean_total_flux - true_total_observed_flux)**2).mean().sqrt().item())\n",
    "print(f\"MAE (total flux) across {images.shape[0]} images:\", ((setting2_std_posterior_mean_total_flux - true_total_observed_flux).abs()).mean().item())\n",
    "print(f\"correct number of sources detected in {(setting2_std_posterior_mean_count.round() == true_counts).sum()} of the {images.shape[0]} images (accuracy = {(setting2_std_posterior_mean_count.round() == true_counts).sum()/images.shape[0]})\")\n",
    "print(f\"number of iterations: mean = {setting2_std_num_iters.mean().int()}, minimum = {setting2_std_num_iters.min().int()}, median = {setting2_std_num_iters.median().int()}, maximum = {setting2_std_num_iters.max().int()}\")\n",
    "print(f\"runtime: mean = {setting2_std_runtime.mean().int()}, minimum = {setting2_std_runtime.min().int()}, median = {setting2_std_runtime.median().int()}, maximum = {setting2_std_runtime.max().int()}\")"
   ]
  },
  {
   "cell_type": "markdown",
   "metadata": {},
   "source": [
    "## Waste-free results"
   ]
  },
  {
   "cell_type": "code",
   "execution_count": 4,
   "metadata": {},
   "outputs": [
    {
     "name": "stdout",
     "output_type": "stream",
     "text": [
      "RMSE (source count) across 1000 images: 0.39367908239364624\n",
      "MAE (source count) across 1000 images: 0.2064833790063858\n",
      "RMSE (total flux) across 1000 images: 1621.427490234375\n",
      "MAE (total flux) across 1000 images: 1252.8985595703125\n",
      "correct number of sources detected in 815 of the 1000 images (accuracy = 0.8149999976158142)\n",
      "number of iterations: mean = 48, minimum = 32, median = 42, maximum = 177\n",
      "runtime: mean = 48, minimum = 32, median = 42, maximum = 175\n"
     ]
    }
   ],
   "source": [
    "print(f\"RMSE (source count) across {images.shape[0]} images:\", ((setting2_wf_posterior_mean_count - true_counts)**2).mean().sqrt().item())\n",
    "print(f\"MAE (source count) across {images.shape[0]} images:\", ((setting2_wf_posterior_mean_count - true_counts).abs()).mean().item())\n",
    "print(f\"RMSE (total flux) across {images.shape[0]} images:\", ((setting2_wf_posterior_mean_total_flux - true_total_observed_flux)**2).mean().sqrt().item())\n",
    "print(f\"MAE (total flux) across {images.shape[0]} images:\", ((setting2_wf_posterior_mean_total_flux - true_total_observed_flux).abs()).mean().item())\n",
    "print(f\"correct number of sources detected in {(setting2_wf_posterior_mean_count.round() == true_counts).sum()} of the {images.shape[0]} images (accuracy = {(setting2_wf_posterior_mean_count.round() == true_counts).sum()/images.shape[0]})\")\n",
    "print(f\"number of iterations: mean = {setting2_wf_num_iters.mean().int()}, minimum = {setting2_wf_num_iters.min().int()}, median = {setting2_wf_num_iters.median().int()}, maximum = {setting2_wf_num_iters.max().int()}\")\n",
    "print(f\"runtime: mean = {setting2_wf_runtime.mean().int()}, minimum = {setting2_wf_runtime.min().int()}, median = {setting2_wf_runtime.median().int()}, maximum = {setting2_wf_runtime.max().int()}\")"
   ]
  },
  {
   "cell_type": "markdown",
   "metadata": {},
   "source": [
    "## Plots"
   ]
  },
  {
   "cell_type": "code",
   "execution_count": null,
   "metadata": {},
   "outputs": [],
   "source": []
  }
 ],
 "metadata": {
  "kernelspec": {
   "display_name": "Python 3",
   "language": "python",
   "name": "python3"
  },
  "language_info": {
   "codemirror_mode": {
    "name": "ipython",
    "version": 3
   },
   "file_extension": ".py",
   "mimetype": "text/x-python",
   "name": "python",
   "nbconvert_exporter": "python",
   "pygments_lexer": "ipython3",
   "version": "3.10.12"
  }
 },
 "nbformat": 4,
 "nbformat_minor": 2
}
