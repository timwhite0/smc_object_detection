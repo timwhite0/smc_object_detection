{
 "cells": [
  {
   "cell_type": "code",
   "execution_count": null,
   "metadata": {},
   "outputs": [],
   "source": [
    "import matplotlib.pyplot as plt\n",
    "import seaborn as sns\n",
    "import torch\n",
    "\n",
    "# torch.cuda.is_available()\n",
    "device = torch.device(\"cuda:6\" if torch.cuda.is_available() else \"cpu\")\n",
    "torch.cuda.set_device(device)\n",
    "torch.set_default_device(device)"
   ]
  },
  {
   "cell_type": "markdown",
   "metadata": {},
   "source": [
    "### Load results"
   ]
  },
  {
   "cell_type": "code",
   "execution_count": null,
   "metadata": {},
   "outputs": [],
   "source": [
    "true_counts = torch.load(\"../images/setting1_true_counts.pt\")\n",
    "true_fluxes = torch.load(\"../images/setting1_true_fluxes.pt\")\n",
    "true_locs = torch.load(\"../images/setting1_true_locs.pt\")\n",
    "true_total_intensities = torch.load(\"../images/setting1_true_total_intensities.pt\")\n",
    "images = torch.load(\"../images/setting1_images.pt\")\n",
    "\n",
    "# smc_posterior_mean_count = torch.load(\"results/smc_posterior_mean_count.pt\")\n",
    "# smc_posterior_mean_total_flux = torch.load(\"results/smc_posterior_mean_total_flux.pt\")\n",
    "# smc_reconstruction = torch.load(\"results/smc_reconstruction.pt\")\n",
    "# smc_runtime = torch.load(\"results/smc_runtime.pt\")\n",
    "# smc_num_iters = torch.load(\"results/smc_num_iters.pt\")"
   ]
  }
 ],
 "metadata": {
  "kernelspec": {
   "display_name": "Python 3",
   "language": "python",
   "name": "python3"
  },
  "language_info": {
   "codemirror_mode": {
    "name": "ipython",
    "version": 3
   },
   "file_extension": ".py",
   "mimetype": "text/x-python",
   "name": "python",
   "nbconvert_exporter": "python",
   "pygments_lexer": "ipython3",
   "version": "3.10.12"
  }
 },
 "nbformat": 4,
 "nbformat_minor": 2
}
