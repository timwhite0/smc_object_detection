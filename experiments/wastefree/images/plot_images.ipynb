{
 "cells": [
  {
   "cell_type": "code",
   "execution_count": 1,
   "metadata": {},
   "outputs": [
    {
     "name": "stderr",
     "output_type": "stream",
     "text": [
      "/usr/lib/python3/dist-packages/scipy/__init__.py:146: UserWarning: A NumPy version >=1.17.3 and <1.25.0 is required for this version of SciPy (detected version 1.26.3\n",
      "  warnings.warn(f\"A NumPy version >={np_minversion} and <{np_maxversion}\"\n"
     ]
    }
   ],
   "source": [
    "import matplotlib.pyplot as plt\n",
    "import seaborn as sns\n",
    "import torch\n",
    "import matplotlib.gridspec as gridspec\n",
    "\n",
    "# torch.cuda.is_available()\n",
    "# device = torch.device(\"cuda:6\" if torch.cuda.is_available() else \"cpu\")\n",
    "#torch.cuda.set_device(device)\n",
    "# torch.set_default_device(device)\n",
    "device=\"cpu\""
   ]
  },
  {
   "cell_type": "markdown",
   "metadata": {},
   "source": [
    "### Load results"
   ]
  },
  {
   "cell_type": "code",
   "execution_count": 2,
   "metadata": {},
   "outputs": [],
   "source": [
    "true_counts = torch.load(\"setting1_true_counts.pt\").to(device)\n",
    "true_fluxes = torch.load(\"setting1_true_fluxes.pt\").to(device)\n",
    "true_locs = torch.load(\"setting1_true_locs.pt\").to(device)\n",
    "true_total_intensities = torch.load(\"setting1_true_total_intensities.pt\").to(device)\n",
    "images = torch.load(\"setting1_images.pt\").to(device)\n",
    "true_total_observed_flux = (images - 19200).sum([1,2])"
   ]
  },
  {
   "cell_type": "markdown",
   "metadata": {},
   "source": [
    "### $s=2$"
   ]
  },
  {
   "cell_type": "code",
   "execution_count": 3,
   "metadata": {},
   "outputs": [
    {
     "data": {
      "image/png": "[encoded data removed]",
      "text/plain": [
       "<Figure size 432x288 with 1 Axes>"
      ]
     },
     "metadata": {},
     "output_type": "display_data"
    }
   ],
   "source": [
    "fig, ax = plt.subplots(1,1)\n",
    "_ = plt.imshow(images[0])\n",
    "_ = plt.xticks([])\n",
    "_ = plt.yticks([])\n",
    "_ = ax.scatter(x = true_locs[0][:2,1] - 0.5, y = true_locs[0][:2,0] - 0.5, color=\"r\", marker=\"x\", s=100)\n",
    "fig.savefig('image_s2.png')"
   ]
  },
  {
   "cell_type": "markdown",
   "metadata": {},
   "source": [
    "### $s=4$"
   ]
  },
  {
   "cell_type": "code",
   "execution_count": 4,
   "metadata": {},
   "outputs": [
    {
     "data": {
      "image/png": "[encoded data removed]",
      "text/plain": [
       "<Figure size 432x288 with 1 Axes>"
      ]
     },
     "metadata": {},
     "output_type": "display_data"
    }
   ],
   "source": [
    "fig, ax = plt.subplots(1,1)\n",
    "_ = plt.imshow(images[1])\n",
    "_ = plt.xticks([])\n",
    "_ = plt.yticks([])\n",
    "_ = ax.scatter(x = true_locs[1][:4,1] - 0.5, y = true_locs[1][:4,0] - 0.5, color=\"r\", marker=\"x\", s=100)\n",
    "fig.savefig('image_s4.png')"
   ]
  },
  {
   "cell_type": "markdown",
   "metadata": {},
   "source": [
    "### $s=6$"
   ]
  },
  {
   "cell_type": "code",
   "execution_count": 5,
   "metadata": {},
   "outputs": [
    {
     "data": {
      "image/png": "[encoded data removed]",
      "text/plain": [
       "<Figure size 432x288 with 1 Axes>"
      ]
     },
     "metadata": {},
     "output_type": "display_data"
    }
   ],
   "source": [
    "fig, ax = plt.subplots(1,1)\n",
    "_ = plt.imshow(images[2])\n",
    "_ = plt.xticks([])\n",
    "_ = plt.yticks([])\n",
    "_ = ax.scatter(x = true_locs[2][:6,1] - 0.5, y = true_locs[2][:6,0] - 0.5, color=\"r\", marker=\"x\", s=100)\n",
    "fig.savefig('image_s6.png')"
   ]
  },
  {
   "cell_type": "markdown",
   "metadata": {},
   "source": [
    "### $s=8$"
   ]
  },
  {
   "cell_type": "code",
   "execution_count": 6,
   "metadata": {},
   "outputs": [
    {
     "data": {
      "image/png": "[encoded data removed]",
      "text/plain": [
       "<Figure size 432x288 with 1 Axes>"
      ]
     },
     "metadata": {},
     "output_type": "display_data"
    }
   ],
   "source": [
    "fig, ax = plt.subplots(1,1)\n",
    "_ = plt.imshow(images[3])\n",
    "_ = plt.xticks([])\n",
    "_ = plt.yticks([])\n",
    "_ = ax.scatter(x = true_locs[3][:8,1] - 0.5, y = true_locs[3][:8,0] - 0.5, color=\"r\", marker=\"x\", s=100)\n",
    "fig.savefig('image_s8.png')"
   ]
  }
 ],
 "metadata": {
  "kernelspec": {
   "display_name": "Python 3 (ipykernel)",
   "language": "python",
   "name": "python3"
  },
  "language_info": {
   "codemirror_mode": {
    "name": "ipython",
    "version": 3
   },
   "file_extension": ".py",
   "mimetype": "text/x-python",
   "name": "python",
   "nbconvert_exporter": "python",
   "pygments_lexer": "ipython3",
   "version": "3.10.12"
  }
 },
 "nbformat": 4,
 "nbformat_minor": 2
}
