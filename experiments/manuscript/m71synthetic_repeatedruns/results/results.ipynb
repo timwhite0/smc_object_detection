{
 "cells": [
  {
   "cell_type": "markdown",
   "metadata": {},
   "source": [
    "---"
   ]
  },
  {
   "cell_type": "code",
   "execution_count": null,
   "metadata": {},
   "outputs": [],
   "source": [
    "import sys\n",
    "sys.path.append(\"/home/twhit/smc_object_detection/\")\n",
    "\n",
    "import torch\n",
    "import numpy as np\n",
    "import matplotlib.pyplot as plt\n",
    "\n",
    "import pickle\n",
    "from smc.prior import M71Prior\n",
    "\n",
    "from utils.misc import select_cuda_device\n",
    "\n",
    "device = select_cuda_device()"
   ]
  },
  {
   "cell_type": "markdown",
   "metadata": {},
   "source": [
    "### Load in ground truth"
   ]
  },
  {
   "cell_type": "code",
   "execution_count": null,
   "metadata": {},
   "outputs": [],
   "source": [
    "images = torch.load(\"../data/images.pt\").to(device)\n",
    "unpruned_counts = torch.load(\"../data/unpruned_counts.pt\").to(device)\n",
    "pruned_counts = torch.load(\"../data/pruned_counts.pt\").to(device)\n",
    "unpruned_fluxes = torch.load(\"../data/unpruned_fluxes.pt\").to(device)\n",
    "pruned_fluxes = torch.load(\"../data/pruned_fluxes.pt\").to(device)"
   ]
  },
  {
   "cell_type": "markdown",
   "metadata": {},
   "source": [
    "### Load in SMC results from repeated runs"
   ]
  },
  {
   "cell_type": "code",
   "execution_count": null,
   "metadata": {},
   "outputs": [],
   "source": [
    "num_images = images.shape[0]\n",
    "num_catalogs_per_count = [2500, 5000, 10000]\n",
    "num_mh_iters = [25, 50, 100]\n",
    "num_runs = 100\n",
    "max_objects = 6"
   ]
  },
  {
   "cell_type": "code",
   "execution_count": null,
   "metadata": {},
   "outputs": [],
   "source": [
    "runtime = torch.zeros(num_images, len(num_catalogs_per_count), len(num_mh_iters), num_runs)\n",
    "num_iters = torch.zeros(num_images, len(num_catalogs_per_count), len(num_mh_iters), num_runs)\n",
    "log_norm_const = torch.zeros(num_images, len(num_catalogs_per_count), len(num_mh_iters), num_runs, max_objects + 1)\n",
    "total_intrinsic_flux = torch.zeros(num_images, len(num_catalogs_per_count), len(num_mh_iters), num_runs)\n",
    "\n",
    "for i in range(num_images):\n",
    "    for c in range(len(num_catalogs_per_count)):\n",
    "        for m in range(len(num_mh_iters)):\n",
    "            runtime[i,c,m] = torch.load(f'smc/runtime_image{i+1}_cats{num_catalogs_per_count[c]}_mh{num_mh_iters[m]}.pt')\n",
    "            num_iters[i,c,m] = torch.load(f'smc/num_iters_image{i+1}_cats{num_catalogs_per_count[c]}_mh{num_mh_iters[m]}.pt')\n",
    "            log_norm_const[i,c,m] = torch.load(f'smc/log_norm_const_image{i+1}_cats{num_catalogs_per_count[c]}_mh{num_mh_iters[m]}.pt')\n",
    "            total_intrinsic_flux[i,c,m] = torch.load(f'smc/total_intrinsic_flux_image{i+1}_cats{num_catalogs_per_count[c]}_mh{num_mh_iters[m]}.pt').mean(-1)"
   ]
  },
  {
   "cell_type": "markdown",
   "metadata": {},
   "source": [
    "### Plot attributes"
   ]
  },
  {
   "cell_type": "code",
   "execution_count": null,
   "metadata": {},
   "outputs": [],
   "source": [
    "smc_color = \"steelblue\"\n",
    "\n",
    "bigfont = 20\n",
    "mediumfont = 16\n",
    "smallfont = 14\n",
    "\n",
    "mh_colors = ['cadetblue', 'darkorange', 'rebeccapurple']\n",
    "mh_markers = ['s', 'o', 'D']\n",
    "\n",
    "ms = 6\n",
    "elinewidth = 3\n",
    "capsize = 6\n",
    "capthick = 3"
   ]
  },
  {
   "cell_type": "markdown",
   "metadata": {},
   "source": [
    "---"
   ]
  },
  {
   "cell_type": "code",
   "execution_count": null,
   "metadata": {},
   "outputs": [],
   "source": [
    "log_norm_const_estimate = log_norm_const.median(-2).values\n",
    "log_norm_const_lower = log_norm_const.quantile(0.05, dim = -2)\n",
    "log_norm_const_upper = log_norm_const.quantile(0.95, dim = -2)"
   ]
  },
  {
   "cell_type": "code",
   "execution_count": null,
   "metadata": {},
   "outputs": [],
   "source": [
    "with open(\"../../m71_manyimages/data/params.pkl\", \"rb\") as f:\n",
    "    params = pickle.load(f)\n",
    "\n",
    "tile_dim = 8\n",
    "pad = 1\n",
    "\n",
    "prior = M71Prior(\n",
    "    max_objects=6,\n",
    "    counts_rate=params[\"counts_rate\"] * ((tile_dim + 2 * pad) ** 2) / (tile_dim**2),\n",
    "    image_height=tile_dim,\n",
    "    image_width=tile_dim,\n",
    "    flux_alpha=params[\"flux_alpha\"],\n",
    "    flux_lower=params[\"flux_lower\"],\n",
    "    flux_upper=params[\"flux_upper\"],\n",
    "    pad=pad,\n",
    ")"
   ]
  },
  {
   "cell_type": "code",
   "execution_count": null,
   "metadata": {},
   "outputs": [],
   "source": [
    "prior_count_log_probs = prior.count_prior.log_prob(torch.arange(prior.num_counts))\n",
    "\n",
    "countprob_estimate = (prior_count_log_probs + log_norm_const).softmax(-1).median(-2).values\n",
    "countprob_lower = (prior_count_log_probs + log_norm_const).softmax(-1).quantile(0.05, dim = -2)\n",
    "countprob_upper = (prior_count_log_probs + log_norm_const).softmax(-1).quantile(0.95, dim = -2)"
   ]
  },
  {
   "cell_type": "markdown",
   "metadata": {},
   "source": [
    "---"
   ]
  },
  {
   "cell_type": "markdown",
   "metadata": {},
   "source": [
    "### Estimated marginal loglikelihood for the image with one source"
   ]
  },
  {
   "cell_type": "code",
   "execution_count": null,
   "metadata": {},
   "outputs": [],
   "source": [
    "fig, ax = plt.subplots(1, 3, figsize = (18, 6))\n",
    "\n",
    "i = 0\n",
    "\n",
    "count_index = log_norm_const_estimate[i,-1,-1].sort().indices[-5:].sort().values\n",
    "\n",
    "for c in range(len(num_catalogs_per_count)):\n",
    "        for m in range(len(num_mh_iters)):\n",
    "                median = log_norm_const_estimate[i,c,m][count_index].numpy()\n",
    "                _ = ax[c].errorbar(x = count_index + (m - 1) * 0.2,\n",
    "                                   y = median,\n",
    "                                   yerr = [median - log_norm_const_lower[i,c,m][count_index].numpy(),\n",
    "                                           log_norm_const_upper[i,c,m][count_index].numpy() - median],\n",
    "                                   linestyle = \"\", color = mh_colors[m], marker = mh_markers[m], label = num_mh_iters[m],\n",
    "                                   ms = ms, elinewidth = elinewidth, capsize = capsize, capthick = capthick)\n",
    "                _ = ax[c].set_ylim(1.001 * log_norm_const_lower[i,...,count_index].min(),\n",
    "                                   0.995 * log_norm_const_upper[i,...,count_index].max())\n",
    "                _ = ax[c].set_title(f'{num_catalogs_per_count[c]} catalogs per source count', fontsize = bigfont)\n",
    "                _ = ax[c].set_xlabel('Source count $s$', fontsize = bigfont)\n",
    "                _ = ax[c].set_ylabel('$\\log \\\\widehat{p}(x \\mid s)$', fontsize = bigfont)\n",
    "                _ = ax[c].tick_params(axis = 'both', labelsize = mediumfont)\n",
    "                if c == 0:\n",
    "                        _ = ax[c].legend(title = \"Number of MCMC iterations\", loc = 'lower left',\n",
    "                                         ncols = 3, columnspacing = 1, handletextpad = 0.1,\n",
    "                                         prop = {'size': smallfont}, title_fontsize = smallfont)\n",
    "\n",
    "fig.tight_layout()\n",
    "\n",
    "fig.savefig('figures/m71synthetic_repeatedruns_logpx1.png', dpi = 250, transparent = True)"
   ]
  },
  {
   "cell_type": "markdown",
   "metadata": {},
   "source": [
    "---"
   ]
  },
  {
   "cell_type": "markdown",
   "metadata": {},
   "source": [
    "### Posterior count probabilities for the image with one source"
   ]
  },
  {
   "cell_type": "code",
   "execution_count": null,
   "metadata": {},
   "outputs": [],
   "source": [
    "fig, ax = plt.subplots(1, 3, figsize = (18, 6))\n",
    "\n",
    "i = 0\n",
    "\n",
    "count_index = countprob_estimate[i,-1,-1].sort().indices[-5:].sort().values\n",
    "\n",
    "for c in range(len(num_catalogs_per_count)):\n",
    "        for m in range(len(num_mh_iters)):\n",
    "                median = countprob_estimate[i,c,m][count_index].numpy()\n",
    "                _ = ax[c].errorbar(x = count_index + (m - 1) * 0.2,\n",
    "                                y = median,\n",
    "                                yerr = [median - countprob_lower[i,c,m][count_index].numpy(),\n",
    "                                        countprob_upper[i,c,m][count_index].numpy() - median],\n",
    "                                linestyle = \"\", color = mh_colors[m], marker = mh_markers[m], label = num_mh_iters[m],\n",
    "                                ms = ms, elinewidth = elinewidth, capsize = capsize, capthick = capthick)\n",
    "                _ = ax[c].set_ylim(0, 1.05)\n",
    "                _ = ax[c].set_title(f'{num_catalogs_per_count[c]} catalogs per source count', fontsize = bigfont)\n",
    "                _ = ax[c].set_xlabel('Source count $s$', fontsize = bigfont)\n",
    "                _ = ax[c].set_ylabel('$\\widehat{p}(s \\mid x)$', fontsize = bigfont)\n",
    "                _ = ax[c].tick_params(axis = 'both', labelsize = mediumfont)\n",
    "                if c == 0:\n",
    "                        _ = ax[c].legend(title = \"Number of MCMC iterations\", loc = 'upper right',\n",
    "                                         ncols = 3, columnspacing = 1, handletextpad = 0.1,\n",
    "                                         prop = {'size': smallfont}, title_fontsize = smallfont)\n",
    "\n",
    "fig.tight_layout()\n",
    "\n",
    "fig.savefig('figures/m71synthetic_repeatedruns_countprob1.png', dpi = 250, transparent = True)"
   ]
  },
  {
   "cell_type": "markdown",
   "metadata": {},
   "source": [
    "---"
   ]
  },
  {
   "cell_type": "markdown",
   "metadata": {},
   "source": [
    "### Estimated marginal loglikelihood for the image with four sources"
   ]
  },
  {
   "cell_type": "code",
   "execution_count": null,
   "metadata": {},
   "outputs": [],
   "source": [
    "fig, ax = plt.subplots(1, 3, figsize = (18, 6))\n",
    "\n",
    "i = 1\n",
    "\n",
    "count_index = log_norm_const_estimate[i,-1,-1].sort().indices[-5:].sort().values\n",
    "\n",
    "for c in range(len(num_catalogs_per_count)):\n",
    "        for m in range(len(num_mh_iters)):\n",
    "                median = log_norm_const_estimate[i,c,m][count_index].numpy()\n",
    "                _ = ax[c].errorbar(x = count_index + (m - 1) * 0.2,\n",
    "                                   y = median,\n",
    "                                   yerr = [median - log_norm_const_lower[i,c,m][count_index].numpy(),\n",
    "                                           log_norm_const_upper[i,c,m][count_index].numpy() - median],\n",
    "                                   linestyle = \"\", color = mh_colors[m], marker = mh_markers[m], label = num_mh_iters[m],\n",
    "                                   ms = ms, elinewidth = elinewidth, capsize = capsize, capthick = capthick)\n",
    "                _ = ax[c].set_ylim(1.001 * log_norm_const_lower[i,...,count_index].min(),\n",
    "                                   0.999 * log_norm_const_upper[i,...,count_index].max())\n",
    "                _ = ax[c].set_title(f'{num_catalogs_per_count[c]} catalogs per source count', fontsize = bigfont)\n",
    "                _ = ax[c].set_xlabel('Source count $s$', fontsize = bigfont)\n",
    "                _ = ax[c].set_ylabel('$\\log \\\\widehat{p}(x \\mid s)$', fontsize = bigfont)\n",
    "                _ = ax[c].tick_params(axis = 'both', labelsize = mediumfont)\n",
    "                if c == 0:\n",
    "                        _ = ax[c].legend(title = \"Number of MCMC iterations\", loc = 'lower left',\n",
    "                                         ncols = 3, columnspacing = 1, handletextpad = 0.1,\n",
    "                                         prop = {'size': smallfont}, title_fontsize = smallfont)\n",
    "\n",
    "fig.tight_layout()\n",
    "\n",
    "fig.savefig('figures/m71synthetic_repeatedruns_logpx2.png', dpi = 250, transparent = True)"
   ]
  },
  {
   "cell_type": "markdown",
   "metadata": {},
   "source": [
    "---"
   ]
  },
  {
   "cell_type": "markdown",
   "metadata": {},
   "source": [
    "### Posterior count probabilities for the image with four sources"
   ]
  },
  {
   "cell_type": "code",
   "execution_count": null,
   "metadata": {},
   "outputs": [],
   "source": [
    "fig, ax = plt.subplots(1, 3, figsize = (18, 6))\n",
    "\n",
    "i = 1\n",
    "\n",
    "count_index = countprob_estimate[i,-1,-1].sort().indices[:].sort().values\n",
    "\n",
    "for c in range(len(num_catalogs_per_count)):\n",
    "        for m in range(len(num_mh_iters)):\n",
    "                median = countprob_estimate[i,c,m][count_index].numpy()\n",
    "                _ = ax[c].errorbar(x = count_index + (m - 1) * 0.2,\n",
    "                                y = median,\n",
    "                                yerr = [median - countprob_lower[i,c,m][count_index].numpy(),\n",
    "                                        countprob_upper[i,c,m][count_index].numpy() - median],\n",
    "                                linestyle = \"\", color = mh_colors[m], marker = mh_markers[m], label = num_mh_iters[m],\n",
    "                                ms = ms, elinewidth = elinewidth, capsize = capsize, capthick = capthick)\n",
    "                _ = ax[c].set_ylim(0, 1.05)\n",
    "                _ = ax[c].set_title(f'{num_catalogs_per_count[c]} catalogs per source count', fontsize = bigfont)\n",
    "                _ = ax[c].set_xlabel('Source count $s$', fontsize = bigfont)\n",
    "                _ = ax[c].set_ylabel('$\\widehat{p}(s \\mid x)$', fontsize = bigfont)\n",
    "                _ = ax[c].tick_params(axis = 'both', labelsize = mediumfont)\n",
    "                if c == 0:\n",
    "                        _ = ax[c].legend(title = \"Number of MCMC iterations\", loc = 'upper right',\n",
    "                                         ncols = 3, columnspacing = 1, handletextpad = 0.1,\n",
    "                                         prop = {'size': smallfont}, title_fontsize = smallfont)\n",
    "\n",
    "fig.tight_layout()\n",
    "\n",
    "fig.savefig('figures/m71synthetic_repeatedruns_countprob2.png', dpi = 250, transparent = True)"
   ]
  },
  {
   "cell_type": "markdown",
   "metadata": {},
   "source": [
    "---"
   ]
  }
 ],
 "metadata": {
  "kernelspec": {
   "display_name": ".venv",
   "language": "python",
   "name": "python3"
  },
  "language_info": {
   "codemirror_mode": {
    "name": "ipython",
    "version": 3
   },
   "file_extension": ".py",
   "mimetype": "text/x-python",
   "name": "python",
   "nbconvert_exporter": "python",
   "pygments_lexer": "ipython3",
   "version": "3.10.12"
  }
 },
 "nbformat": 4,
 "nbformat_minor": 2
}
