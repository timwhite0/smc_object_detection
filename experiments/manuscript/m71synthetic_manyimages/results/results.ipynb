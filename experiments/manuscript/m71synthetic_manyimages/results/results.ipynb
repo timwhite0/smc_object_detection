{
 "cells": [
  {
   "cell_type": "markdown",
   "metadata": {},
   "source": [
    "---"
   ]
  },
  {
   "cell_type": "code",
   "execution_count": null,
   "metadata": {},
   "outputs": [],
   "source": [
    "import torch\n",
    "import glob\n",
    "import numpy as np\n",
    "import matplotlib.pyplot as plt\n",
    "import seaborn as sns\n",
    "\n",
    "import sys\n",
    "sys.path.append(\"/home/twhit/smc_object_detection/\")\n",
    "from utils.misc import select_cuda_device\n",
    "from smc.prior import ParetoStarPrior\n",
    "from smc.images import ImageModel\n",
    "from smc.aggregate import Aggregate\n",
    "\n",
    "device = select_cuda_device()"
   ]
  },
  {
   "cell_type": "markdown",
   "metadata": {},
   "source": [
    "### Specify prior and likelihood parameters"
   ]
  },
  {
   "cell_type": "code",
   "execution_count": null,
   "metadata": {},
   "outputs": [],
   "source": [
    "tile_dim = 8\n",
    "pad = 1"
   ]
  },
  {
   "cell_type": "markdown",
   "metadata": {},
   "source": [
    "### Load in ground truth and SMC results"
   ]
  },
  {
   "cell_type": "code",
   "execution_count": null,
   "metadata": {},
   "outputs": [],
   "source": [
    "num_batches = len(glob.glob(\"smc/counts_*.pt\"))\n",
    "batch_size = 20\n",
    "num_images = num_batches * batch_size\n",
    "\n",
    "prior_max_objects = 6\n",
    "num_catalogs_per_count = 10000\n",
    "num_catalogs = num_catalogs_per_count * (prior_max_objects + 1)\n",
    "\n",
    "images = torch.load('../data/images.pt')[:num_images]\n",
    "pruned_counts = torch.load('../data/pruned_counts.pt')[:num_images]\n",
    "pruned_locs = torch.load('../data/pruned_locs.pt')[:num_images]\n",
    "pruned_fluxes = torch.load('../data/pruned_fluxes.pt')[:num_images]\n",
    "unpruned_counts = torch.load('../data/unpruned_counts.pt')[:num_images]\n",
    "unpruned_locs = torch.load('../data/unpruned_locs.pt')[:num_images]\n",
    "unpruned_fluxes = torch.load('../data/unpruned_fluxes.pt')[:num_images]\n",
    "\n",
    "smc_unpruned_counts = torch.zeros([num_batches, batch_size, num_catalogs])\n",
    "smc_unpruned_locs = torch.zeros([num_batches, batch_size, num_catalogs, prior_max_objects, 2])\n",
    "smc_unpruned_fluxes = torch.zeros([num_batches, batch_size, num_catalogs, prior_max_objects])\n",
    "smc_posterior_predictive_total_flux = torch.zeros([num_batches, batch_size, num_catalogs])\n",
    "smc_runtime = torch.zeros([num_batches, batch_size])\n",
    "smc_num_iters = torch.zeros([num_batches, batch_size])\n",
    "\n",
    "for b in range(num_batches):\n",
    "    smc_unpruned_counts[b] = torch.load(f'smc/counts_{b}.pt')\n",
    "    smc_unpruned_locs[b] = torch.load(f'smc/locs_{b}.pt')\n",
    "    smc_unpruned_fluxes[b] = torch.load(f'smc/fluxes_{b}.pt')\n",
    "    smc_posterior_predictive_total_flux[b] = torch.load(f'smc/posterior_predictive_total_flux_{b}.pt')\n",
    "    smc_runtime[b] = torch.load(f'smc/runtime_{b}.pt')\n",
    "    smc_num_iters[b] = torch.load(f'smc/num_iters_{b}.pt')\n",
    "\n",
    "smc_unpruned_counts = smc_unpruned_counts.flatten(0,1)\n",
    "smc_unpruned_locs = smc_unpruned_locs.flatten(0,1)\n",
    "smc_unpruned_fluxes = smc_unpruned_fluxes.flatten(0,1)\n",
    "smc_posterior_predictive_total_flux = smc_posterior_predictive_total_flux.flatten(0,1)\n",
    "smc_runtime = smc_runtime.flatten(0,1)\n",
    "smc_num_iters = smc_num_iters.flatten(0,1)"
   ]
  },
  {
   "cell_type": "code",
   "execution_count": null,
   "metadata": {},
   "outputs": [],
   "source": [
    "smc_mask = torch.logical_and(smc_unpruned_locs > 0, smc_unpruned_locs < tile_dim).all(-1)\n",
    "smc_pruned_counts = smc_mask.sum(-1)\n",
    "\n",
    "smc_pruned_locs = smc_mask.unsqueeze(-1) * smc_unpruned_locs\n",
    "smc_locs_mask = (smc_pruned_locs != 0).int()\n",
    "smc_locs_index = torch.sort(smc_locs_mask, dim=-2, descending=True)[1]\n",
    "smc_pruned_locs = torch.gather(smc_pruned_locs, dim=-2, index=smc_locs_index)\n",
    "\n",
    "smc_pruned_fluxes = smc_mask * smc_unpruned_fluxes\n",
    "smc_fluxes_mask = (smc_pruned_fluxes != 0).int()\n",
    "smc_fluxes_index = torch.sort(smc_fluxes_mask, dim=-1, descending=True)[1]\n",
    "smc_pruned_fluxes = torch.gather(smc_pruned_fluxes, dim=-1, index=smc_fluxes_index)"
   ]
  },
  {
   "cell_type": "markdown",
   "metadata": {},
   "source": [
    "### Load in SEP results"
   ]
  },
  {
   "cell_type": "code",
   "execution_count": null,
   "metadata": {},
   "outputs": [],
   "source": [
    "sep_unpruned_counts = torch.load('sep/unpruned_counts.pt')[:num_images]\n",
    "sep_unpruned_locs = torch.load('sep/unpruned_locs.pt')[:num_images]\n",
    "sep_unpruned_fluxes = torch.load('sep/unpruned_fluxes.pt')[:num_images]\n",
    "sep_runtime = torch.load('sep/runtime.pt')[:num_images]"
   ]
  },
  {
   "cell_type": "code",
   "execution_count": null,
   "metadata": {},
   "outputs": [],
   "source": [
    "sep_mask = torch.logical_and(sep_unpruned_locs > 0, sep_unpruned_locs < tile_dim).all(-1)\n",
    "sep_pruned_counts = sep_mask.sum(-1)\n",
    "\n",
    "sep_pruned_locs = sep_mask.unsqueeze(-1) * sep_unpruned_locs\n",
    "sep_locs_mask = (sep_pruned_locs != 0).int()\n",
    "sep_locs_index = torch.sort(sep_locs_mask, dim=-2, descending=True)[1]\n",
    "sep_pruned_locs = torch.gather(sep_pruned_locs, dim=-2, index=sep_locs_index)\n",
    "\n",
    "sep_pruned_fluxes = sep_mask * sep_unpruned_fluxes\n",
    "sep_fluxes_mask = (sep_pruned_fluxes != 0).int()\n",
    "sep_fluxes_index = torch.sort(sep_fluxes_mask, dim=-1, descending=True)[1]\n",
    "sep_pruned_fluxes = torch.gather(sep_pruned_fluxes, dim=-1, index=sep_fluxes_index)"
   ]
  },
  {
   "cell_type": "markdown",
   "metadata": {},
   "source": [
    "### Plot attributes"
   ]
  },
  {
   "cell_type": "code",
   "execution_count": null,
   "metadata": {},
   "outputs": [],
   "source": [
    "smc_color = \"steelblue\"\n",
    "sep_color = \"mediumvioletred\"\n",
    "\n",
    "bigfont = 20\n",
    "mediumfont = 16\n",
    "smallfont = 14\n",
    "\n",
    "cmap = 'gray'\n",
    "\n",
    "linecolor = 'sienna'\n",
    "linecolor_alt = 'forestgreen'\n",
    "linewidth = 4\n",
    "linestyle = 'dashed'\n",
    "\n",
    "star_marker = '*'\n",
    "star_fill = 'gold'\n",
    "star_edge = 'black'\n",
    "star_size = 400"
   ]
  },
  {
   "cell_type": "markdown",
   "metadata": {},
   "source": [
    "---"
   ]
  },
  {
   "cell_type": "markdown",
   "metadata": {},
   "source": [
    "### Figure 1: An example image and catalog"
   ]
  },
  {
   "cell_type": "code",
   "execution_count": null,
   "metadata": {},
   "outputs": [],
   "source": [
    "fig, ax = plt.subplots(1, 1, figsize = (6, 6))\n",
    "\n",
    "# choose an image with the maximum source count, including at least two stars in the padded region\n",
    "img_idx = torch.where(torch.logical_and(unpruned_counts - pruned_counts > 1,\n",
    "                                        unpruned_counts == unpruned_counts.max()))[0][4]\n",
    "\n",
    "smc_cat_idx = torch.where(smc_unpruned_counts[img_idx] == unpruned_counts[img_idx] - 1)[0][0]\n",
    "\n",
    "_ = ax.imshow(images[img_idx], cmap = cmap)\n",
    "\n",
    "_ = ax.spines[['top', 'right', 'bottom', 'left']].set_visible(False)\n",
    "_ = ax.set_xticks([])\n",
    "_ = ax.set_yticks([])\n",
    "\n",
    "epsilon_pad = pad + 0.15 # thick lines make padding appear smaller than it is\n",
    "\n",
    "_ = ax.hlines(y = [0 - epsilon_pad - 0.5, tile_dim + epsilon_pad - 0.5],\n",
    "              xmin = 0 - epsilon_pad - 0.5, xmax = tile_dim + epsilon_pad - 0.5,\n",
    "              color = linecolor, linestyles = 'dotted', linewidth = linewidth, zorder = 0)\n",
    "_ = ax.vlines(x = [0 - epsilon_pad - 0.5, tile_dim + epsilon_pad - 0.5],\n",
    "              ymin = 0 - epsilon_pad - 0.5 - 0.05, ymax = tile_dim + epsilon_pad - 0.5 + 0.05,\n",
    "              color = linecolor, linestyles = 'dotted', linewidth = linewidth, zorder = 0)\n",
    "\n",
    "_ = ax.hlines(y = [0 - 0.5, tile_dim - 0.5],\n",
    "              xmin = 0 - 0.5, xmax = tile_dim - 0.5,\n",
    "              color = linecolor_alt, linestyles = linestyle, linewidth = linewidth, zorder = 0)\n",
    "_ = ax.vlines(x = [0 - 0.5, tile_dim - 0.5],\n",
    "              ymin = 0 - 0.5 - 0.05, ymax = tile_dim - 0.5 + 0.05,\n",
    "              color = linecolor_alt, linestyles = linestyle, linewidth = linewidth, zorder = 0)\n",
    "\n",
    "_ = ax.scatter(unpruned_locs[img_idx, :unpruned_counts[img_idx], 1] - 0.5,\n",
    "               unpruned_locs[img_idx, :unpruned_counts[img_idx], 0] - 0.5,\n",
    "               color = star_fill, edgecolors = star_edge, marker = star_marker, s = star_size, zorder = 1)\n",
    "\n",
    "_ = ax.scatter(smc_unpruned_locs[img_idx, smc_cat_idx, :smc_unpruned_counts[img_idx,smc_cat_idx].int(), 1] - 0.5,\n",
    "               smc_unpruned_locs[img_idx, smc_cat_idx, :smc_unpruned_counts[img_idx,smc_cat_idx].int(), 0] - 0.5,\n",
    "               color = smc_color, edgecolors = star_edge, marker = star_marker, s = star_size, zorder = 1)\n",
    "\n",
    "fig.tight_layout()\n",
    "\n",
    "fig.savefig('figures/figure1.png', dpi = 250, transparent = True)"
   ]
  },
  {
   "cell_type": "markdown",
   "metadata": {},
   "source": [
    "---"
   ]
  },
  {
   "cell_type": "markdown",
   "metadata": {},
   "source": [
    "### Figure 3: Estimated counts"
   ]
  },
  {
   "cell_type": "code",
   "execution_count": null,
   "metadata": {},
   "outputs": [],
   "source": [
    "# Figure 3a\n",
    "torch.manual_seed(0)\n",
    "\n",
    "smc_sampled_counts = smc_pruned_counts\n",
    "true_counts = pruned_counts.unsqueeze(-1).repeat(1, smc_pruned_counts.shape[-1])\n",
    "\n",
    "smc_samples_confmat = torch.histogramdd(\n",
    "    torch.stack((smc_sampled_counts,\n",
    "                 true_counts),\n",
    "                dim=-1).float(),\n",
    "    bins = (torch.arange(0, smc_pruned_counts.max() + 2).float(), torch.arange(0, smc_pruned_counts.max() + 2).unique().float())\n",
    ").hist\n",
    "\n",
    "fig, ax = plt.subplots(1, 1, figsize = (8, 8 * (smc_pruned_counts.max() + 1) / (pruned_counts.max() + 1)))\n",
    "fig3a = sns.heatmap(smc_samples_confmat.int().numpy(),\n",
    "                    ax = ax, annot = True, annot_kws={\"size\": smallfont}, fmt = \"d\",\n",
    "                    cmap = sns.light_palette(smc_color, as_cmap=True), cbar = False)\n",
    "fig3a.invert_yaxis()\n",
    "\n",
    "# Custom function to format the annotations\n",
    "def format_func(value, tick_position):\n",
    "    if value >= 100000:\n",
    "        return f\"{round(value / 1000, 1):.0f}k\"\n",
    "    if value >= 50:\n",
    "        return f\"{round(value / 1000, 1):.2g}k\"\n",
    "    return str(\"0\")\n",
    "\n",
    "# Apply the custom formatter to the annotations\n",
    "for text in fig3a.texts:\n",
    "    value = int(text.get_text())  # Get the annotation value\n",
    "    text.set_text(format_func(value, None))  # Set the formatted annotation\n",
    "\n",
    "\n",
    "fig3a.set_xlabel(\"True source count\", fontsize = bigfont)\n",
    "fig3a.set_ylabel(\"Estimated source count\", fontsize = bigfont)\n",
    "fig3a.tick_params(axis = 'both', length = 0, labelsize = mediumfont)\n",
    "\n",
    "_ = ax.set_title(\"CS-SMC posterior samples\", fontsize = bigfont)\n",
    "\n",
    "fig.tight_layout()\n",
    "\n",
    "# fig.savefig('figures/figure3a.png', dpi = 250, transparent = True)"
   ]
  },
  {
   "cell_type": "code",
   "execution_count": null,
   "metadata": {},
   "outputs": [],
   "source": [
    "# confusion matrix asymmetry factors\n",
    "fig, ax = plt.subplots(1, 1, figsize = (6, 6 * (smc_pruned_counts.max() + 1) / (pruned_counts.max() + 1)))\n",
    "\n",
    "rows, cols = torch.meshgrid(torch.arange(smc_samples_confmat.shape[0]), torch.arange(smc_samples_confmat.shape[1]), indexing='ij')\n",
    "mask = torch.abs(rows - cols) <= 2\n",
    "\n",
    "confmat = smc_samples_confmat.clone()\n",
    "confmat[~mask] = torch.nan\n",
    "confmat_t = confmat.transpose(0,1)\n",
    "\n",
    "asymmetry_factors = ((confmat - confmat_t) / (torch.min(confmat, confmat_t) + 1))\n",
    "\n",
    "panel = sns.heatmap(asymmetry_factors.abs().numpy(), vmin = 0, vmax = 1,\n",
    "                    ax = ax, annot = asymmetry_factors.numpy(), annot_kws={\"size\": smallfont}, fmt = \".2f\",\n",
    "                    cmap = sns.light_palette(smc_color, as_cmap=True), cbar = False)\n",
    "panel.invert_yaxis()\n",
    "\n",
    "panel.set_xlabel(\"True source count\", fontsize = bigfont)\n",
    "panel.set_ylabel(\"Estimated source count\", fontsize = bigfont)\n",
    "panel.tick_params(axis = 'both', length = 0, labelsize = mediumfont)\n",
    "\n",
    "_ = ax.set_title(\"CS-SMC posterior samples\", fontsize = bigfont)\n",
    "\n",
    "fig.tight_layout()"
   ]
  },
  {
   "cell_type": "code",
   "execution_count": null,
   "metadata": {},
   "outputs": [],
   "source": [
    "# Figure 3b\n",
    "smc_mode_confmat = torch.histogramdd(\n",
    "    torch.stack((smc_pruned_counts.mode(-1).values,\n",
    "                 pruned_counts),\n",
    "                dim=-1).float(),\n",
    "    bins = (torch.arange(0, smc_pruned_counts.max() + 2).float(), torch.arange(0, pruned_counts.max() + 2).unique().float())\n",
    ").hist\n",
    "\n",
    "fig, ax = plt.subplots(1, 1, figsize = (6, 6 * (smc_pruned_counts.max() + 1) / (pruned_counts.max() + 1)))\n",
    "fig3b = sns.heatmap(smc_mode_confmat.int().numpy(),\n",
    "                    ax = ax, annot = True, annot_kws={\"size\": smallfont}, fmt = \"d\",\n",
    "                    cmap = sns.light_palette(smc_color, as_cmap=True), cbar = False)\n",
    "fig3b.invert_yaxis()\n",
    "\n",
    "fig3b.set_xlabel(\"True source count\", fontsize = bigfont)\n",
    "fig3b.set_ylabel(\"Estimated source count\", fontsize = bigfont)\n",
    "fig3b.tick_params(axis = 'both', length = 0, labelsize = mediumfont)\n",
    "\n",
    "_ = ax.set_title(\"CS-SMC posterior mode\", fontsize = bigfont)\n",
    "\n",
    "fig.tight_layout()\n",
    "\n",
    "# fig.savefig('figures/figure3b.png', dpi = 250, transparent = True)"
   ]
  },
  {
   "cell_type": "code",
   "execution_count": null,
   "metadata": {},
   "outputs": [],
   "source": [
    "# Figure 3c\n",
    "sep_confmat = torch.histogramdd(\n",
    "    torch.stack((sep_pruned_counts, pruned_counts), dim=-1).float(),\n",
    "    bins = (torch.arange(0, smc_pruned_counts.max() + 2).float(), torch.arange(0, pruned_counts.max() + 2).unique().float())\n",
    ").hist\n",
    "\n",
    "fig, ax = plt.subplots(1, 1, figsize = (6, 6 * (smc_pruned_counts.max() + 1) / (pruned_counts.max() + 1)))\n",
    "fig3c = sns.heatmap(sep_confmat.int().numpy(),\n",
    "                    ax = ax, annot = True, annot_kws={\"size\": smallfont}, fmt = \"d\",\n",
    "                    cmap = sns.light_palette(sep_color, as_cmap=True), cbar = False)\n",
    "fig3c.invert_yaxis()\n",
    "\n",
    "fig3c.set_xlabel(\"True source count\", fontsize = bigfont)\n",
    "fig3c.set_ylabel(\"Estimated source count\", fontsize = bigfont)\n",
    "fig3c.tick_params(axis = 'both', length = 0, labelsize = mediumfont)\n",
    "\n",
    "_ = ax.set_title(\"Source Extractor\", fontsize = bigfont)\n",
    "\n",
    "fig.tight_layout()\n",
    "\n",
    "fig.savefig('figures/figure3c.png', dpi = 250, transparent = True)"
   ]
  },
  {
   "cell_type": "markdown",
   "metadata": {},
   "source": [
    "---"
   ]
  },
  {
   "cell_type": "markdown",
   "metadata": {},
   "source": [
    "### Figure 4: Estimated total intrinsic flux"
   ]
  },
  {
   "cell_type": "code",
   "execution_count": null,
   "metadata": {},
   "outputs": [],
   "source": [
    "intervals = [c*0.05 for c in range(1,20)]\n",
    "mh_coverage_rate = []\n",
    "\n",
    "smc_masked_tif = smc_pruned_fluxes[pruned_counts>0].sum(-1)\n",
    "masked_tif = pruned_fluxes[pruned_counts>0].sum(-1)\n",
    "\n",
    "for i in intervals:\n",
    "    qlow = smc_masked_tif.quantile(0.5 - i / 2, dim = -1)\n",
    "    qhigh = smc_masked_tif.quantile(0.5 + i / 2, dim = -1)\n",
    "    covered = torch.logical_and(qlow <= masked_tif, qhigh >= masked_tif)\n",
    "    \n",
    "    mh_coverage_rate.append(covered.float().mean())\n",
    "\n",
    "fig, ax = plt.subplots(1, 1, figsize = (6, 6))\n",
    "\n",
    "_ = ax.axline((0,0), slope = 1, linestyle = ':', color = 'black', zorder = 0)\n",
    "_ = ax.scatter(intervals, mh_coverage_rate, label = 'CS-SMC',\n",
    "               color = smc_color, s = 80, zorder = 1)\n",
    "\n",
    "_ = ax.set_xlim((0,1))\n",
    "_ = ax.set_ylim((0,1))\n",
    "\n",
    "_ = ax.set_xlabel('Nominal coverage probability', fontsize = bigfont)\n",
    "_ = ax.set_ylabel('Empirical coverage probability', fontsize = bigfont)\n",
    "\n",
    "_ = ax.tick_params(axis = 'both', labelsize = mediumfont)\n",
    "\n",
    "_ = ax.legend(loc = 'upper left', prop = {'size': smallfont}, handletextpad = 0.1)\n",
    "\n",
    "fig.tight_layout()\n",
    "\n",
    "# fig.savefig('figures/figure4a.png', dpi = 250, transparent = True)"
   ]
  },
  {
   "cell_type": "code",
   "execution_count": null,
   "metadata": {},
   "outputs": [],
   "source": [
    "interval = 0.9\n",
    "\n",
    "mask = torch.logical_and((pruned_fluxes.sum(-1) > 0) * (pruned_fluxes.sum(-1) < 10000),\n",
    "                         smc_pruned_fluxes.sum(-1).quantile(0.01, dim=-1) > 0)\n",
    "\n",
    "q05 = smc_pruned_fluxes[mask].sum(-1).quantile(0.5 - interval / 2, dim = -1)\n",
    "q95 = smc_pruned_fluxes[mask].sum(-1).quantile(0.5 + interval / 2, dim = -1)\n",
    "covered = torch.logical_and(q05 <= pruned_fluxes[mask].sum(-1),\n",
    "                            q95 >= pruned_fluxes[mask].sum(-1))\n",
    "\n",
    "fig, ax = plt.subplots(1, 1, figsize = (6, 6))\n",
    "\n",
    "true_total_intrinsic_flux = pruned_fluxes[mask].sum(-1)\n",
    "\n",
    "covered_legend = False\n",
    "uncovered_legend = False\n",
    "# to avoid one color from dominating, plot by index instead of in two groups\n",
    "for i in range(pruned_fluxes[mask].shape[0]):\n",
    "    color = smc_color if covered[i] else 'dimgray'\n",
    "    if (covered[i]) and (not covered_legend):\n",
    "        covered_legend = True\n",
    "        _ = ax.vlines(x = true_total_intrinsic_flux[i],\n",
    "                      ymin = q05[i], ymax = q95[i], color = color, alpha = 1, linewidth = 1,\n",
    "                      label = f\"covers ({round(100 * mh_coverage_rate[-2].item(), 1)}%)\")\n",
    "    elif (not covered[i]) and (not uncovered_legend):\n",
    "        uncovered_legend = True\n",
    "        _ = ax.vlines(x = true_total_intrinsic_flux[i],\n",
    "                      ymin = q05[i], ymax = q95[i], color = color, alpha = 1, linewidth = 1,\n",
    "                      label = f\"does not cover ({round(100 * (1 - mh_coverage_rate[-2]).item(), 1)}%)\")\n",
    "    else:\n",
    "        _ = ax.vlines(x = true_total_intrinsic_flux[i],\n",
    "                    ymin = q05[i], ymax = q95[i], color = color, alpha = 1, linewidth = 1)\n",
    "\n",
    "_ = ax.axline((0,0), slope = 1, color = 'black', linestyle = ':', linewidth = 1)\n",
    "\n",
    "_ = ax.set_xscale('log')\n",
    "_ = ax.set_yscale('log')\n",
    "_ = ax.set_xlabel('True total intrinsic flux', fontsize = bigfont)\n",
    "_ = ax.set_ylabel('Estimated total intrinsic flux', fontsize = bigfont)\n",
    "_ = ax.set_xlim(0.95*pruned_fluxes[mask].sum(-1).min(), pruned_fluxes[mask].sum(-1).max())\n",
    "# _ = ax.set_ylim(0.95*sep_pruned_fluxes[mask].sum(-1).min(), 1.05*sep_pruned_fluxes[mask].sum(-1).max())\n",
    "_ = ax.tick_params(axis = \"both\", labelsize = mediumfont)\n",
    "\n",
    "leg = ax.legend(loc = 'upper left', prop = {'size': smallfont}, title = \"CS-SMC interval...\", title_fontsize = smallfont)\n",
    "leg._legend_box.align = 'left'\n",
    "\n",
    "fig.tight_layout()\n",
    "\n",
    "# fig.savefig('figures/figure4b.png', dpi = 250, transparent = True)"
   ]
  },
  {
   "cell_type": "code",
   "execution_count": null,
   "metadata": {},
   "outputs": [],
   "source": [
    "fig, ax = plt.subplots(1, 1, figsize = (6, 6))\n",
    "\n",
    "# to avoid one color from dominating, plot by index instead of in two groups\n",
    "_ = ax.scatter(x = pruned_fluxes[mask].sum(-1), y = sep_pruned_fluxes[mask].sum(-1),\n",
    "               color = sep_color, s = 5, alpha = 1, label = \"Source Extractor\")\n",
    "\n",
    "_ = ax.axline((0,0), slope = 1, color = 'black', linestyle = ':', linewidth = 1)\n",
    "\n",
    "_ = ax.set_xscale('log')\n",
    "_ = ax.set_yscale('log')\n",
    "_ = ax.set_xlabel('True total intrinsic flux', fontsize = bigfont)\n",
    "_ = ax.set_ylabel('Estimated total intrinsic flux', fontsize = bigfont)\n",
    "_ = ax.set_xlim(0.95*pruned_fluxes[mask].sum(-1).min(), pruned_fluxes[mask].sum(-1).max())\n",
    "_ = ax.set_ylim(0.95*sep_pruned_fluxes[mask].sum(-1).min(), 1.05*sep_pruned_fluxes[mask].sum(-1).max())\n",
    "_ = ax.tick_params(axis = \"both\", labelsize = mediumfont)\n",
    "_ = ax.legend(loc = 'upper left', prop = {'size': smallfont},\n",
    "              handletextpad = 0.1, markerscale = 2)\n",
    "\n",
    "fig.tight_layout()\n",
    "\n",
    "fig.savefig('figures/figure4c.png', dpi = 250, transparent = True)"
   ]
  },
  {
   "cell_type": "code",
   "execution_count": null,
   "metadata": {},
   "outputs": [],
   "source": [
    "# simulation-based calibration plot\n",
    "sbc_mh_totalfluxes = (masked_tif.unsqueeze(-1) <= smc_masked_tif).float().mean(-1)\n",
    "\n",
    "fig, ax = plt.subplots(1, 1, figsize = (6, 6))\n",
    "_ = ax.hist(sbc_mh_totalfluxes, bins = 10, density = True)"
   ]
  },
  {
   "cell_type": "code",
   "execution_count": null,
   "metadata": {},
   "outputs": [],
   "source": [
    "# true total observed flux vs mean posterior predictive total observed flux\n",
    "fig, ax = plt.subplots(1, 1, figsize = (6, 6))\n",
    "\n",
    "posterior_predictive_mask = images.sum([-1,-2]) < images.sum([-1,-2]).quantile(0.99)\n",
    "\n",
    "_ = ax.scatter(x = images[posterior_predictive_mask].sum([-1,-2]),\n",
    "               y = smc_posterior_predictive_total_flux[posterior_predictive_mask].mean(-1),\n",
    "               color = smc_color, s = 5, alpha = 1, label = \"CS-SMC\")\n",
    "\n",
    "_ = ax.axline((0,0), slope = 1, color = 'black', linestyle = ':', linewidth = 1)\n",
    "\n",
    "_ = ax.set_xscale('log')\n",
    "_ = ax.set_yscale('log')\n",
    "\n",
    "_ = ax.set_xlabel('True total observed flux', fontsize = bigfont)\n",
    "_ = ax.set_ylabel('Mean posterior predictive\\ntotal observed flux', fontsize = bigfont)\n",
    "_ = ax.tick_params(axis = 'both', labelsize = mediumfont)"
   ]
  },
  {
   "cell_type": "markdown",
   "metadata": {},
   "source": [
    "---"
   ]
  },
  {
   "cell_type": "markdown",
   "metadata": {},
   "source": [
    "### Figure 5: Estimated locations"
   ]
  },
  {
   "cell_type": "code",
   "execution_count": null,
   "metadata": {},
   "outputs": [],
   "source": [
    "def plot_detections(image_index, ylabel, title = True, ylabel_fontsize = bigfont, figsize = (18, 6)):\n",
    "    fig, ax = plt.subplots(1, 3, figsize = figsize, constrained_layout = True)\n",
    "\n",
    "    # true catalog\n",
    "    img = ax[0].imshow(images[image_index], cmap = cmap)\n",
    "    if title:\n",
    "        _ = ax[0].set_title(\"True catalog\", fontsize = ylabel_fontsize)\n",
    "    else:\n",
    "        _ = ax[0].set_title(\"\", fontsize = ylabel_fontsize)\n",
    "    _ = ax[0].set_ylabel(ylabel, fontsize = ylabel_fontsize)\n",
    "    _ = ax[0].scatter(unpruned_locs[image_index, :unpruned_counts[image_index].int().item(), 1] - 0.5,\n",
    "                    unpruned_locs[image_index, :unpruned_counts[image_index].int().item(), 0] - 0.5,\n",
    "                    color = star_fill, edgecolors = star_edge, marker = star_marker, s = star_size)\n",
    "    _ = ax[0].spines[['top', 'right', 'bottom', 'left']].set_visible(False)\n",
    "    _ = ax[0].set_xticks([])\n",
    "    _ = ax[0].set_yticks([])\n",
    "    _ = ax[0].hlines(y = [0 - pad - 0.5, tile_dim + pad - 0.5],\n",
    "                xmin = 0 - pad - 0.5, xmax = tile_dim + pad - 0.5,\n",
    "                color = linecolor, linestyles = linestyle, linewidth = linewidth, alpha = 0)\n",
    "    _ = ax[0].vlines(x = [0 - pad - 0.5, tile_dim + pad - 0.5],\n",
    "                ymin = 0 - pad - 0.5, ymax = tile_dim + pad - 0.5,\n",
    "                color = linecolor, linestyles = linestyle, linewidth = linewidth, alpha = 0)\n",
    "\n",
    "    # 10,000 smc catalogs\n",
    "    _ = ax[1].imshow(images[image_index], cmap = cmap)\n",
    "    if title:\n",
    "        _ = ax[1].set_title(\"CS-SMC\", fontsize = ylabel_fontsize)\n",
    "    else:\n",
    "        _ = ax[1].set_title(\"\", fontsize = ylabel_fontsize)\n",
    "    smc_catalog_idx = torch.arange(0, smc_unpruned_counts.shape[0])\n",
    "    smc_locs_h = smc_unpruned_locs[image_index,smc_catalog_idx,:,1]\n",
    "    smc_locs_w = smc_unpruned_locs[image_index,smc_catalog_idx,:,0]\n",
    "    _ = ax[1].scatter(smc_locs_h[smc_locs_h.nonzero(as_tuple=True)] - 0.5,\n",
    "                    smc_locs_w[smc_locs_w.nonzero(as_tuple=True)] - 0.5,\n",
    "                    color = smc_color, marker = star_marker, s = 1, alpha = .1)\n",
    "    _ = ax[1].spines[['top', 'right', 'bottom', 'left']].set_visible(False)\n",
    "    _ = ax[1].set_xticks([])\n",
    "    _ = ax[1].set_yticks([])\n",
    "    _ = ax[1].hlines(y = [0 - pad - 0.5, tile_dim + pad - 0.5],\n",
    "                xmin = 0 - pad - 0.5, xmax = tile_dim + pad - 0.5,\n",
    "                color = linecolor, linestyles = linestyle, linewidth = linewidth, alpha = 0)\n",
    "    _ = ax[1].vlines(x = [0 - pad - 0.5, tile_dim + pad - 0.5],\n",
    "                ymin = 0 - pad - 0.5, ymax = tile_dim + pad - 0.5,\n",
    "                color = linecolor, linestyles = linestyle, linewidth = linewidth, alpha = 0)\n",
    "\n",
    "    # sep catalog\n",
    "    # _ = ax[2].imshow(images[image_index], cmap = cmap)\n",
    "    # if title:\n",
    "    #     _ = ax[2].set_title(\"Source Extractor\", fontsize = ylabel_fontsize)\n",
    "    # else:\n",
    "    #     _ = ax[2].set_title(\"\", fontsize = ylabel_fontsize)\n",
    "    # _ = ax[2].scatter(sep_unpruned_locs[image_index, :sep_unpruned_counts[image_index].int().item(), 1] - 0.5,\n",
    "    #                 sep_unpruned_locs[image_index, :sep_unpruned_counts[image_index].int().item(), 0] - 0.5,\n",
    "    #                 color = sep_color, edgecolors = star_edge, marker = star_marker, s = star_size)\n",
    "    # _ = ax[2].spines[['top', 'right', 'bottom', 'left']].set_visible(False)\n",
    "    # _ = ax[2].set_xticks([])\n",
    "    # _ = ax[2].set_yticks([])\n",
    "    # _ = ax[2].hlines(y = [0 - pad - 0.5, tile_dim + pad - 0.5],\n",
    "    #             xmin = 0 - pad - 0.5, xmax = tile_dim + pad - 0.5,\n",
    "    #             color = linecolor, linestyles = linestyle, linewidth = linewidth, alpha = 0)\n",
    "    # _ = ax[2].vlines(x = [0 - pad - 0.5, tile_dim + pad - 0.5],\n",
    "    #             ymin = 0 - pad - 0.5, ymax = tile_dim + pad - 0.5,\n",
    "    #             color = linecolor, linestyles = linestyle, linewidth = linewidth, alpha = 0)\n",
    "    \n",
    "    cbar = fig.colorbar(img, ax=ax, orientation='vertical', fraction = 0.014, pad = 0.02)\n",
    "    cbar.ax.tick_params(labelsize = 0.75 * ylabel_fontsize)\n",
    "    \n",
    "    return fig"
   ]
  },
  {
   "cell_type": "code",
   "execution_count": null,
   "metadata": {},
   "outputs": [],
   "source": [
    "torch.manual_seed(0)\n",
    "\n",
    "image_indexes_2stars = torch.where(torch.logical_and(pruned_counts == 2, unpruned_counts == 2))[0]\n",
    "image_index = image_indexes_2stars[torch.randint(0, image_indexes_2stars.shape[0], [1])].item()\n",
    "\n",
    "fig5a = plot_detections(image_index, \"image 1\")\n",
    "\n",
    "# fig5a.savefig('figures/figure5a.png', dpi = 250, transparent = True)"
   ]
  },
  {
   "cell_type": "code",
   "execution_count": null,
   "metadata": {},
   "outputs": [],
   "source": [
    "torch.manual_seed(0)\n",
    "\n",
    "image_indexes_4stars = torch.where(torch.logical_and(pruned_counts == 4, unpruned_counts == 4))[0]\n",
    "image_index = image_indexes_4stars[torch.randint(0, image_indexes_4stars.shape[0], [1])].item()\n",
    "\n",
    "fig5b = plot_detections(image_index, \"image 2\", title = False)\n",
    "\n",
    "# fig5b.savefig('figures/figure5b.png', dpi = 250, transparent = True)"
   ]
  },
  {
   "cell_type": "code",
   "execution_count": null,
   "metadata": {},
   "outputs": [],
   "source": [
    "torch.manual_seed(0)\n",
    "\n",
    "image_indexes_6stars = torch.where(torch.logical_and(pruned_counts == 6, unpruned_counts == 6))[0]\n",
    "image_index = image_indexes_6stars[torch.randint(0, image_indexes_6stars.shape[0], [1])].item()\n",
    "\n",
    "fig5c = plot_detections(image_index, \"image 3\", title = False)\n",
    "\n",
    "# fig5c.savefig('figures/figure5c.png', dpi = 250, transparent = True)"
   ]
  },
  {
   "cell_type": "markdown",
   "metadata": {},
   "source": [
    "---"
   ]
  },
  {
   "cell_type": "markdown",
   "metadata": {},
   "source": [
    "### Additional figures: Runtime and number of SMC iterations"
   ]
  },
  {
   "cell_type": "code",
   "execution_count": null,
   "metadata": {},
   "outputs": [],
   "source": [
    "fig, ax = plt.subplots(1, 2, figsize = (12, 6))\n",
    "\n",
    "_ = ax[0].scatter(pruned_counts, smc_runtime, color = smc_color, alpha = 0.25)\n",
    "_ = ax[0].set_xlabel(\"True source count\", fontsize = bigfont)\n",
    "_ = ax[0].set_ylabel(\"Runtime (seconds)\", fontsize = bigfont)\n",
    "_ = ax[0].tick_params(axis = \"both\", labelsize = mediumfont)\n",
    "\n",
    "_ = ax[1].scatter(pruned_counts, smc_num_iters, color = smc_color, alpha = 0.25)\n",
    "_ = ax[1].set_xlabel(\"True source count\", fontsize = bigfont)\n",
    "_ = ax[1].set_ylabel(\"Number of SMC sampler iterations\", fontsize = bigfont)\n",
    "_ = ax[1].tick_params(axis = \"both\", labelsize = mediumfont)\n",
    "\n",
    "fig.tight_layout()"
   ]
  },
  {
   "cell_type": "markdown",
   "metadata": {},
   "source": [
    "---"
   ]
  }
 ],
 "metadata": {
  "kernelspec": {
   "display_name": ".venv",
   "language": "python",
   "name": "python3"
  },
  "language_info": {
   "codemirror_mode": {
    "name": "ipython",
    "version": 3
   },
   "file_extension": ".py",
   "mimetype": "text/x-python",
   "name": "python",
   "nbconvert_exporter": "python",
   "pygments_lexer": "ipython3",
   "version": "3.10.12"
  }
 },
 "nbformat": 4,
 "nbformat_minor": 2
}
