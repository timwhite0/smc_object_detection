{
 "cells": [
  {
   "cell_type": "markdown",
   "metadata": {},
   "source": [
    "---"
   ]
  },
  {
   "cell_type": "code",
   "execution_count": null,
   "metadata": {},
   "outputs": [],
   "source": [
    "import torch\n",
    "import glob\n",
    "import matplotlib.pyplot as plt\n",
    "import seaborn as sns\n",
    "\n",
    "import sys\n",
    "sys.path.append(\"/home/twhit/smc_object_detection/\")\n",
    "\n",
    "from smc.metrics import match_catalogs, compute_precision_recall_f1\n",
    "from bliss.catalog import convert_nmgy_to_mag, convert_mag_to_nmgy"
   ]
  },
  {
   "cell_type": "markdown",
   "metadata": {},
   "source": [
    "---"
   ]
  },
  {
   "cell_type": "markdown",
   "metadata": {},
   "source": [
    "### **Load in images, true catalogs, and SMC results**"
   ]
  },
  {
   "cell_type": "markdown",
   "metadata": {},
   "source": [
    "We have 70,000 SMC catalogs for each image, but we'll just use 10,000."
   ]
  },
  {
   "cell_type": "code",
   "execution_count": null,
   "metadata": {},
   "outputs": [],
   "source": [
    "num_batches = len(glob.glob(\"smc/counts_*.pt\"))\n",
    "batch_size = 10\n",
    "num_images = num_batches * batch_size\n",
    "\n",
    "prior_max_objects = 6\n",
    "num_catalogs_per_count = 10000\n",
    "num_catalogs = num_catalogs_per_count * (prior_max_objects + 1)\n",
    "\n",
    "images = torch.load('../data/tiles.pt')[:num_images]\n",
    "pruned_counts = torch.load('../data/counts_magcut.pt')[:num_images].int()\n",
    "pruned_locs = torch.load('../data/locs_magcut.pt')[:num_images]\n",
    "pruned_fluxes = torch.load('../data/fluxes_magcut.pt')[:num_images]\n",
    "\n",
    "smc_unpruned_counts = torch.zeros([num_batches, batch_size, num_catalogs])\n",
    "smc_unpruned_locs = torch.zeros([num_batches, batch_size, num_catalogs, prior_max_objects, 2])\n",
    "smc_unpruned_fluxes = torch.zeros([num_batches, batch_size, num_catalogs, prior_max_objects])\n",
    "smc_posterior_predictive_total_flux = torch.zeros([num_batches, batch_size, num_catalogs])\n",
    "smc_runtime = torch.zeros([num_batches, batch_size])\n",
    "smc_num_iters = torch.zeros([num_batches, batch_size])\n",
    "\n",
    "for b in range(num_batches):\n",
    "    smc_unpruned_counts[b] = torch.load(f'smc/counts_{b}.pt')\n",
    "    smc_unpruned_locs[b] = torch.load(f'smc/locs_{b}.pt')\n",
    "    smc_unpruned_fluxes[b] = torch.load(f'smc/fluxes_{b}.pt')\n",
    "    smc_posterior_predictive_total_flux[b] = torch.load(f'smc/posterior_predictive_total_flux_{b}.pt')\n",
    "    smc_runtime[b] = torch.load(f'smc/runtime_{b}.pt')\n",
    "    smc_num_iters[b] = torch.load(f'smc/num_iters_{b}.pt')\n",
    "\n",
    "torch.manual_seed(1)\n",
    "num_catalogs_for_inference = 10000\n",
    "indexes = torch.randint(0, smc_unpruned_counts.shape[-1], size = [num_catalogs_for_inference])\n",
    "\n",
    "smc_unpruned_counts = smc_unpruned_counts.flatten(0,1)[:,indexes].int()\n",
    "smc_unpruned_locs = smc_unpruned_locs.flatten(0,1)[:,indexes,:,:]\n",
    "smc_unpruned_fluxes = smc_unpruned_fluxes.flatten(0,1)[:,indexes,:]\n",
    "smc_posterior_predictive_total_flux = smc_posterior_predictive_total_flux.flatten(0,1)\n",
    "smc_runtime = smc_runtime.flatten(0,1)\n",
    "smc_num_iters = smc_num_iters.flatten(0,1)"
   ]
  },
  {
   "cell_type": "code",
   "execution_count": null,
   "metadata": {},
   "outputs": [],
   "source": [
    "tile_dim = 8\n",
    "pad = 1\n",
    "\n",
    "smc_mask = torch.logical_and(smc_unpruned_locs > 0, smc_unpruned_locs < tile_dim).all(-1)\n",
    "smc_pruned_counts = smc_mask.sum(-1).int()\n",
    "\n",
    "smc_pruned_locs = smc_mask.unsqueeze(-1) * smc_unpruned_locs\n",
    "smc_locs_mask = (smc_pruned_locs != 0).int()\n",
    "smc_locs_index = torch.sort(smc_locs_mask, dim=-2, descending=True)[1]\n",
    "smc_pruned_locs = torch.gather(smc_pruned_locs, dim=-2, index=smc_locs_index)\n",
    "\n",
    "smc_pruned_fluxes = smc_mask * smc_unpruned_fluxes\n",
    "smc_fluxes_mask = (smc_pruned_fluxes != 0).int()\n",
    "smc_fluxes_index = torch.sort(smc_fluxes_mask, dim=-1, descending=True)[1]\n",
    "smc_pruned_fluxes = torch.gather(smc_pruned_fluxes, dim=-1, index=smc_fluxes_index)"
   ]
  },
  {
   "cell_type": "markdown",
   "metadata": {},
   "source": [
    "---"
   ]
  },
  {
   "cell_type": "markdown",
   "metadata": {},
   "source": [
    "### **Load in SEP results**"
   ]
  },
  {
   "cell_type": "code",
   "execution_count": null,
   "metadata": {},
   "outputs": [],
   "source": [
    "sep_unpruned_counts = torch.load('sep/counts.pt')[:num_images].int()\n",
    "sep_unpruned_locs = torch.load('sep/locs.pt')[:num_images]\n",
    "sep_unpruned_fluxes = torch.load('sep/fluxes.pt')[:num_images]\n",
    "sep_runtime = torch.load('sep/runtime.pt')[:num_images]"
   ]
  },
  {
   "cell_type": "code",
   "execution_count": null,
   "metadata": {},
   "outputs": [],
   "source": [
    "sep_mask = torch.logical_and(sep_unpruned_locs > 0, sep_unpruned_locs < tile_dim).all(-1)\n",
    "sep_pruned_counts = sep_mask.sum(-1)\n",
    "\n",
    "sep_pruned_locs = sep_mask.unsqueeze(-1) * sep_unpruned_locs\n",
    "sep_locs_mask = (sep_pruned_locs != 0).int()\n",
    "sep_locs_index = torch.sort(sep_locs_mask, dim=-2, descending=True)[1]\n",
    "sep_pruned_locs = torch.gather(sep_pruned_locs, dim=-2, index=sep_locs_index)\n",
    "\n",
    "sep_pruned_fluxes = sep_mask * sep_unpruned_fluxes\n",
    "sep_fluxes_mask = (sep_pruned_fluxes != 0).int()\n",
    "sep_fluxes_index = torch.sort(sep_fluxes_mask, dim=-1, descending=True)[1]\n",
    "sep_pruned_fluxes = torch.gather(sep_pruned_fluxes, dim=-1, index=sep_fluxes_index)"
   ]
  },
  {
   "cell_type": "markdown",
   "metadata": {},
   "source": [
    "---"
   ]
  },
  {
   "cell_type": "markdown",
   "metadata": {},
   "source": [
    "### **Plot attributes**"
   ]
  },
  {
   "cell_type": "code",
   "execution_count": null,
   "metadata": {},
   "outputs": [],
   "source": [
    "smc_color = \"steelblue\"\n",
    "smc_marker = 'o'\n",
    "sep_color = \"mediumvioletred\"\n",
    "sep_marker = 'D'\n",
    "\n",
    "bigfont = 20\n",
    "mediumfont = 16\n",
    "smallfont = 14\n",
    "\n",
    "cmap = 'gray'\n",
    "\n",
    "linecolor = 'sienna'\n",
    "linecolor_alt = 'forestgreen'\n",
    "linewidth = 4\n",
    "linestyle = 'dashed'\n",
    "\n",
    "star_marker = '*'\n",
    "star_cmap = 'Wistia'\n",
    "star_edge = 'black'\n",
    "star_size = 400\n",
    "smc_star_size = 0.25 * star_size\n",
    "smc_star_alpha = 0.25"
   ]
  },
  {
   "cell_type": "markdown",
   "metadata": {},
   "source": [
    "---"
   ]
  },
  {
   "cell_type": "markdown",
   "metadata": {},
   "source": [
    "### **True vs. inferred magnitude distributions**"
   ]
  },
  {
   "cell_type": "code",
   "execution_count": null,
   "metadata": {},
   "outputs": [],
   "source": [
    "fig, ax = plt.subplots(1, 3, figsize = (12, 4))\n",
    "\n",
    "_ = ax[0].hist(convert_nmgy_to_mag(pruned_fluxes[pruned_fluxes>0]),\n",
    "               bins = 30, color = 'dimgray', density = True)\n",
    "_ = ax[1].hist(convert_nmgy_to_mag(smc_pruned_fluxes[smc_pruned_fluxes>0][torch.randint(0, smc_pruned_fluxes[smc_pruned_fluxes>0].shape[0], size = [10000])]),\n",
    "               bins = 30, color = smc_color, density = True)\n",
    "_ = ax[2].hist(convert_nmgy_to_mag(sep_pruned_fluxes[sep_pruned_fluxes>0]),\n",
    "               bins = 30, color = sep_color, density = True)\n",
    "\n",
    "for a in ax.flat:\n",
    "    _ = a.set_xlabel('r-band magnitude')\n",
    "    _ = a.set_ylabel('Density')\n",
    "    _ = a.set_xlim(14, 25)\n",
    "    _ = a.set_ylim(0, 0.3)\n",
    "\n",
    "_ = fig.tight_layout()"
   ]
  },
  {
   "cell_type": "markdown",
   "metadata": {},
   "source": [
    "---"
   ]
  },
  {
   "cell_type": "markdown",
   "metadata": {},
   "source": [
    "### **Example detections**"
   ]
  },
  {
   "cell_type": "markdown",
   "metadata": {},
   "source": [
    "We write a function to plot the true catalog, one or multiple SMC catalogs, and the SEP catalog:"
   ]
  },
  {
   "cell_type": "code",
   "execution_count": null,
   "metadata": {},
   "outputs": [],
   "source": [
    "def plot_detections(image_index, arcsinh = False,\n",
    "                    smc_cat_idx = \"all\", smc_star_size = smc_star_size, smc_star_alpha = smc_star_alpha, smc_star_edge = False,\n",
    "                    star_minflux = None, star_maxflux = None,\n",
    "                    ylabel = \"\", title = True, ylabel_fontsize = bigfont, figsize = (18, 6)):\n",
    "    fig, ax = plt.subplots(1, 3, figsize = figsize, constrained_layout = True)\n",
    "\n",
    "    if arcsinh:\n",
    "        img = images[image_index].arcsinh()\n",
    "    else:\n",
    "        img = images[image_index]\n",
    "    \n",
    "    if smc_cat_idx == \"all\":\n",
    "        smc_cat_idx = torch.arange(0, smc_unpruned_counts.shape[0])\n",
    "    smc_locs_h = smc_unpruned_locs[image_index, smc_cat_idx, :, 1]\n",
    "    smc_locs_w = smc_unpruned_locs[image_index, smc_cat_idx, :, 0]\n",
    "    smc_fluxes = smc_unpruned_fluxes[image_index,smc_cat_idx]\n",
    "    \n",
    "    if star_minflux is None:\n",
    "        star_minflux = min(pruned_fluxes[image_index][pruned_fluxes[image_index]>0].min(), smc_fluxes[smc_fluxes>0].min())\n",
    "    if star_maxflux is None:\n",
    "        star_maxflux = max(pruned_fluxes[image_index][pruned_fluxes[image_index]>0].max(), smc_fluxes[smc_fluxes>0].max())\n",
    "    \n",
    "    # true catalog\n",
    "    _ = ax[0].imshow(img, cmap = cmap)\n",
    "    if title:\n",
    "        _ = ax[0].set_title(\"True catalog\", fontsize = ylabel_fontsize)\n",
    "    else:\n",
    "        _ = ax[0].set_title(\"\", fontsize = ylabel_fontsize)\n",
    "\n",
    "    _ = ax[0].set_ylabel(ylabel, fontsize = ylabel_fontsize)\n",
    "        \n",
    "    flux_cbar = ax[0].scatter(pruned_locs[image_index, :pruned_counts[image_index], 1] - 0.5,\n",
    "                            pruned_locs[image_index, :pruned_counts[image_index], 0] - 0.5,\n",
    "                            c = pruned_fluxes[image_index, :pruned_counts[image_index]],\n",
    "                            vmin = star_minflux, vmax = star_maxflux,\n",
    "                            cmap = star_cmap, edgecolors = star_edge, marker = star_marker, s = star_size)\n",
    "    _ = ax[0].spines[['top', 'right', 'bottom', 'left']].set_visible(False)\n",
    "    _ = ax[0].set_xticks([])\n",
    "    _ = ax[0].set_yticks([])\n",
    "    _ = ax[0].hlines(y = [0 - pad - 0.5, tile_dim + pad - 0.5],\n",
    "                    xmin = 0 - pad - 0.5, xmax = tile_dim + pad - 0.5,\n",
    "                    color = linecolor, linestyles = linestyle, linewidth = linewidth, alpha = 0)\n",
    "    _ = ax[0].vlines(x = [0 - pad - 0.5, tile_dim + pad - 0.5],\n",
    "                    ymin = 0 - pad - 0.5, ymax = tile_dim + pad - 0.5,\n",
    "                    color = linecolor, linestyles = linestyle, linewidth = linewidth, alpha = 0)\n",
    "\n",
    "    # SMC catalogs\n",
    "    _ = ax[1].imshow(img, cmap = cmap)\n",
    "    if title:\n",
    "        _ = ax[1].set_title(\"Count-stratified SMC\", fontsize = ylabel_fontsize)\n",
    "    else:\n",
    "        _ = ax[1].set_title(\"\", fontsize = ylabel_fontsize)\n",
    "    \n",
    "    _ = ax[1].scatter(smc_locs_h[smc_locs_h.nonzero(as_tuple=True)] - 0.5,\n",
    "                    smc_locs_w[smc_locs_w.nonzero(as_tuple=True)] - 0.5,\n",
    "                    c = smc_fluxes[smc_fluxes.nonzero(as_tuple=True)], cmap = star_cmap,\n",
    "                    vmin = star_minflux, vmax = star_maxflux,\n",
    "                    marker = star_marker, s = smc_star_size, alpha = smc_star_alpha, edgecolors = star_edge if smc_star_edge else None)\n",
    "    _ = ax[1].spines[['top', 'right', 'bottom', 'left']].set_visible(False)\n",
    "    _ = ax[1].set_xticks([])\n",
    "    _ = ax[1].set_yticks([])\n",
    "    _ = ax[1].hlines(y = [0 - pad - 0.5, tile_dim + pad - 0.5],\n",
    "                    xmin = 0 - pad - 0.5, xmax = tile_dim + pad - 0.5,\n",
    "                    color = linecolor, linestyles = linestyle, linewidth = linewidth, alpha = 0)\n",
    "    _ = ax[1].vlines(x = [0 - pad - 0.5, tile_dim + pad - 0.5],\n",
    "                    ymin = 0 - pad - 0.5, ymax = tile_dim + pad - 0.5,\n",
    "                    color = linecolor, linestyles = linestyle, linewidth = linewidth, alpha = 0)\n",
    "\n",
    "    # SEP catalog\n",
    "    _ = ax[2].imshow(img, cmap = cmap)\n",
    "    if title:\n",
    "        _ = ax[2].set_title(\"Source Extractor\", fontsize = ylabel_fontsize)\n",
    "    else:\n",
    "        _ = ax[2].set_title(\"\", fontsize = ylabel_fontsize)\n",
    "\n",
    "    _ = ax[2].scatter(sep_unpruned_locs[image_index, :sep_unpruned_counts[image_index], 1] - 0.5,\n",
    "                      sep_unpruned_locs[image_index, :sep_unpruned_counts[image_index], 0] - 0.5,\n",
    "                      c = sep_unpruned_fluxes[image_index, :sep_unpruned_counts[image_index]],\n",
    "                      vmin = star_minflux, vmax = star_maxflux,\n",
    "                      cmap = star_cmap, edgecolors = star_edge, marker = star_marker, s = star_size)\n",
    "    _ = ax[2].spines[['top', 'right', 'bottom', 'left']].set_visible(False)\n",
    "    _ = ax[2].set_xticks([])\n",
    "    _ = ax[2].set_yticks([])\n",
    "    _ = ax[2].hlines(y = [0 - pad - 0.5, tile_dim + pad - 0.5],\n",
    "                    xmin = 0 - pad - 0.5, xmax = tile_dim + pad - 0.5,\n",
    "                    color = linecolor, linestyles = linestyle, linewidth = linewidth, alpha = 0)\n",
    "    _ = ax[2].vlines(x = [0 - pad - 0.5, tile_dim + pad - 0.5],\n",
    "                    ymin = 0 - pad - 0.5, ymax = tile_dim + pad - 0.5,\n",
    "                    color = linecolor, linestyles = linestyle, linewidth = linewidth, alpha = 0)\n",
    "\n",
    "    cbar = fig.colorbar(flux_cbar, ax=ax, orientation='vertical', fraction = 0.014, pad = 0.02)\n",
    "    cbar.ax.tick_params(labelsize = 0.75 * ylabel_fontsize)\n",
    "    \n",
    "    return fig"
   ]
  },
  {
   "cell_type": "markdown",
   "metadata": {},
   "source": [
    "We compare the true catalog, our ensemble of SMC catalogs, and the SEP catalog for an image with one star, an image with two stars, with three stars, four stars, and five:"
   ]
  },
  {
   "cell_type": "code",
   "execution_count": null,
   "metadata": {},
   "outputs": [],
   "source": [
    "idx = 95\n",
    "\n",
    "fig = plot_detections(image_index = idx, smc_cat_idx = \"all\",\n",
    "                      smc_star_size = smc_star_size, smc_star_alpha = smc_star_alpha)\n",
    "\n",
    "fig.savefig('figures/m71_detections_count1_all.png', dpi = 250, transparent = True, bbox_inches = 'tight', pad_inches = 0)"
   ]
  },
  {
   "cell_type": "code",
   "execution_count": null,
   "metadata": {},
   "outputs": [],
   "source": [
    "idx = 42\n",
    "\n",
    "fig = plot_detections(image_index = idx, smc_cat_idx = \"all\",\n",
    "                      smc_star_size = smc_star_size, smc_star_alpha = smc_star_alpha)\n",
    "\n",
    "fig.savefig('figures/m71_detections_count2_all.png', dpi = 250, transparent = True, bbox_inches = 'tight', pad_inches = 0)"
   ]
  },
  {
   "cell_type": "code",
   "execution_count": null,
   "metadata": {},
   "outputs": [],
   "source": [
    "idx = 152\n",
    "\n",
    "fig = plot_detections(image_index = idx, smc_cat_idx = \"all\",\n",
    "                      smc_star_size = smc_star_size, smc_star_alpha = smc_star_alpha)\n",
    "\n",
    "fig.savefig('figures/m71_detections_count3_all.png', dpi = 250, transparent = True, bbox_inches = 'tight', pad_inches = 0)"
   ]
  },
  {
   "cell_type": "code",
   "execution_count": null,
   "metadata": {},
   "outputs": [],
   "source": [
    "idx = 184\n",
    "\n",
    "fig = plot_detections(image_index = idx, smc_cat_idx = \"all\",\n",
    "                      smc_star_size = smc_star_size, smc_star_alpha = smc_star_alpha)\n",
    "\n",
    "fig.savefig('figures/m71_detections_count4_all.png', dpi = 250, transparent = True, bbox_inches = 'tight', pad_inches = 0)"
   ]
  },
  {
   "cell_type": "code",
   "execution_count": null,
   "metadata": {},
   "outputs": [],
   "source": [
    "idx = 14\n",
    "\n",
    "fig = plot_detections(image_index = idx, smc_cat_idx = \"all\",\n",
    "                      smc_star_size = smc_star_size, smc_star_alpha = smc_star_alpha)\n",
    "\n",
    "fig.savefig('figures/m71_detections_count5_all.png', dpi = 250, transparent = True, bbox_inches = 'tight', pad_inches = 0)"
   ]
  },
  {
   "cell_type": "markdown",
   "metadata": {},
   "source": [
    "---"
   ]
  },
  {
   "cell_type": "markdown",
   "metadata": {},
   "source": [
    "### **Source count heat maps**"
   ]
  },
  {
   "cell_type": "code",
   "execution_count": null,
   "metadata": {},
   "outputs": [],
   "source": [
    "torch.manual_seed(0)\n",
    "\n",
    "confmat_magcut = torch.tensor(24.0)\n",
    "confmat_fluxcut = convert_mag_to_nmgy(confmat_magcut)\n",
    "\n",
    "confmat_smc_sampled_counts = ((smc_pruned_fluxes != 0) & (smc_pruned_fluxes >= confmat_fluxcut)).sum(-1)\n",
    "confmat_true_counts = ((pruned_fluxes != 0) & (pruned_fluxes >= confmat_fluxcut)).sum(-1).unsqueeze(-1).repeat(1, smc_pruned_counts.shape[-1])\n",
    "\n",
    "smc_samples_confmat = torch.histogramdd(\n",
    "    torch.stack((confmat_smc_sampled_counts, confmat_true_counts), dim=-1).float(),\n",
    "    bins = (torch.arange(0, smc_pruned_counts.max() + 2).float(), torch.arange(0, pruned_counts.max() + 2).unique().float())\n",
    ").hist\n",
    "\n",
    "fig, ax = plt.subplots(1, 1, figsize = (7, 6))\n",
    "\n",
    "panel = sns.heatmap(smc_samples_confmat.int().numpy(),\n",
    "                    ax = ax, annot = True, annot_kws={\"size\": smallfont}, fmt = \"d\",\n",
    "                    cmap = sns.light_palette(smc_color, as_cmap=True), cbar = False)\n",
    "panel.invert_yaxis()\n",
    "\n",
    "def format_func(value, tick_position):\n",
    "    if value >= 100000:\n",
    "        return f\"{round(value / 1000, 1):.0f}k\"\n",
    "    if value >= 50:\n",
    "        return f\"{round(value / 1000, 1):.2g}k\"\n",
    "    return str(\"0\")\n",
    "\n",
    "for text in panel.texts:\n",
    "    value = int(text.get_text())\n",
    "    text.set_text(format_func(value, None))\n",
    "\n",
    "panel.set_xlabel(\"True source count\", fontsize = bigfont)\n",
    "panel.set_ylabel(\"Estimated source count\", fontsize = bigfont)\n",
    "panel.tick_params(axis = 'both', length = 0, labelsize = mediumfont)\n",
    "\n",
    "_ = ax.set_title(\"Count-stratified SMC posterior samples\", fontsize = bigfont)\n",
    "\n",
    "fig.tight_layout()\n",
    "\n",
    "fig.savefig('figures/m71_confmat_smc.png', dpi = 250, transparent = True, bbox_inches = 'tight', pad_inches = 0)"
   ]
  },
  {
   "cell_type": "code",
   "execution_count": null,
   "metadata": {},
   "outputs": [],
   "source": [
    "confmat_smc_mode_counts = ((smc_pruned_fluxes != 0) & (smc_pruned_fluxes >= confmat_fluxcut)).sum(-1).mode(-1).values\n",
    "confmat_true_counts = ((pruned_fluxes != 0) & (pruned_fluxes >= confmat_fluxcut)).sum(-1)\n",
    "\n",
    "smc_samples_confmat = torch.histogramdd(\n",
    "    torch.stack((confmat_smc_mode_counts, confmat_true_counts), dim=-1).float(),\n",
    "    bins = (torch.arange(0, smc_pruned_counts.max() + 2).float(), torch.arange(0, pruned_counts.max() + 2).unique().float())\n",
    ").hist\n",
    "\n",
    "fig, ax = plt.subplots(1, 1, figsize = (7, 6))\n",
    "\n",
    "panel = sns.heatmap(smc_samples_confmat.int().numpy(),\n",
    "                    ax = ax, annot = True, annot_kws={\"size\": smallfont}, fmt = \"d\",\n",
    "                    cmap = sns.light_palette(smc_color, as_cmap=True), cbar = False)\n",
    "panel.invert_yaxis()\n",
    "\n",
    "panel.set_xlabel(\"True source count\", fontsize = bigfont)\n",
    "panel.set_ylabel(\"Estimated source count\", fontsize = bigfont)\n",
    "panel.tick_params(axis = 'both', length = 0, labelsize = mediumfont)\n",
    "\n",
    "_ = ax.set_title(\"Count-stratified SMC posterior mode\", fontsize = bigfont)\n",
    "\n",
    "fig.tight_layout()\n",
    "\n",
    "fig.savefig('figures/m71_confmat_smc.png', dpi = 250, transparent = True, bbox_inches = 'tight', pad_inches = 0)"
   ]
  },
  {
   "cell_type": "code",
   "execution_count": null,
   "metadata": {},
   "outputs": [],
   "source": [
    "confmat_sep_counts = ((sep_pruned_fluxes != 0) & (sep_pruned_fluxes >= confmat_fluxcut)).sum(-1)\n",
    "\n",
    "sep_confmat = torch.histogramdd(\n",
    "    torch.stack((confmat_sep_counts, confmat_true_counts), dim=-1).float(),\n",
    "    bins = (torch.arange(0, smc_pruned_counts.max() + 2).float(), torch.arange(0, pruned_counts.max() + 2).unique().float())\n",
    ").hist\n",
    "\n",
    "fig, ax = plt.subplots(1, 1, figsize = (7, 6))\n",
    "panel = sns.heatmap(sep_confmat.int().numpy(),\n",
    "                    ax = ax, annot = True, annot_kws={\"size\": smallfont}, fmt = \"d\",\n",
    "                    cmap = sns.light_palette(sep_color, as_cmap=True), cbar = False)\n",
    "panel.invert_yaxis()\n",
    "\n",
    "panel.set_xlabel(\"True source count\", fontsize = bigfont)\n",
    "panel.set_ylabel(\"Estimated source count\", fontsize = bigfont)\n",
    "panel.tick_params(axis = 'both', length = 0, labelsize = mediumfont)\n",
    "\n",
    "_ = ax.set_title(\"Source Extractor\", fontsize = bigfont)\n",
    "\n",
    "fig.tight_layout()\n",
    "\n",
    "fig.savefig('figures/m71synth_confmat_sep.png', dpi = 250, transparent = True, bbox_inches = 'tight', pad_inches = 0)"
   ]
  },
  {
   "cell_type": "markdown",
   "metadata": {},
   "source": [
    "---"
   ]
  },
  {
   "cell_type": "markdown",
   "metadata": {},
   "source": [
    "### **Calibration of total intrinsic flux**"
   ]
  },
  {
   "cell_type": "markdown",
   "metadata": {},
   "source": [
    "We compute and plot the empirical coverage rate of x% credible intervals formed using CS-SMC samples for $x \\in [0.05,...,0.95]$"
   ]
  },
  {
   "cell_type": "code",
   "execution_count": null,
   "metadata": {},
   "outputs": [],
   "source": [
    "intervals = [c*0.05 for c in range(1,20)]\n",
    "coverage_rate = []\n",
    "\n",
    "smc_masked_tif = smc_pruned_fluxes[pruned_counts>0].sum(-1)\n",
    "masked_tif = pruned_fluxes[pruned_counts>0].sum(-1)\n",
    "\n",
    "for i in intervals:\n",
    "    qlow = smc_masked_tif.quantile(0.5 - i / 2, dim = -1)\n",
    "    qhigh = smc_masked_tif.quantile(0.5 + i / 2, dim = -1)\n",
    "    covered = torch.logical_and(qlow <= masked_tif, qhigh >= masked_tif)\n",
    "    \n",
    "    coverage_rate.append(covered.float().mean())\n",
    "\n",
    "[(f\"nominal coverage probability = {round(i,2)}, empirical coverage probability = {round(r.item(),2)}\") for (i,r) in zip(intervals, coverage_rate)]"
   ]
  },
  {
   "cell_type": "code",
   "execution_count": null,
   "metadata": {},
   "outputs": [],
   "source": [
    "fig, ax = plt.subplots(1, 1, figsize = (6, 6))\n",
    "\n",
    "_ = ax.axline((0,0), slope = 1, linestyle = ':', color = 'black', zorder = 0)\n",
    "_ = ax.scatter(intervals, coverage_rate, label = 'Count-stratified SMC',\n",
    "               color = smc_color, marker = smc_marker, s = 80, zorder = 1)\n",
    "\n",
    "_ = ax.set_xlim((0,1))\n",
    "_ = ax.set_ylim((0,1))\n",
    "\n",
    "_ = ax.set_xlabel('Nominal coverage probability', fontsize = bigfont)\n",
    "_ = ax.set_ylabel('Empirical coverage probability', fontsize = bigfont)\n",
    "\n",
    "_ = ax.tick_params(axis = 'both', labelsize = mediumfont)\n",
    "\n",
    "_ = ax.legend(loc = 'upper left', prop = {'size': smallfont}, handletextpad = 0.1)\n",
    "\n",
    "_ = ax.spines[['top', 'right']].set_visible(False)\n",
    "\n",
    "fig.tight_layout()\n",
    "\n",
    "fig.savefig('figures/m71_totalflux_coverage_smc.png', dpi = 250, transparent = True, bbox_inches = 'tight', pad_inches = 0)"
   ]
  },
  {
   "cell_type": "markdown",
   "metadata": {},
   "source": [
    "And to demonstrate this achievement of nominal coverage, we plot the 90% credible intervals for SMC and compare them to Source Extractor's point estimates:"
   ]
  },
  {
   "cell_type": "code",
   "execution_count": null,
   "metadata": {},
   "outputs": [],
   "source": [
    "interval = 0.9\n",
    "\n",
    "# mask intervals that contain zero for aesthetic purposes\n",
    "mask = smc_pruned_fluxes.sum(-1).quantile(0.05, dim=-1) > 0\n",
    "\n",
    "q05 = smc_pruned_fluxes[mask].sum(-1).quantile(0.5 - interval / 2, dim = -1)\n",
    "q95 = smc_pruned_fluxes[mask].sum(-1).quantile(0.5 + interval / 2, dim = -1)\n",
    "covered = torch.logical_and(q05 <= pruned_fluxes[mask].sum(-1),\n",
    "                            q95 >= pruned_fluxes[mask].sum(-1))\n",
    "\n",
    "fig, ax = plt.subplots(1, 1, figsize = (6, 6))\n",
    "\n",
    "true_total_intrinsic_flux = pruned_fluxes[mask].sum(-1)\n",
    "\n",
    "covered_legend = False\n",
    "uncovered_legend = False\n",
    "# to avoid one color from dominating, plot by index instead of in two groups\n",
    "for i in range(pruned_fluxes[mask].shape[0]):\n",
    "    color = smc_color if covered[i] else 'dimgray'\n",
    "    if (covered[i]) and (not covered_legend):\n",
    "        covered_legend = True\n",
    "        _ = ax.vlines(x = true_total_intrinsic_flux[i],\n",
    "                      ymin = q05[i], ymax = q95[i], color = color, alpha = 1, linewidth = 1,\n",
    "                      label = f\"covers ({round(100 * coverage_rate[-2].item(), 1)}%)\")\n",
    "    elif (not covered[i]) and (not uncovered_legend):\n",
    "        uncovered_legend = True\n",
    "        _ = ax.vlines(x = true_total_intrinsic_flux[i],\n",
    "                      ymin = q05[i], ymax = q95[i], color = color, alpha = 1, linewidth = 1,\n",
    "                      label = f\"does not cover ({round(100 * (1 - coverage_rate[-2]).item(), 1)}%)\")\n",
    "    else:\n",
    "        _ = ax.vlines(x = true_total_intrinsic_flux[i],\n",
    "                    ymin = q05[i], ymax = q95[i], color = color, alpha = 1, linewidth = 1)\n",
    "\n",
    "_ = ax.axline((0,0), slope = 1, color = 'black', linestyle = ':', linewidth = 1)\n",
    "\n",
    "_ = ax.set_xscale('log')\n",
    "_ = ax.set_yscale('log')\n",
    "_ = ax.set_xlabel('True total intrinsic flux', fontsize = bigfont)\n",
    "_ = ax.set_ylabel('Estimated total intrinsic flux', fontsize = bigfont)\n",
    "_ = ax.tick_params(axis = \"both\", labelsize = mediumfont)\n",
    "\n",
    "_ = ax.spines[['top', 'right']].set_visible(False)\n",
    "\n",
    "leg = ax.legend(loc = 'upper left', prop = {'size': smallfont}, title = \"Count-stratified SMC interval...\", title_fontsize = smallfont)\n",
    "leg._legend_box.align = 'left'\n",
    "\n",
    "fig.tight_layout()\n",
    "\n",
    "fig.savefig('figures/m71_totalflux_intervals_smc.png', dpi = 250, transparent = True, bbox_inches = 'tight', pad_inches = 0)"
   ]
  },
  {
   "cell_type": "code",
   "execution_count": null,
   "metadata": {},
   "outputs": [],
   "source": [
    "fig, ax = plt.subplots(1, 1, figsize = (6, 6))\n",
    "\n",
    "# to avoid one color from dominating, plot by index instead of in two groups\n",
    "_ = ax.scatter(x = pruned_fluxes[mask].sum(-1), y = sep_pruned_fluxes[mask].sum(-1),\n",
    "               color = sep_color, marker = sep_marker, s = 10, alpha = 0.9, label = \"Source Extractor\")\n",
    "\n",
    "_ = ax.axline((0,0), slope = 1, color = 'black', linestyle = ':', linewidth = 1)\n",
    "\n",
    "_ = ax.set_xscale('log')\n",
    "_ = ax.set_yscale('log')\n",
    "_ = ax.set_xlabel('True total intrinsic flux', fontsize = bigfont)\n",
    "_ = ax.set_ylabel('Estimated total intrinsic flux', fontsize = bigfont)\n",
    "\n",
    "_ = ax.tick_params(axis = \"both\", labelsize = mediumfont)\n",
    "_ = ax.legend(loc = 'upper left', prop = {'size': smallfont},\n",
    "              handletextpad = 0.1, markerscale = 2)\n",
    "\n",
    "_ = ax.spines[['top', 'right']].set_visible(False)\n",
    "\n",
    "fig.tight_layout()\n",
    "\n",
    "fig.savefig('figures/m71_totalflux_sep.png', dpi = 250, transparent = True, bbox_inches = 'tight', pad_inches = 0)"
   ]
  },
  {
   "cell_type": "code",
   "execution_count": null,
   "metadata": {},
   "outputs": [],
   "source": [
    "# simulation-based calibration plot\n",
    "sbc_mh_totalfluxes = (masked_tif.unsqueeze(-1) <= smc_masked_tif).float().mean(-1)\n",
    "\n",
    "fig, ax = plt.subplots(1, 1, figsize = (6, 6))\n",
    "_ = ax.hist(sbc_mh_totalfluxes, bins = 10, density = True)"
   ]
  },
  {
   "cell_type": "code",
   "execution_count": null,
   "metadata": {},
   "outputs": [],
   "source": [
    "# true total observed flux vs mean posterior predictive total observed flux\n",
    "fig, ax = plt.subplots(1, 1, figsize = (6, 6))\n",
    "\n",
    "posterior_predictive_mask = images.sum([-1,-2]) < images.sum([-1,-2]).quantile(0.99)\n",
    "\n",
    "_ = ax.scatter(x = images[posterior_predictive_mask].sum([-1,-2]),\n",
    "               y = smc_posterior_predictive_total_flux[posterior_predictive_mask].mean(-1),\n",
    "               color = smc_color, s = 5, alpha = 1, label = \"CS-SMC\")\n",
    "\n",
    "_ = ax.axline((0,0), slope = 1, color = 'black', linestyle = ':', linewidth = 1)\n",
    "\n",
    "_ = ax.set_xscale('log')\n",
    "_ = ax.set_yscale('log')\n",
    "\n",
    "_ = ax.set_xlabel('True total observed flux', fontsize = bigfont)\n",
    "_ = ax.set_ylabel('Mean posterior predictive\\ntotal observed flux', fontsize = bigfont)\n",
    "_ = ax.tick_params(axis = 'both', labelsize = mediumfont)"
   ]
  },
  {
   "cell_type": "markdown",
   "metadata": {},
   "source": [
    "---"
   ]
  },
  {
   "cell_type": "markdown",
   "metadata": {},
   "source": [
    "### **Precision, recall, and F1**"
   ]
  },
  {
   "cell_type": "markdown",
   "metadata": {},
   "source": [
    "We match sources that are within half a pixel of a true source and have an r-band mag within half a unit. We use mag bins ranging from 17 to 24."
   ]
  },
  {
   "cell_type": "code",
   "execution_count": null,
   "metadata": {},
   "outputs": [],
   "source": [
    "mag_bins = torch.arange(18, 24.5, 0.5)\n",
    "mags_tol = 0.5\n",
    "locs_tol = 0.5"
   ]
  },
  {
   "cell_type": "code",
   "execution_count": null,
   "metadata": {},
   "outputs": [],
   "source": [
    "torch.manual_seed(0)\n",
    "\n",
    "smc_matching_results = match_catalogs(pruned_counts, pruned_locs, pruned_fluxes,\n",
    "                                      smc_pruned_counts, smc_pruned_locs, smc_pruned_fluxes,\n",
    "                                      250, locs_tol, mags_tol, mag_bins)\n",
    "smc_true_total, smc_true_matches, smc_est_total, smc_est_matches = smc_matching_results\n",
    "\n",
    "smc_precision, smc_recall, smc_f1 = compute_precision_recall_f1(smc_true_total, smc_true_matches, smc_est_total, smc_est_matches)"
   ]
  },
  {
   "cell_type": "code",
   "execution_count": null,
   "metadata": {},
   "outputs": [],
   "source": [
    "num_boot_samples = 10000\n",
    "boot_mean_precision = torch.zeros(num_boot_samples, len(mag_bins))\n",
    "boot_mean_recall = torch.zeros(num_boot_samples, len(mag_bins))\n",
    "boot_mean_f1 = torch.zeros(num_boot_samples, len(mag_bins))\n",
    "\n",
    "for b in range(num_boot_samples):\n",
    "    boot_idx = torch.randint(0, smc_precision.shape[0], size = [smc_precision.shape[0]])\n",
    "    boot_mean_precision[b] = smc_precision[boot_idx].mean(0)\n",
    "    boot_mean_recall[b] = smc_recall[boot_idx].mean(0)\n",
    "    boot_mean_f1[b] = smc_f1[boot_idx].mean(0)\n",
    "\n",
    "alpha = 0.1 # 90% confidence intervals\n",
    "num_multiple_comparisons = 3 * len(mag_bins) # Bonferroni correction\n",
    "\n",
    "smc_precision_lower = torch.quantile(boot_mean_precision, alpha / num_multiple_comparisons, dim = 0)\n",
    "smc_precision_mean = boot_mean_precision.mean(dim = 0)\n",
    "smc_precision_upper = torch.quantile(boot_mean_precision, 1 - alpha / num_multiple_comparisons, dim = 0)\n",
    "\n",
    "smc_recall_lower = torch.quantile(boot_mean_recall, alpha / num_multiple_comparisons, dim = 0)\n",
    "smc_recall_mean = boot_mean_recall.mean(dim = 0)\n",
    "smc_recall_upper = torch.quantile(boot_mean_recall, 1 - alpha / num_multiple_comparisons, dim = 0)\n",
    "smc_f1_lower = torch.quantile(boot_mean_f1, alpha / num_multiple_comparisons, dim = 0)\n",
    "smc_f1_mean = boot_mean_f1.mean(dim = 0)\n",
    "smc_f1_upper = torch.quantile(boot_mean_f1, 1 - alpha / num_multiple_comparisons, dim = 0)"
   ]
  },
  {
   "cell_type": "code",
   "execution_count": null,
   "metadata": {},
   "outputs": [],
   "source": [
    "sep_matching_results = match_catalogs(pruned_counts, pruned_locs, pruned_fluxes,\n",
    "                                      sep_pruned_counts.unsqueeze(1), sep_pruned_locs.unsqueeze(1), sep_pruned_fluxes.unsqueeze(1),\n",
    "                                      1, locs_tol, mags_tol, mag_bins)\n",
    "sep_true_total, sep_true_matches, sep_est_total, sep_est_matches = sep_matching_results\n",
    "\n",
    "sep_precision, sep_recall, sep_f1 = compute_precision_recall_f1(sep_true_total, sep_true_matches, sep_est_total, sep_est_matches)"
   ]
  },
  {
   "cell_type": "code",
   "execution_count": null,
   "metadata": {},
   "outputs": [],
   "source": [
    "fig, ax = plt.subplots(1, 3, figsize = (18, 6*1.075))\n",
    "\n",
    "ms = 8\n",
    "\n",
    "_ = ax[0].plot(mag_bins, smc_precision_mean, color = smc_color, marker = smc_marker, ms = ms, label = \"Count-stratified SMC\")\n",
    "_ = ax[0].plot(mag_bins, sep_precision.squeeze(), color = sep_color, marker = sep_marker, ms = 0.9*ms, label = \"Source Extractor\")\n",
    "_ = ax[0].fill_between(mag_bins, smc_precision_lower, smc_precision_upper, color = smc_color, alpha = 0.5)\n",
    "_ = ax[0].set_ylabel('Precision', fontsize = bigfont)\n",
    "\n",
    "_ = ax[1].plot(mag_bins, smc_recall.mean(0), color = smc_color, marker = smc_marker, ms = ms, label = \"Count-stratified SMC\")\n",
    "_ = ax[1].plot(mag_bins, sep_recall.squeeze(), color = sep_color, marker = sep_marker, ms = 0.9*ms, label = \"Source Extractor\")\n",
    "_ = ax[1].fill_between(mag_bins, smc_recall_lower, smc_recall_upper, color = smc_color, alpha = 0.5)\n",
    "_ = ax[1].set_ylabel('Recall', fontsize = bigfont)\n",
    "\n",
    "_ = ax[2].plot(mag_bins, smc_f1_mean, color = smc_color, marker = smc_marker, ms = ms, label = \"Count-stratified SMC\")\n",
    "_ = ax[2].plot(mag_bins, sep_f1.squeeze(), color = sep_color, marker = sep_marker, ms = 0.9*ms, label = \"Source Extractor\")\n",
    "_ = ax[2].fill_between(mag_bins, smc_f1_lower, smc_f1_upper, color = smc_color, alpha = 0.5)\n",
    "_ = ax[2].set_ylabel('F1 score', fontsize = bigfont)\n",
    "\n",
    "for a in ax.flat:\n",
    "    _ = a.tick_params(axis = \"both\", labelsize = 0.8*smallfont)\n",
    "    _ = a.set_xticks(ticks = mag_bins,\n",
    "                     labels = [f'<{mag_bins[0]}'] + [f'[{mag_bins[t].item()}, {mag_bins[t+1]})' for t in range(len(mag_bins)-1)],\n",
    "                     rotation = 45, ha = 'right', rotation_mode = \"anchor\")\n",
    "    _ = a.set_xlabel('r-band magnitude\\n(dimmer $\\Longrightarrow$)', fontsize = bigfont)\n",
    "    _ = a.spines[['top', 'right']].set_visible(False)\n",
    "    _ = a.set_ylim((0,1.05))\n",
    "\n",
    "handles, labels = ax[0].get_legend_handles_labels()\n",
    "_ = fig.legend(handles, labels, loc = 'upper center', ncol = 2, bbox_to_anchor = (0.5, 1.075), fontsize = smallfont)\n",
    "\n",
    "_ = fig.tight_layout()\n",
    "\n",
    "fig.savefig('figures/m71_matching.png', dpi = 250, transparent = True, bbox_inches = 'tight', pad_inches = 0)"
   ]
  },
  {
   "cell_type": "markdown",
   "metadata": {},
   "source": [
    "---"
   ]
  },
  {
   "cell_type": "markdown",
   "metadata": {},
   "source": [
    "### **Cumulative luminosity functions**"
   ]
  },
  {
   "cell_type": "code",
   "execution_count": null,
   "metadata": {},
   "outputs": [],
   "source": [
    "torch.manual_seed(0)\n",
    "\n",
    "clf_mag_bins = torch.arange(14.5, 24.5, 0.5)\n",
    "\n",
    "clf_smc_matches = match_catalogs(pruned_counts, pruned_locs, pruned_fluxes,\n",
    "                                 smc_pruned_counts, smc_pruned_locs, smc_pruned_fluxes,\n",
    "                                 50, locs_tol, mags_tol, clf_mag_bins)\n",
    "clf_smc_true_total, clf_smc_true_matches, clf_smc_est_total, clf_smc_est_matches = clf_smc_matches\n",
    "\n",
    "clf_sep_matches = match_catalogs(pruned_counts, pruned_locs, pruned_fluxes,\n",
    "                                 sep_pruned_counts.unsqueeze(1), sep_pruned_locs.unsqueeze(1), sep_pruned_fluxes.unsqueeze(1),\n",
    "                                 1, locs_tol, mags_tol, clf_mag_bins)\n",
    "clf_sep_true_total, clf_sep_true_matches, clf_sep_est_total, clf_sep_est_matches = clf_sep_matches"
   ]
  },
  {
   "cell_type": "code",
   "execution_count": null,
   "metadata": {},
   "outputs": [],
   "source": [
    "fig, ax = plt.subplots(1, 2, figsize = (14, 6 * 1.075))\n",
    "\n",
    "_ = ax[0].plot(clf_mag_bins, clf_smc_true_total.sum(0)[0].cumsum(0), label = \"True catalog\",\n",
    "               color = 'black', linewidth = 1.5, zorder = 100)\n",
    "_ = ax[0].plot(clf_mag_bins, clf_smc_est_total.sum(0)[0].cumsum(-1), label = \"Count-stratified SMC\",\n",
    "               color = smc_color, linestyle = 'dashed', linewidth = 1)\n",
    "_ = ax[0].plot(clf_mag_bins, clf_smc_est_total.sum(0)[1:].cumsum(-1).permute(1, 0),\n",
    "               color = smc_color, linestyle = 'dashed', linewidth = 1)\n",
    "_ = ax[0].plot(clf_mag_bins, clf_sep_est_total.sum(0).cumsum(-1).permute(1, 0), label = \"Source Extractor\",\n",
    "               color = sep_color, linestyle = 'dashed', linewidth = 1)\n",
    "_ = ax[0].set_title('All sources', fontsize = mediumfont)\n",
    "_ = ax[0].set_ylim(0,1200)\n",
    "_ = ax[1].plot(clf_mag_bins, clf_smc_true_matches.sum(0)[0].cumsum(0),\n",
    "               color = 'black', linewidth = 1.5, zorder = 100)\n",
    "_ = ax[1].plot(clf_mag_bins, clf_smc_est_matches.sum(0)[0].cumsum(-1),\n",
    "               color = smc_color, linestyle = 'dashed', linewidth = 1)\n",
    "_ = ax[1].plot(clf_mag_bins, clf_smc_est_matches.sum(0)[1:].cumsum(-1).permute(1, 0),\n",
    "               color = smc_color, linestyle = 'dashed', linewidth = 1)\n",
    "_ = ax[1].plot(clf_mag_bins, clf_sep_est_matches.sum(0).cumsum(-1).permute(1, 0),\n",
    "               color = sep_color, linestyle = 'dashed', linewidth = 1)\n",
    "_ = ax[1].set_title('Matched sources', fontsize = mediumfont)\n",
    "\n",
    "for a in ax.flat:\n",
    "    _ = a.tick_params(axis = \"both\", labelsize = 0.8*smallfont)\n",
    "    _ = a.set_xticks(ticks = clf_mag_bins,\n",
    "                     labels = [f'<{clf_mag_bins[t].item()}' for t in range(len(clf_mag_bins))],\n",
    "                     rotation = 45, ha = 'right', rotation_mode = \"anchor\")\n",
    "    _ = a.set_xlabel('r-band magnitude\\n(dimmer $\\Longrightarrow$)', fontsize = bigfont)\n",
    "    _ = a.set_ylabel('Cumulative number of sources', fontsize = bigfont)\n",
    "    _ = a.spines[['top', 'right']].set_visible(False)\n",
    "\n",
    "handles, labels = ax[0].get_legend_handles_labels()\n",
    "_ = fig.legend(handles, labels, loc = 'upper center', ncol = 3, bbox_to_anchor = (0.5, 1.075), fontsize = smallfont)\n",
    "\n",
    "fig.savefig('figures/m71_clf.png', dpi = 250, transparent = True, bbox_inches = 'tight', pad_inches = 0)"
   ]
  },
  {
   "cell_type": "markdown",
   "metadata": {},
   "source": [
    "---"
   ]
  },
  {
   "cell_type": "markdown",
   "metadata": {},
   "source": [
    "### **Runtime and number of SMC iterations**"
   ]
  },
  {
   "cell_type": "code",
   "execution_count": null,
   "metadata": {},
   "outputs": [],
   "source": [
    "fig, ax = plt.subplots(1, 3, figsize = (18, 6))\n",
    "\n",
    "_ = ax[0].scatter(pruned_counts, smc_runtime, color = smc_color, marker = smc_marker, alpha = 0.5)\n",
    "_ = ax[0].set_ylim((0, 120))\n",
    "_ = ax[0].set_xlabel(\"True source count\", fontsize = bigfont)\n",
    "_ = ax[0].set_ylabel(\"Runtime (seconds)\", fontsize = bigfont)\n",
    "_ = ax[0].tick_params(axis = \"both\", labelsize = mediumfont)\n",
    "_ = ax[0].spines[['top', 'right']].set_visible(False)\n",
    "\n",
    "_ = ax[1].scatter(pruned_fluxes.sum(-1), smc_runtime, color = smc_color, marker = smc_marker, alpha = 0.5)\n",
    "_ = ax[1].set_ylim((0, 120))\n",
    "_ = ax[1].set_xscale('log')\n",
    "_ = ax[1].set_xlabel(\"True total intrinsic flux\", fontsize = bigfont)\n",
    "_ = ax[1].set_ylabel(\"Runtime (seconds)\", fontsize = bigfont)\n",
    "_ = ax[1].tick_params(axis = \"both\", labelsize = mediumfont)\n",
    "_ = ax[1].spines[['top', 'right']].set_visible(False)\n",
    "\n",
    "_ = ax[2].scatter(images.flatten(1,2).sum(-1), smc_runtime, color = smc_color, marker = smc_marker, alpha = 0.5)\n",
    "_ = ax[2].set_ylim((0, 120))\n",
    "_ = ax[2].set_xscale('log')\n",
    "_ = ax[2].set_xlabel(\"Sum of image pixel intensities\", fontsize = bigfont)\n",
    "_ = ax[2].set_ylabel(\"Runtime (seconds)\", fontsize = bigfont)\n",
    "_ = ax[2].tick_params(axis = \"both\", labelsize = mediumfont)\n",
    "_ = ax[2].spines[['top', 'right']].set_visible(False)\n",
    "\n",
    "fig.tight_layout()\n",
    "\n",
    "fig.savefig('figures/m71_runtime.png', dpi = 250, transparent = True, bbox_inches = 'tight', pad_inches = 0)"
   ]
  },
  {
   "cell_type": "code",
   "execution_count": null,
   "metadata": {},
   "outputs": [],
   "source": [
    "fig, ax = plt.subplots(1, 3, figsize = (18, 6))\n",
    "\n",
    "_ = ax[0].scatter(pruned_counts, smc_num_iters, color = smc_color, marker = smc_marker, alpha = 0.5)\n",
    "_ = ax[0].set_ylim((0, 60))\n",
    "_ = ax[0].set_xlabel(\"True source count\", fontsize = bigfont)\n",
    "_ = ax[0].set_ylabel(\"Number of SMC iterations\", fontsize = bigfont)\n",
    "_ = ax[0].tick_params(axis = \"both\", labelsize = mediumfont)\n",
    "_ = ax[0].spines[['top', 'right']].set_visible(False)\n",
    "\n",
    "_ = ax[1].scatter(pruned_fluxes.sum(-1), smc_num_iters, color = smc_color, marker = smc_marker, alpha = 0.5)\n",
    "_ = ax[1].set_ylim((0, 60))\n",
    "_ = ax[1].set_xscale('log')\n",
    "_ = ax[1].set_xlabel(\"True total intrinsic flux\", fontsize = bigfont)\n",
    "_ = ax[1].set_ylabel(\"Number of SMC iterations\", fontsize = bigfont)\n",
    "_ = ax[1].tick_params(axis = \"both\", labelsize = mediumfont)\n",
    "_ = ax[1].spines[['top', 'right']].set_visible(False)\n",
    "\n",
    "_ = ax[2].scatter(images.flatten(1,2).sum(-1), smc_num_iters, color = smc_color, marker = smc_marker, alpha = 0.5)\n",
    "_ = ax[2].set_ylim((0, 60))\n",
    "_ = ax[2].set_xscale('log')\n",
    "_ = ax[2].set_xlabel(\"Sum of image pixel intensities\", fontsize = bigfont)\n",
    "_ = ax[2].set_ylabel(\"Number of SMC iterations\", fontsize = bigfont)\n",
    "_ = ax[2].tick_params(axis = \"both\", labelsize = mediumfont)\n",
    "_ = ax[2].spines[['top', 'right']].set_visible(False)\n",
    "\n",
    "fig.tight_layout()\n",
    "\n",
    "fig.savefig('figures/m71_iterations.png', dpi = 250, transparent = True, bbox_inches = 'tight', pad_inches = 0)"
   ]
  },
  {
   "cell_type": "markdown",
   "metadata": {},
   "source": [
    "---"
   ]
  }
 ],
 "metadata": {
  "kernelspec": {
   "display_name": ".venv",
   "language": "python",
   "name": "python3"
  },
  "language_info": {
   "codemirror_mode": {
    "name": "ipython",
    "version": 3
   },
   "file_extension": ".py",
   "mimetype": "text/x-python",
   "name": "python",
   "nbconvert_exporter": "python",
   "pygments_lexer": "ipython3",
   "version": "3.10.12"
  }
 },
 "nbformat": 4,
 "nbformat_minor": 2
}
