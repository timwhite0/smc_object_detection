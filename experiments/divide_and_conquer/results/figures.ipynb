{
 "cells": [
  {
   "cell_type": "code",
   "execution_count": 1,
   "metadata": {},
   "outputs": [],
   "source": [
    "import torch\n",
    "import numpy as np\n",
    "import matplotlib.pyplot as plt"
   ]
  },
  {
   "cell_type": "markdown",
   "metadata": {},
   "source": [
    "### Load in images"
   ]
  },
  {
   "cell_type": "code",
   "execution_count": 2,
   "metadata": {},
   "outputs": [],
   "source": [
    "images = torch.load('../data/images.pt')\n",
    "true_counts = torch.load('../data/true_counts.pt')\n",
    "true_locs = torch.load('../data/true_locs.pt')\n",
    "true_fluxes = torch.load('../data/true_fluxes.pt')\n",
    "\n",
    "num_counts = true_counts.max().item() + 1  # |{0,1,2,...,max_count}|"
   ]
  },
  {
   "cell_type": "code",
   "execution_count": 3,
   "metadata": {},
   "outputs": [],
   "source": [
    "image_dim = images.shape[1]\n",
    "image_index = 140\n",
    "\n",
    "grid_interval = image_dim // 4\n",
    "outer_min = 0 - 0.5\n",
    "outer_max = image_dim - 0.5\n",
    "pad = 2\n",
    "\n",
    "cmap = 'gray'\n",
    "linewidth = 2\n",
    "pad_color1 = 'darkorange'\n",
    "pad_color2 = 'darkorange'"
   ]
  },
  {
   "cell_type": "markdown",
   "metadata": {},
   "source": [
    "### Illustrate tiling"
   ]
  },
  {
   "cell_type": "code",
   "execution_count": 4,
   "metadata": {},
   "outputs": [
    {
     "data": {
      "image/png": "[encoded data removed]",
      "text/plain": [
       "<Figure size 600x600 with 1 Axes>"
      ]
     },
     "metadata": {},
     "output_type": "display_data"
    }
   ],
   "source": [
    "fig, ax = plt.subplots(1, 1, figsize = (6,6))\n",
    "img = ax.imshow(images[image_index], cmap = cmap)\n",
    "_ = ax.spines[['top', 'right', 'bottom', 'left']].set_visible(False)\n",
    "_ = ax.set_xticks([])\n",
    "_ = ax.set_yticks([])\n",
    "\n",
    "_ = ax.vlines(x = [0 * grid_interval - pad - 0.5, 4 * grid_interval + pad - 0.5],\n",
    "              ymin = outer_min - pad, ymax = 4 * grid_interval + pad - 0.5,\n",
    "              color = 'white', linestyles = 'dashed', linewidth = linewidth, alpha = 0)\n",
    "_ = ax.hlines(y = [0 * grid_interval - pad - 0.5, 4 * grid_interval + pad - 0.5],\n",
    "              xmin = outer_min - pad, xmax = 4 * grid_interval + pad - 0.5,\n",
    "              color = 'white', linestyles = 'dashed', linewidth = linewidth, alpha = 0)\n",
    "\n",
    "fig.savefig('figures/image32x32_noborders.png', dpi = 250, transparent = True)"
   ]
  },
  {
   "cell_type": "code",
   "execution_count": 5,
   "metadata": {},
   "outputs": [],
   "source": [
    "# tile borders\n",
    "_ = ax.vlines(x = [c * grid_interval - 0.5 for c in range(5)],\n",
    "              ymin = outer_min, ymax = outer_max,\n",
    "              color = pad_color1, linewidth = 2 * linewidth)\n",
    "_ = ax.hlines(y = [c * grid_interval - 0.5 for c in range(5)],\n",
    "              xmin = outer_min, xmax = outer_max,\n",
    "              color = pad_color1, linewidth = 2 * linewidth)\n",
    "\n",
    "fig\n",
    "fig.savefig('figures/image32x32_tiles.png', dpi = 250, transparent = True)"
   ]
  },
  {
   "cell_type": "markdown",
   "metadata": {},
   "source": [
    "### Demonstrate divide-and-conquer procedure"
   ]
  },
  {
   "cell_type": "markdown",
   "metadata": {},
   "source": [
    "##### 16 tiles"
   ]
  },
  {
   "cell_type": "code",
   "execution_count": 6,
   "metadata": {},
   "outputs": [
    {
     "data": {
      "image/png": "[encoded data removed]",
      "text/plain": [
       "<Figure size 600x600 with 1 Axes>"
      ]
     },
     "metadata": {},
     "output_type": "display_data"
    }
   ],
   "source": [
    "fig, ax = plt.subplots(1, 1, figsize = (6,6))\n",
    "img = ax.imshow(images[image_index], cmap = cmap)\n",
    "_ = ax.spines[['top', 'right', 'bottom', 'left']].set_visible(False)\n",
    "_ = ax.set_xticks([])\n",
    "_ = ax.set_yticks([])\n",
    "\n",
    "_ = ax.vlines(x = [0 * grid_interval - pad - 0.5, 4 * grid_interval + pad - 0.5],\n",
    "              ymin = outer_min - pad, ymax = 4 * grid_interval + pad - 0.5,\n",
    "              color = 'white', linestyles = 'dashed', linewidth = linewidth, alpha = 0)\n",
    "_ = ax.hlines(y = [0 * grid_interval - pad - 0.5, 4 * grid_interval + pad - 0.5],\n",
    "              xmin = outer_min - pad, xmax = 4 * grid_interval + pad - 0.5,\n",
    "              color = 'white', linestyles = 'dashed', linewidth = linewidth, alpha = 0)\n",
    "\n",
    "# tile borders\n",
    "_ = ax.vlines(x = [c * grid_interval - 0.5 for c in range(5)],\n",
    "              ymin = outer_min, ymax = outer_max,\n",
    "              color = 'white', linewidth = linewidth)\n",
    "_ = ax.hlines(y = [c * grid_interval - 0.5 for c in range(5)],\n",
    "              xmin = outer_min, xmax = outer_max,\n",
    "              color = 'white', linewidth = linewidth)\n",
    "\n",
    "# padding\n",
    "_ = ax.vlines(x = [0 * grid_interval - pad - 0.5, 1 * grid_interval + pad - 0.5],\n",
    "              ymin = outer_min - pad, ymax = grid_interval + pad - 0.5,\n",
    "              color = pad_color1, linestyles = 'dashed', linewidth = linewidth)\n",
    "_ = ax.hlines(y = [0 * grid_interval - pad - 0.5, 1 * grid_interval + pad - 0.5],\n",
    "              xmin = outer_min - pad, xmax = grid_interval + pad - 0.5,\n",
    "              color = pad_color1, linestyles = 'dashed', linewidth = linewidth)\n",
    "\n",
    "fig.savefig('figures/image32x32_tile1.png', dpi = 250, transparent = True)"
   ]
  },
  {
   "cell_type": "code",
   "execution_count": 7,
   "metadata": {},
   "outputs": [],
   "source": [
    "_ = ax.vlines(x = [0 * grid_interval - pad - 0.5, 1 * grid_interval + pad - 0.5],\n",
    "              ymin = 1 * grid_interval - pad - 0.5, ymax = 2 * grid_interval + pad - 0.5,\n",
    "              color = pad_color2, linestyles = 'dashed', linewidth = linewidth)\n",
    "_ = ax.hlines(y = [1 * grid_interval - pad - 0.5, 2 * grid_interval + pad - 0.5],\n",
    "              xmin = outer_min - pad, xmax = grid_interval + pad - 0.5,\n",
    "              color = pad_color2, linestyles = 'dashed', linewidth = linewidth)\n",
    "\n",
    "fig\n",
    "fig.savefig('figures/image32x32_tile2.png', dpi = 250, transparent = True)"
   ]
  },
  {
   "cell_type": "markdown",
   "metadata": {},
   "source": [
    "##### 8 pairs"
   ]
  },
  {
   "cell_type": "code",
   "execution_count": 8,
   "metadata": {},
   "outputs": [
    {
     "data": {
      "image/png": "[encoded data removed]",
      "text/plain": [
       "<Figure size 600x600 with 1 Axes>"
      ]
     },
     "metadata": {},
     "output_type": "display_data"
    }
   ],
   "source": [
    "fig, ax = plt.subplots(1, 1, figsize = (6,6))\n",
    "img = ax.imshow(images[image_index], cmap = cmap)\n",
    "_ = ax.spines[['top', 'right', 'bottom', 'left']].set_visible(False)\n",
    "_ = ax.set_xticks([])\n",
    "_ = ax.set_yticks([])\n",
    "\n",
    "_ = ax.vlines(x = [0 * grid_interval - pad - 0.5, 4 * grid_interval + pad - 0.5],\n",
    "              ymin = outer_min - pad, ymax = 4 * grid_interval + pad - 0.5,\n",
    "              color = 'white', linestyles = 'dashed', linewidth = linewidth, alpha = 0)\n",
    "_ = ax.hlines(y = [0 * grid_interval - pad - 0.5, 4 * grid_interval + pad - 0.5],\n",
    "              xmin = outer_min - pad, xmax = 4 * grid_interval + pad - 0.5,\n",
    "              color = 'white', linestyles = 'dashed', linewidth = linewidth, alpha = 0)\n",
    "\n",
    "# tile borders\n",
    "_ = ax.vlines(x = [c * grid_interval - 0.5 for c in range(5)],\n",
    "              ymin = outer_min, ymax = outer_max,\n",
    "              color = 'white', linewidth = linewidth)\n",
    "_ = ax.hlines(y = [c * grid_interval - 0.5 for c in [0,2,4]],\n",
    "              xmin = outer_min, xmax = outer_max,\n",
    "              color = 'white', linewidth = linewidth)\n",
    "\n",
    "# padding\n",
    "_ = ax.vlines(x = [0 * grid_interval - pad - 0.5, 1 * grid_interval + pad - 0.5],\n",
    "              ymin = outer_min - pad, ymax = 2 * grid_interval + pad - 0.5,\n",
    "              color = pad_color1, linestyles = 'dashed', linewidth = linewidth)\n",
    "_ = ax.hlines(y = [0 * grid_interval - pad - 0.5, 2 * grid_interval + pad - 0.5],\n",
    "              xmin = outer_min - pad, xmax = grid_interval + pad - 0.5,\n",
    "              color = pad_color1, linestyles = 'dashed', linewidth = linewidth)\n",
    "\n",
    "fig.savefig('figures/image32x32_pair1.png', dpi = 250, transparent = True)"
   ]
  },
  {
   "cell_type": "code",
   "execution_count": 9,
   "metadata": {},
   "outputs": [],
   "source": [
    "_ = ax.vlines(x = [1 * grid_interval - pad - 0.5, 2 * grid_interval + pad - 0.5],\n",
    "              ymin = outer_min - pad, ymax = 2 * grid_interval + pad - 0.5,\n",
    "              color = pad_color2, linestyles = 'dashed', linewidth = linewidth)\n",
    "_ = ax.hlines(y = [0 * grid_interval - pad - 0.5, 2 * grid_interval + pad - 0.5],\n",
    "              xmin = 1 * grid_interval - pad - 0.5, xmax = 2 * grid_interval + pad - 0.5,\n",
    "              color = pad_color2, linestyles = 'dashed', linewidth = linewidth)\n",
    "\n",
    "fig\n",
    "fig.savefig('figures/image32x32_pair2.png', dpi = 250, transparent = True)"
   ]
  },
  {
   "cell_type": "markdown",
   "metadata": {},
   "source": [
    "##### 4 quadrants"
   ]
  },
  {
   "cell_type": "code",
   "execution_count": 10,
   "metadata": {},
   "outputs": [
    {
     "data": {
      "image/png": "[encoded data removed]",
      "text/plain": [
       "<Figure size 600x600 with 1 Axes>"
      ]
     },
     "metadata": {},
     "output_type": "display_data"
    }
   ],
   "source": [
    "fig, ax = plt.subplots(1, 1, figsize = (6,6))\n",
    "img = ax.imshow(images[image_index], cmap = cmap)\n",
    "_ = ax.spines[['top', 'right', 'bottom', 'left']].set_visible(False)\n",
    "_ = ax.set_xticks([])\n",
    "_ = ax.set_yticks([])\n",
    "\n",
    "_ = ax.vlines(x = [0 * grid_interval - pad - 0.5, 4 * grid_interval + pad - 0.5],\n",
    "              ymin = outer_min - pad, ymax = 4 * grid_interval + pad - 0.5,\n",
    "              color = 'white', linestyles = 'dashed', linewidth = linewidth, alpha = 0)\n",
    "_ = ax.hlines(y = [0 * grid_interval - pad - 0.5, 4 * grid_interval + pad - 0.5],\n",
    "              xmin = outer_min - pad, xmax = 4 * grid_interval + pad - 0.5,\n",
    "              color = 'white', linestyles = 'dashed', linewidth = linewidth, alpha = 0)\n",
    "\n",
    "# tile borders\n",
    "_ = ax.vlines(x = [c * grid_interval - 0.5 for c in [0,2,4]],\n",
    "              ymin = outer_min, ymax = outer_max,\n",
    "              color = 'white', linewidth = linewidth)\n",
    "_ = ax.hlines(y = [c * grid_interval - 0.5 for c in [0,2,4]],\n",
    "              xmin = outer_min, xmax = outer_max,\n",
    "              color = 'white', linewidth = linewidth)\n",
    "\n",
    "# padding\n",
    "_ = ax.vlines(x = [0 * grid_interval - pad - 0.5, 2 * grid_interval + pad - 0.5],\n",
    "              ymin = outer_min - pad, ymax = 2 * grid_interval + pad - 0.5,\n",
    "              color = pad_color1, linestyles = 'dashed', linewidth = linewidth)\n",
    "_ = ax.hlines(y = [0 * grid_interval - pad - 0.5, 2 * grid_interval + pad - 0.5],\n",
    "              xmin = outer_min - pad, xmax = 2 * grid_interval + pad - 0.5,\n",
    "              color = pad_color1, linestyles = 'dashed', linewidth = linewidth)\n",
    "\n",
    "fig.savefig('figures/image32x32_quadrant1.png', dpi = 250, transparent = True)"
   ]
  },
  {
   "cell_type": "code",
   "execution_count": 11,
   "metadata": {},
   "outputs": [],
   "source": [
    "_ = ax.vlines(x = [0 * grid_interval - pad - 0.5, 2 * grid_interval + pad - 0.5],\n",
    "              ymin = 2 * grid_interval - pad - 0.5, ymax = 4 * grid_interval + pad - 0.5,\n",
    "              color = pad_color2, linestyles = 'dashed', linewidth = linewidth)\n",
    "_ = ax.hlines(y = [2 * grid_interval - pad - 0.5, 4 * grid_interval + pad - 0.5],\n",
    "              xmin = outer_min - pad, xmax = 2 * grid_interval + pad - 0.5,\n",
    "              color = pad_color2, linestyles = 'dashed', linewidth = linewidth)\n",
    "\n",
    "fig\n",
    "fig.savefig('figures/image32x32_quadrant2.png', dpi = 250, transparent = True)"
   ]
  },
  {
   "cell_type": "markdown",
   "metadata": {},
   "source": [
    "##### 2 halves"
   ]
  },
  {
   "cell_type": "code",
   "execution_count": 12,
   "metadata": {},
   "outputs": [
    {
     "data": {
      "image/png": "[encoded data removed]",
      "text/plain": [
       "<Figure size 600x600 with 1 Axes>"
      ]
     },
     "metadata": {},
     "output_type": "display_data"
    }
   ],
   "source": [
    "fig, ax = plt.subplots(1, 1, figsize = (6,6))\n",
    "img = ax.imshow(images[image_index], cmap = cmap)\n",
    "_ = ax.spines[['top', 'right', 'bottom', 'left']].set_visible(False)\n",
    "_ = ax.set_xticks([])\n",
    "_ = ax.set_yticks([])\n",
    "\n",
    "_ = ax.vlines(x = [0 * grid_interval - pad - 0.5, 4 * grid_interval + pad - 0.5],\n",
    "              ymin = outer_min - pad, ymax = 4 * grid_interval + pad - 0.5,\n",
    "              color = 'white', linestyles = 'dashed', linewidth = linewidth, alpha = 0)\n",
    "_ = ax.hlines(y = [0 * grid_interval - pad - 0.5, 4 * grid_interval + pad - 0.5],\n",
    "              xmin = outer_min - pad, xmax = 4 * grid_interval + pad - 0.5,\n",
    "              color = 'white', linestyles = 'dashed', linewidth = linewidth, alpha = 0)\n",
    "\n",
    "_ = ax.vlines(x = [0 * grid_interval - pad - 0.5, 4 * grid_interval + pad - 0.5],\n",
    "              ymin = outer_min - pad, ymax = 4 * grid_interval + pad - 0.5,\n",
    "              color = 'white', linestyles = 'dashed', linewidth = linewidth)\n",
    "_ = ax.hlines(y = [0 * grid_interval - pad - 0.5, 4 * grid_interval + pad - 0.5],\n",
    "              xmin = outer_min - pad, xmax = 4 * grid_interval + pad - 0.5,\n",
    "              color = 'white', linestyles = 'dashed', linewidth = linewidth)\n",
    "\n",
    "# tile borders\n",
    "_ = ax.vlines(x = [c * grid_interval - 0.5 for c in [0,2,4]],\n",
    "              ymin = outer_min, ymax = outer_max,\n",
    "              color = 'white', linewidth = linewidth)\n",
    "_ = ax.hlines(y = [c * grid_interval - 0.5 for c in [0,4]],\n",
    "              xmin = outer_min, xmax = outer_max,\n",
    "              color = 'white', linewidth = linewidth)\n",
    "\n",
    "# padding\n",
    "_ = ax.vlines(x = [0 * grid_interval - pad - 0.5, 2 * grid_interval + pad - 0.5],\n",
    "              ymin = outer_min - pad, ymax = 4 * grid_interval + pad - 0.5,\n",
    "              color = pad_color1, linestyles = 'dashed', linewidth = linewidth)\n",
    "_ = ax.hlines(y = [0 * grid_interval - pad - 0.5, 4 * grid_interval + pad - 0.5],\n",
    "              xmin = outer_min - pad, xmax = 2 * grid_interval + pad - 0.5,\n",
    "              color = pad_color1, linestyles = 'dashed', linewidth = linewidth)\n",
    "\n",
    "fig.savefig('figures/image32x32_half1.png', dpi = 250, transparent = True)"
   ]
  },
  {
   "cell_type": "code",
   "execution_count": 13,
   "metadata": {},
   "outputs": [],
   "source": [
    "_ = ax.vlines(x = [2 * grid_interval - pad - 0.5, 4 * grid_interval + pad - 0.5],\n",
    "              ymin = outer_min - pad, ymax = 4 * grid_interval + pad - 0.5,\n",
    "              color = pad_color2, linestyles = 'dashed', linewidth = linewidth)\n",
    "_ = ax.hlines(y = [0 * grid_interval - pad - 0.5, 4 * grid_interval + pad - 0.5],\n",
    "              xmin = 2 * grid_interval - pad - 0.5, xmax = 4 * grid_interval + pad - 0.5,\n",
    "              color = pad_color2, linestyles = 'dashed', linewidth = linewidth)\n",
    "\n",
    "fig\n",
    "fig.savefig('figures/image32x32_half2.png', dpi = 250, transparent = True)"
   ]
  },
  {
   "cell_type": "markdown",
   "metadata": {},
   "source": [
    "##### 1 image"
   ]
  },
  {
   "cell_type": "code",
   "execution_count": 14,
   "metadata": {},
   "outputs": [
    {
     "data": {
      "image/png": "[encoded data removed]",
      "text/plain": [
       "<Figure size 600x600 with 1 Axes>"
      ]
     },
     "metadata": {},
     "output_type": "display_data"
    }
   ],
   "source": [
    "fig, ax = plt.subplots(1, 1, figsize = (6,6))\n",
    "img = ax.imshow(images[image_index], cmap = cmap)\n",
    "_ = ax.spines[['top', 'right', 'bottom', 'left']].set_visible(False)\n",
    "_ = ax.set_xticks([])\n",
    "_ = ax.set_yticks([])\n",
    "\n",
    "# tile borders\n",
    "_ = ax.vlines(x = [c * grid_interval - 0.5 for c in [0,4]],\n",
    "              ymin = outer_min, ymax = outer_max,\n",
    "              color = 'white', linewidth = linewidth, alpha = 0)\n",
    "_ = ax.hlines(y = [c * grid_interval - 0.5 for c in [0,4]],\n",
    "              xmin = outer_min, xmax = outer_max,\n",
    "              color = 'white', linewidth = linewidth, alpha = 0)\n",
    "\n",
    "# padding\n",
    "_ = ax.vlines(x = [0 * grid_interval - pad - 0.5, 4 * grid_interval + pad - 0.5],\n",
    "              ymin = outer_min - pad, ymax = 4 * grid_interval + pad - 0.5,\n",
    "              color = pad_color1, linestyles = 'dashed', linewidth = linewidth)\n",
    "_ = ax.hlines(y = [0 * grid_interval - pad - 0.5, 4 * grid_interval + pad - 0.5],\n",
    "              xmin = outer_min - pad, xmax = 4 * grid_interval + pad - 0.5,\n",
    "              color = pad_color1, linestyles = 'dashed', linewidth = linewidth)\n",
    "\n",
    "fig.savefig('figures/image32x32_image1.png', dpi = 250, transparent = True)"
   ]
  },
  {
   "cell_type": "code",
   "execution_count": 15,
   "metadata": {},
   "outputs": [
    {
     "data": {
      "image/png": "[encoded data removed]",
      "text/plain": [
       "<Figure size 600x600 with 1 Axes>"
      ]
     },
     "metadata": {},
     "output_type": "display_data"
    }
   ],
   "source": [
    "fig, ax = plt.subplots(1, 1, figsize = (6,6))\n",
    "img = ax.imshow(images[image_index], cmap = cmap)\n",
    "_ = ax.spines[['top', 'right', 'bottom', 'left']].set_visible(False)\n",
    "_ = ax.set_xticks([])\n",
    "_ = ax.set_yticks([])\n",
    "\n",
    "# tile borders\n",
    "_ = ax.vlines(x = [c * grid_interval - 0.5 for c in [0,4]],\n",
    "              ymin = outer_min, ymax = outer_max,\n",
    "              color = pad_color1, linewidth = 2 * linewidth, linestyles = 'solid')\n",
    "_ = ax.hlines(y = [c * grid_interval - 0.5 for c in [0,4]],\n",
    "              xmin = outer_min, xmax = outer_max,\n",
    "              color = pad_color1, linewidth = 2 * linewidth, linestyles = 'solid')\n",
    "\n",
    "# padding\n",
    "_ = ax.vlines(x = [0 * grid_interval - pad - 0.5, 4 * grid_interval + pad - 0.5],\n",
    "              ymin = outer_min - pad, ymax = 4 * grid_interval + pad - 0.5,\n",
    "              color = 'white', linestyles = 'dashed', linewidth = linewidth, alpha = 0)\n",
    "_ = ax.hlines(y = [0 * grid_interval - pad - 0.5, 4 * grid_interval + pad - 0.5],\n",
    "              xmin = outer_min - pad, xmax = 4 * grid_interval + pad - 0.5,\n",
    "              color = 'white', linestyles = 'dashed', linewidth = linewidth, alpha = 0)\n",
    "\n",
    "fig.savefig('figures/image32x32_image2.png', dpi = 250, transparent = True)"
   ]
  }
 ],
 "metadata": {
  "kernelspec": {
   "display_name": "Python 3",
   "language": "python",
   "name": "python3"
  },
  "language_info": {
   "codemirror_mode": {
    "name": "ipython",
    "version": 3
   },
   "file_extension": ".py",
   "mimetype": "text/x-python",
   "name": "python",
   "nbconvert_exporter": "python",
   "pygments_lexer": "ipython3",
   "version": "3.10.12"
  }
 },
 "nbformat": 4,
 "nbformat_minor": 2
}
