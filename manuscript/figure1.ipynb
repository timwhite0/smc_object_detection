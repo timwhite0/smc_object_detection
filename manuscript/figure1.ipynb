{
 "cells": [
  {
   "cell_type": "code",
   "execution_count": 1,
   "metadata": {},
   "outputs": [],
   "source": [
    "import torch\n",
    "import numpy as np\n",
    "import matplotlib.pyplot as plt\n",
    "\n",
    "import sys\n",
    "sys.path.append(\"../\")\n",
    "\n",
    "from smc.prior import StarPrior\n",
    "from smc.images import ImageModel"
   ]
  },
  {
   "cell_type": "markdown",
   "metadata": {},
   "source": [
    "Generate an image:"
   ]
  },
  {
   "cell_type": "code",
   "execution_count": 2,
   "metadata": {},
   "outputs": [],
   "source": [
    "torch.manual_seed(1)\n",
    "\n",
    "image_dim = 16\n",
    "true_psf_stdev = 1.0\n",
    "true_background = 300\n",
    "true_flux_mean = 1300\n",
    "true_flux_stdev = 250\n",
    "\n",
    "TruePrior = StarPrior(max_objects = 20,\n",
    "                      image_height = image_dim,\n",
    "                      image_width = image_dim,\n",
    "                      flux_mean = true_flux_mean,\n",
    "                      flux_stdev = true_flux_stdev,\n",
    "                      pad = 2)\n",
    "\n",
    "TrueImageModel = ImageModel(image_height = image_dim,\n",
    "                            image_width = image_dim,\n",
    "                            psf_stdev = true_psf_stdev,\n",
    "                            background = true_background)\n",
    "\n",
    "true_counts, true_locs, true_fluxes, images = TrueImageModel.generate(Prior = TruePrior,\n",
    "                                                                      num_images = 100)\n",
    "\n",
    "mask = true_counts >= 10\n",
    "images = images[mask]\n",
    "image_index = torch.randint(low=0, high=mask.sum(), size=[1])"
   ]
  },
  {
   "cell_type": "code",
   "execution_count": 3,
   "metadata": {},
   "outputs": [],
   "source": [
    "image_dim = images.shape[1]\n",
    "\n",
    "grid_interval = image_dim // 2\n",
    "pad = 2\n",
    "\n",
    "cmap = 'gray'\n",
    "linewidth = 6\n",
    "linestyle = 'dashed'\n",
    "pad_color1 = 'steelblue'\n",
    "pad_color2 = 'burlywood'\n",
    "pad_color3 = 'indianred'\n",
    "pad_color4 = 'mediumseagreen'"
   ]
  },
  {
   "cell_type": "code",
   "execution_count": 4,
   "metadata": {},
   "outputs": [
    {
     "data": {
      "image/png": "[encoded data removed]",
      "text/plain": [
       "<Figure size 600x600 with 1 Axes>"
      ]
     },
     "metadata": {},
     "output_type": "display_data"
    }
   ],
   "source": [
    "fig, ax = plt.subplots(1, 1, figsize = (6,6))\n",
    "img = ax.imshow(images[image_index].squeeze(), cmap = cmap)\n",
    "_ = ax.spines[['top', 'right', 'bottom', 'left']].set_visible(False)\n",
    "_ = ax.set_xticks([])\n",
    "_ = ax.set_yticks([])\n",
    "\n",
    "# tile borders\n",
    "_ = ax.vlines(x = [c * grid_interval - 0.5 for c in [0,1,2]],\n",
    "              ymin = 0 * grid_interval - 0.5, ymax = 2 * grid_interval - 0.5,\n",
    "              color = 'white', linewidth = linewidth)\n",
    "_ = ax.hlines(y = [c * grid_interval - 0.5 for c in [0,1,2]],\n",
    "              xmin = 0 * grid_interval - 0.5, xmax = 2 * grid_interval - 0.5,\n",
    "              color = 'white', linewidth = linewidth)\n",
    "\n",
    "# transparent padding (for size consistency)\n",
    "_ = ax.vlines(x = [0 * grid_interval - pad - 0.5, 2 * grid_interval + pad - 0.5],\n",
    "              ymin = 0 * grid_interval - pad - 0.5, ymax = 2 * grid_interval + pad - 0.5,\n",
    "              color = pad_color1, linestyles = linestyle, linewidth = linewidth, alpha = 0)\n",
    "_ = ax.hlines(y = [0 * grid_interval - pad - 0.5, 2 * grid_interval + pad - 0.5],\n",
    "              xmin = 0 * grid_interval - pad - 0.5, xmax = 2 * grid_interval + pad - 0.5,\n",
    "              color = pad_color1, linestyles = linestyle, linewidth = linewidth, alpha = 0)\n",
    "\n",
    "fig.tight_layout()\n",
    "\n",
    "fig.savefig('figures/figure1a.png', dpi = 250, transparent = True)"
   ]
  },
  {
   "cell_type": "code",
   "execution_count": 5,
   "metadata": {},
   "outputs": [
    {
     "data": {
      "image/png": "[encoded data removed]",
      "text/plain": [
       "<Figure size 600x600 with 1 Axes>"
      ]
     },
     "metadata": {},
     "output_type": "display_data"
    }
   ],
   "source": [
    "fig, ax = plt.subplots(1, 1, figsize = (6,6))\n",
    "img = ax.imshow(images[image_index].squeeze(), cmap = cmap)\n",
    "_ = ax.spines[['top', 'right', 'bottom', 'left']].set_visible(False)\n",
    "_ = ax.set_xticks([])\n",
    "_ = ax.set_yticks([])\n",
    "\n",
    "# tile borders\n",
    "_ = ax.vlines(x = [c * grid_interval - 0.5 for c in [0,1,2]],\n",
    "              ymin = 0 * grid_interval - 0.5, ymax = 2 * grid_interval - 0.5,\n",
    "              color = 'white', linewidth = linewidth)\n",
    "_ = ax.hlines(y = [c * grid_interval - 0.5 for c in [0,1,2]],\n",
    "              xmin = 0 * grid_interval - 0.5, xmax = 2 * grid_interval - 0.5,\n",
    "              color = 'white', linewidth = linewidth)\n",
    "\n",
    "# quadrant 1\n",
    "_ = ax.vlines(x = [0 * grid_interval - pad - 0.5, 1 * grid_interval + pad - 0.5],\n",
    "              ymin = 0 * grid_interval - pad - 0.5, ymax = 1 * grid_interval + pad - 0.5,\n",
    "              color = pad_color1, linestyles = linestyle, linewidth = linewidth)\n",
    "_ = ax.hlines(y = [0 * grid_interval - pad - 0.5, 1 * grid_interval + pad - 0.5],\n",
    "              xmin = 0 * grid_interval - pad - 0.5, xmax = 1 * grid_interval + pad - 0.5,\n",
    "              color = pad_color1, linestyles = linestyle, linewidth = linewidth)\n",
    "\n",
    "# quadrant 2\n",
    "_ = ax.vlines(x = [0 * grid_interval - pad - 0.5, 1 * grid_interval + pad - 0.5],\n",
    "              ymin = 1 * grid_interval - pad - 0.5, ymax = 2 * grid_interval + pad - 0.5,\n",
    "              color = pad_color2, linestyles = linestyle, linewidth = linewidth)\n",
    "_ = ax.hlines(y = [1 * grid_interval - pad - 0.5, 2 * grid_interval + pad - 0.5],\n",
    "              xmin = 0 * grid_interval - pad, xmax = 1 * grid_interval + pad - 0.5,\n",
    "              color = pad_color2, linestyles = linestyle, linewidth = linewidth)\n",
    "\n",
    "# quadrant 3\n",
    "_ = ax.vlines(x = [1 * grid_interval - pad - 0.5, 2 * grid_interval + pad - 0.5],\n",
    "              ymin = 0 * grid_interval - pad - 0.5, ymax = 1 * grid_interval + pad - 0.5,\n",
    "              color = pad_color3, linestyles = linestyle, linewidth = linewidth)\n",
    "_ = ax.hlines(y = [0 * grid_interval - pad - 0.5, 1 * grid_interval + pad - 0.5],\n",
    "              xmin = 1 * grid_interval - pad - 0.5, xmax = 2 * grid_interval + pad - 0.5,\n",
    "              color = pad_color3, linestyles = linestyle, linewidth = linewidth)\n",
    "\n",
    "# quadrant 4\n",
    "_ = ax.vlines(x = [1 * grid_interval - pad - 0.5, 2 * grid_interval + pad - 0.5],\n",
    "              ymin = 1 * grid_interval - pad - 0.5, ymax = 2 * grid_interval + pad - 0.5,\n",
    "              color = pad_color4, linestyles = linestyle, linewidth = linewidth)\n",
    "_ = ax.hlines(y = [1 * grid_interval - pad - 0.5, 2 * grid_interval + pad - 0.5],\n",
    "              xmin = 1 * grid_interval - pad - 0.5, xmax = 2 * grid_interval + pad - 0.5,\n",
    "              color = pad_color4, linestyles = linestyle, linewidth = linewidth)\n",
    "\n",
    "fig.tight_layout()\n",
    "\n",
    "fig.savefig('figures/figure1b.png', dpi = 250, transparent = True)"
   ]
  },
  {
   "cell_type": "code",
   "execution_count": 6,
   "metadata": {},
   "outputs": [
    {
     "data": {
      "image/png": "[encoded data removed]",
      "text/plain": [
       "<Figure size 600x600 with 1 Axes>"
      ]
     },
     "metadata": {},
     "output_type": "display_data"
    }
   ],
   "source": [
    "fig, ax = plt.subplots(1, 1, figsize = (6,6))\n",
    "img = ax.imshow(images[image_index].squeeze(), cmap = cmap)\n",
    "_ = ax.spines[['top', 'right', 'bottom', 'left']].set_visible(False)\n",
    "_ = ax.set_xticks([])\n",
    "_ = ax.set_yticks([])\n",
    "\n",
    "# tile borders\n",
    "_ = ax.vlines(x = [c * grid_interval - 0.5 for c in [0,1,2]],\n",
    "              ymin = 0 * grid_interval - 0.5, ymax = 2 * grid_interval - 0.5,\n",
    "              color = 'white', linewidth = linewidth)\n",
    "_ = ax.hlines(y = [c * grid_interval - 0.5 for c in [0,2]],\n",
    "              xmin = 0 * grid_interval - 0.5, xmax = 2 * grid_interval - 0.5,\n",
    "              color = 'white', linewidth = linewidth)\n",
    "\n",
    "# half 1\n",
    "_ = ax.vlines(x = [0 * grid_interval - pad - 0.5, 1 * grid_interval + pad - 0.5],\n",
    "              ymin = 0 * grid_interval - pad - 0.5, ymax = 2 * grid_interval + pad - 0.5,\n",
    "              color = pad_color1, linestyles = linestyle, linewidth = linewidth)\n",
    "_ = ax.hlines(y = [0 * grid_interval - pad - 0.5, 2 * grid_interval + pad - 0.5],\n",
    "              xmin = 0 * grid_interval - pad - 0.5, xmax = 1 * grid_interval + pad - 0.5,\n",
    "              color = pad_color1, linestyles = linestyle, linewidth = linewidth)\n",
    "\n",
    "# half 2\n",
    "_ = ax.vlines(x = [1 * grid_interval - pad - 0.5, 2 * grid_interval + pad - 0.5],\n",
    "              ymin = 0 * grid_interval - pad - 0.5, ymax = 2 * grid_interval + pad - 0.5,\n",
    "              color = pad_color3, linestyles = linestyle, linewidth = linewidth)\n",
    "_ = ax.hlines(y = [0 * grid_interval - pad - 0.5, 2 * grid_interval + pad - 0.5],\n",
    "              xmin = 1 * grid_interval - pad - 0.5, xmax = 2 * grid_interval + pad - 0.5,\n",
    "              color = pad_color3, linestyles = linestyle, linewidth = linewidth)\n",
    "\n",
    "fig.tight_layout()\n",
    "\n",
    "fig.savefig('figures/figure1c.png', dpi = 250, transparent = True)"
   ]
  },
  {
   "cell_type": "code",
   "execution_count": 7,
   "metadata": {},
   "outputs": [
    {
     "data": {
      "image/png": "[encoded data removed]",
      "text/plain": [
       "<Figure size 600x600 with 1 Axes>"
      ]
     },
     "metadata": {},
     "output_type": "display_data"
    }
   ],
   "source": [
    "fig, ax = plt.subplots(1, 1, figsize = (6,6))\n",
    "img = ax.imshow(images[image_index].squeeze(), cmap = cmap)\n",
    "_ = ax.spines[['top', 'right', 'bottom', 'left']].set_visible(False)\n",
    "_ = ax.set_xticks([])\n",
    "_ = ax.set_yticks([])\n",
    "\n",
    "# tile borders\n",
    "_ = ax.vlines(x = [c * grid_interval - 0.5 for c in [0,2]],\n",
    "              ymin = 0 * grid_interval - 0.5, ymax = 2 * grid_interval - 0.5,\n",
    "              color = 'white', linewidth = linewidth)\n",
    "_ = ax.hlines(y = [c * grid_interval - 0.5 for c in [0,2]],\n",
    "              xmin = 0 * grid_interval - 0.5, xmax = 2 * grid_interval - 0.5,\n",
    "              color = 'white', linewidth = linewidth)\n",
    "\n",
    "# image (with padding)\n",
    "_ = ax.vlines(x = [0 * grid_interval - pad - 0.5, 2 * grid_interval + pad - 0.5],\n",
    "              ymin = 0 * grid_interval - pad - 0.5, ymax = 2 * grid_interval + pad - 0.5,\n",
    "              color = pad_color1, linestyles = linestyle, linewidth = linewidth)\n",
    "_ = ax.hlines(y = [0 * grid_interval - pad - 0.5, 2 * grid_interval + pad - 0.5],\n",
    "              xmin = 0 * grid_interval - pad - 0.5, xmax = 2 * grid_interval + pad - 0.5,\n",
    "              color = pad_color1, linestyles = linestyle, linewidth = linewidth)\n",
    "\n",
    "fig.tight_layout()\n",
    "\n",
    "fig.savefig('figures/figure1d.png', dpi = 250, transparent = True)"
   ]
  },
  {
   "cell_type": "code",
   "execution_count": 8,
   "metadata": {},
   "outputs": [
    {
     "data": {
      "image/png": "[encoded data removed]",
      "text/plain": [
       "<Figure size 600x600 with 1 Axes>"
      ]
     },
     "metadata": {},
     "output_type": "display_data"
    }
   ],
   "source": [
    "fig, ax = plt.subplots(1, 1, figsize = (6,6))\n",
    "img = ax.imshow(images[image_index].squeeze(), cmap = cmap)\n",
    "_ = ax.spines[['top', 'right', 'bottom', 'left']].set_visible(False)\n",
    "_ = ax.set_xticks([])\n",
    "_ = ax.set_yticks([])\n",
    "\n",
    "# image (no padding)\n",
    "_ = ax.vlines(x = [0 * grid_interval - 0.5, 2 * grid_interval - 0.5],\n",
    "              ymin = 0 * grid_interval - 0.5, ymax = 2 * grid_interval - 0.5,\n",
    "              color = pad_color1, linestyles = 'solid', linewidth = 2*linewidth)\n",
    "_ = ax.hlines(y = [0 * grid_interval - 0.5, 2 * grid_interval - 0.5],\n",
    "              xmin = 0 * grid_interval - 0.5, xmax = 2 * grid_interval - 0.5,\n",
    "              color = pad_color1, linestyles = 'solid', linewidth = 2*linewidth)\n",
    "\n",
    "# transparent padding (for size consistency)\n",
    "_ = ax.vlines(x = [0 * grid_interval - pad - 0.5, 2 * grid_interval + pad - 0.5],\n",
    "              ymin = 0 * grid_interval - pad - 0.5, ymax = 2 * grid_interval + pad - 0.5,\n",
    "              color = pad_color1, linestyles = linestyle, linewidth = linewidth, alpha = 0)\n",
    "_ = ax.hlines(y = [0 * grid_interval - pad - 0.5, 2 * grid_interval + pad - 0.5],\n",
    "              xmin = 0 * grid_interval - pad - 0.5, xmax = 2 * grid_interval + pad - 0.5,\n",
    "              color = pad_color1, linestyles = linestyle, linewidth = linewidth, alpha = 0)\n",
    "\n",
    "fig.tight_layout()\n",
    "\n",
    "fig.savefig('figures/figure1e.png', dpi = 250, transparent = True)"
   ]
  }
 ],
 "metadata": {
  "kernelspec": {
   "display_name": ".venv",
   "language": "python",
   "name": "python3"
  },
  "language_info": {
   "codemirror_mode": {
    "name": "ipython",
    "version": 3
   },
   "file_extension": ".py",
   "mimetype": "text/x-python",
   "name": "python",
   "nbconvert_exporter": "python",
   "pygments_lexer": "ipython3",
   "version": "3.10.12"
  }
 },
 "nbformat": 4,
 "nbformat_minor": 2
}
