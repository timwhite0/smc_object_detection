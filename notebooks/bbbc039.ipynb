{
 "cells": [
  {
   "cell_type": "code",
   "execution_count": 1,
   "metadata": {},
   "outputs": [
    {
     "name": "stderr",
     "output_type": "stream",
     "text": [
      "/home/twhit/.local/lib/python3.10/site-packages/matplotlib/projections/__init__.py:63: UserWarning: Unable to import Axes3D. This may be due to multiple versions of Matplotlib being installed (e.g. as a system package and as a pip package). As a result, the 3D projection is not available.\n",
      "  warnings.warn(\"Unable to import Axes3D. This may be due to multiple versions of \"\n"
     ]
    }
   ],
   "source": [
    "import torch\n",
    "# torch.cuda.is_available()\n",
    "device = torch.device(\"cuda:6\" if torch.cuda.is_available() else \"cpu\")\n",
    "torch.cuda.set_device(device)\n",
    "torch.set_default_device(device)\n",
    "\n",
    "import matplotlib.pyplot as plt\n",
    "import skimage\n",
    "from scipy.stats import mode\n",
    "import numpy as np"
   ]
  },
  {
   "cell_type": "markdown",
   "metadata": {},
   "source": [
    "### Images"
   ]
  },
  {
   "cell_type": "code",
   "execution_count": 2,
   "metadata": {},
   "outputs": [
    {
     "name": "stderr",
     "output_type": "stream",
     "text": [
      "/tmp/ipykernel_2994827/3318400919.py:24: FutureWarning: Unlike other reduction functions (e.g. `skew`, `kurtosis`), the default behavior of `mode` typically preserves the axis it acts along. In SciPy 1.11.0, this behavior will change: the default value of `keepdims` will become False, the `axis` over which the statistic is taken will be eliminated, and the value None will no longer be accepted. Set `keepdims` to True or False to avoid this warning.\n",
      "  modes[i] = mode(image[image<20]).mode\n"
     ]
    },
    {
     "data": {
      "image/png": "[encoded data removed]",
      "text/plain": [
       "<Figure size 432x288 with 3 Axes>"
      ]
     },
     "metadata": {
      "needs_background": "light"
     },
     "output_type": "display_data"
    }
   ],
   "source": [
    "# Background estimation\n",
    "num_images = 200\n",
    "\n",
    "modes = np.zeros(num_images)\n",
    "means = np.zeros(num_images)\n",
    "medians = np.zeros(num_images)\n",
    "\n",
    "for i in range(num_images):\n",
    "    # Read in image\n",
    "    image = skimage.io.imread(f'../data/BBBC039/images_raw/image{i}.tif')\n",
    "    \n",
    "    # Downscale by factor of 2\n",
    "    image = skimage.transform.downscale_local_mean(image, factors = (2,2))\n",
    "    \n",
    "    # Normalize and convert to 8-bit range\n",
    "    low = np.percentile(image, 0.01)\n",
    "    high = np.percentile(image, 99.99)\n",
    "    image = np.minimum(image, high)\n",
    "    image = np.maximum(image, low)\n",
    "    image = (image - low) / (high - low)\n",
    "    image = skimage.img_as_ubyte(image)\n",
    "    \n",
    "    # Compute mode, median, and mean under some reasonable threshold\n",
    "    modes[i] = mode(image[image<20]).mode\n",
    "    means[i] = image[image<20].mean()\n",
    "    medians[i] = np.median(image[image<20])\n",
    "\n",
    "fig,ax=plt.subplots(1,3)\n",
    "_ = ax[0].hist(modes.flatten())\n",
    "_ = ax[1].hist(means.flatten())\n",
    "_ = ax[2].hist(medians.flatten())"
   ]
  },
  {
   "cell_type": "code",
   "execution_count": 3,
   "metadata": {},
   "outputs": [],
   "source": [
    "num_images = 200\n",
    "dim = 256\n",
    "images = torch.zeros(num_images, dim, dim)\n",
    "\n",
    "for i in range(num_images):\n",
    "    # Read in image\n",
    "    image = skimage.io.imread(f'../data/BBBC039/images_raw/image{i}.tif')\n",
    "    \n",
    "    # Downscale by factor of 2\n",
    "    image = skimage.transform.downscale_local_mean(image, factors = (2,2))\n",
    "    \n",
    "    # Normalize and convert to 8-bit range\n",
    "    low = np.percentile(image, 0)\n",
    "    high = np.percentile(image, 99.99)\n",
    "    image = np.minimum(image, high)\n",
    "    image = np.maximum(image, low)\n",
    "    image = (image - low) / (high - low)\n",
    "    image = skimage.img_as_ubyte(image)\n",
    "    \n",
    "    # Crop image\n",
    "    image = image[:dim,:dim]\n",
    "    \n",
    "    images[i] = torch.from_numpy(np.array(image, dtype = np.float64)[:dim,:dim])"
   ]
  },
  {
   "cell_type": "code",
   "execution_count": 4,
   "metadata": {},
   "outputs": [
    {
     "data": {
      "image/png": "[encoded data removed]",
      "text/plain": [
       "<Figure size 432x288 with 1 Axes>"
      ]
     },
     "metadata": {
      "needs_background": "light"
     },
     "output_type": "display_data"
    }
   ],
   "source": [
    "# Fluorescence empirical distribution\n",
    "background = 10\n",
    "_ = plt.hist((images[images>(2*background)] - background).flatten().cpu().numpy(), bins = 30)"
   ]
  },
  {
   "cell_type": "markdown",
   "metadata": {},
   "source": [
    "### Masks"
   ]
  },
  {
   "cell_type": "code",
   "execution_count": 5,
   "metadata": {},
   "outputs": [],
   "source": [
    "true_counts = torch.zeros(num_images)\n",
    "masks = torch.zeros(num_images, 2*dim, 2*dim)\n",
    "\n",
    "for i in range(num_images):\n",
    "    mask = skimage.io.imread(f'../data/BBBC039/masks_raw/mask{i}.png')\n",
    "    mask = mask[:(2*dim),:(2*dim),0]\n",
    "    masks[i] = torch.tensor(skimage.morphology.label(mask))\n",
    "    true_counts[i] = len(torch.unique(masks[i])) - 1"
   ]
  },
  {
   "cell_type": "code",
   "execution_count": 6,
   "metadata": {},
   "outputs": [
    {
     "data": {
      "image/png": "[encoded data removed]",
      "text/plain": [
       "<Figure size 432x288 with 1 Axes>"
      ]
     },
     "metadata": {
      "needs_background": "light"
     },
     "output_type": "display_data"
    }
   ],
   "source": [
    "# True counts per pixel\n",
    "_ = plt.hist(true_counts.cpu().numpy())"
   ]
  },
  {
   "cell_type": "markdown",
   "metadata": {},
   "source": [
    "### Save tensors"
   ]
  },
  {
   "cell_type": "code",
   "execution_count": 7,
   "metadata": {},
   "outputs": [],
   "source": [
    "torch.save(images, '../data/BBBC039/images.pt')\n",
    "torch.save(masks, '../data/BBBC039/masks.pt')\n",
    "torch.save(true_counts, '../data/BBBC039/true_counts.pt')"
   ]
  }
 ],
 "metadata": {
  "kernelspec": {
   "display_name": "Python 3",
   "language": "python",
   "name": "python3"
  },
  "language_info": {
   "codemirror_mode": {
    "name": "ipython",
    "version": 3
   },
   "file_extension": ".py",
   "mimetype": "text/x-python",
   "name": "python",
   "nbconvert_exporter": "python",
   "pygments_lexer": "ipython3",
   "version": "3.10.12"
  }
 },
 "nbformat": 4,
 "nbformat_minor": 2
}
