{
 "cells": [
  {
   "cell_type": "code",
   "execution_count": 1,
   "metadata": {},
   "outputs": [],
   "source": [
    "import sys\n",
    "sys.path.append(\"../\")\n",
    "\n",
    "from smc.sampler import SMCsampler\n",
    "from smc.prior import StarPrior\n",
    "from smc.images import ImageModel\n",
    "from smc.kernel import MetropolisHastings\n",
    "from smc.aggregate import Aggregate\n",
    "\n",
    "import torch\n",
    "# torch.cuda.is_available()\n",
    "device = torch.device(\"cuda:4\" if torch.cuda.is_available() else \"cpu\")\n",
    "torch.cuda.set_device(device)\n",
    "torch.set_default_device(device)\n",
    "\n",
    "import matplotlib.pyplot as plt"
   ]
  },
  {
   "cell_type": "markdown",
   "metadata": {},
   "source": [
    "### Generate images"
   ]
  },
  {
   "cell_type": "markdown",
   "metadata": {},
   "source": [
    "We specify a prior and an image model and generate one image."
   ]
  },
  {
   "cell_type": "code",
   "execution_count": 2,
   "metadata": {},
   "outputs": [],
   "source": [
    "image_dim = 32\n",
    "true_psf_stdev = 1.5\n",
    "true_background = 10000\n",
    "true_flux_scale = 80000\n",
    "true_flux_shape = 20000\n",
    "\n",
    "TruePrior = StarPrior(max_objects = 20,\n",
    "                      image_height = image_dim,\n",
    "                      image_width = image_dim,\n",
    "                      flux_scale = true_flux_scale,\n",
    "                      flux_shape = true_flux_shape)\n",
    "\n",
    "TrueImageModel = ImageModel(image_height = image_dim,\n",
    "                            image_width = image_dim,\n",
    "                            psf_stdev = true_psf_stdev,\n",
    "                            background = true_background)\n",
    "\n",
    "true_counts, true_locs, true_fluxes, images = TrueImageModel.generate(Prior = TruePrior,\n",
    "                                                                      num_images = 1)"
   ]
  },
  {
   "cell_type": "code",
   "execution_count": 3,
   "metadata": {},
   "outputs": [
    {
     "name": "stdout",
     "output_type": "stream",
     "text": [
      "image 1 \n",
      "count\n",
      " 14 \n",
      "total flux\n",
      " 1193504.875 \n",
      "loc\n",
      " [[23.958117  23.24724  ]\n",
      " [ 7.877061   8.750378 ]\n",
      " [28.620985  19.736708 ]\n",
      " [25.713997   6.50974  ]\n",
      " [15.823027  28.245085 ]\n",
      " [11.173367  24.322752 ]\n",
      " [25.502617  26.75507  ]\n",
      " [ 0.2882114 24.460184 ]\n",
      " [ 3.8094969 14.547794 ]\n",
      " [ 9.928026  24.56494  ]\n",
      " [25.01896   14.009454 ]\n",
      " [16.706984  23.10914  ]\n",
      " [15.232643   6.3724446]\n",
      " [13.798511   7.0961447]\n",
      " [ 0.         0.       ]\n",
      " [ 0.         0.       ]\n",
      " [ 0.         0.       ]\n",
      " [ 0.         0.       ]\n",
      " [ 0.         0.       ]\n",
      " [ 0.         0.       ]] \n",
      "\n",
      "\n"
     ]
    },
    {
     "data": {
      "image/png": "[encoded data removed]",
      "text/plain": [
       "<Figure size 640x480 with 2 Axes>"
      ]
     },
     "metadata": {},
     "output_type": "display_data"
    }
   ],
   "source": [
    "for i in range(1):\n",
    "    print(f\"image {i+1}\",\n",
    "          \"\\ncount\\n\", true_counts[i].round().item(),\n",
    "          \"\\ntotal flux\\n\", true_fluxes[i].sum().item(),\n",
    "          \"\\nloc\\n\", true_locs[i].cpu().numpy(), \"\\n\\n\")\n",
    "    fig, img = plt.subplots(1,1)\n",
    "    tmp = img.imshow(images[i].cpu(), cmap = 'viridis')\n",
    "    _ = fig.colorbar(tmp)\n",
    "    _ = img.scatter(true_locs.squeeze()[:true_counts.squeeze(),1].cpu() - 0.5,\n",
    "                    true_locs.squeeze()[:true_counts.squeeze(),0].cpu() - 0.5, marker = 'x', color = 'red')\n",
    "    _ = img.vlines(x=image_dim//4 - 0.5, ymin = 0 - 0.5, ymax = image_dim - 0.5, color = 'white')\n",
    "    _ = img.vlines(x=2*image_dim//4 - 0.5, ymin = 0 - 0.5, ymax = image_dim - 0.5, color = 'white')\n",
    "    _ = img.vlines(x=3*image_dim//4 - 0.5, ymin = 0 - 0.5, ymax = image_dim - 0.5, color = 'white')\n",
    "    _ = img.hlines(y=image_dim//4 - 0.5, xmin = 0 - 0.5, xmax = image_dim - 0.5, color = 'white')\n",
    "    _ = img.hlines(y=2*image_dim//4 - 0.5, xmin = 0 - 0.5, xmax = image_dim - 0.5, color = 'white')\n",
    "    _ = img.hlines(y=3*image_dim//4 - 0.5, xmin = 0 - 0.5, xmax = image_dim - 0.5, color = 'white')"
   ]
  },
  {
   "cell_type": "markdown",
   "metadata": {},
   "source": [
    "### Perform inference with SMC"
   ]
  },
  {
   "cell_type": "markdown",
   "metadata": {},
   "source": [
    "We set the side length of the tiles on which we will run the sampler, and we specify a prior and image model at the tile level. We also specify a mutation kernel to be used within the SMC sampler.\n",
    "\n",
    "We'll assume that the image background, PSF standard deviation, and flux prior parameters are all known."
   ]
  },
  {
   "cell_type": "code",
   "execution_count": 4,
   "metadata": {},
   "outputs": [],
   "source": [
    "tile_dim = 8\n",
    "\n",
    "TilePrior = StarPrior(max_objects = 4,\n",
    "                      image_height = tile_dim,\n",
    "                      image_width = tile_dim,\n",
    "                      flux_scale = true_flux_scale,\n",
    "                      flux_shape = true_flux_shape,\n",
    "                      pad = 4)\n",
    "\n",
    "TileImageModel = ImageModel(image_height = tile_dim,\n",
    "                            image_width = tile_dim,\n",
    "                            psf_stdev = true_psf_stdev,\n",
    "                            background = true_background)\n",
    "\n",
    "MHKernel = MetropolisHastings(num_iters = 100,\n",
    "                              locs_stdev = 0.1,\n",
    "                              features_stdev = 2500)"
   ]
  },
  {
   "cell_type": "markdown",
   "metadata": {},
   "source": [
    "Now we initialize an `SMCsampler` object and run it on the tiles."
   ]
  },
  {
   "cell_type": "code",
   "execution_count": 5,
   "metadata": {},
   "outputs": [
    {
     "name": "stdout",
     "output_type": "stream",
     "text": [
      "True count: 14\n",
      "True total flux: 1193504.875\n",
      "\n",
      "Starting the tile samplers...\n",
      "iteration 5, temperature = 0.0038921779487282038\n",
      "iteration 10, temperature = 0.033297352492809296\n",
      "iteration 15, temperature = 0.18487483263015747\n",
      "iteration 20, temperature = 0.7773609161376953\n",
      "Done!\n",
      "\n",
      "summary\n",
      "number of SMC iterations: 20\n",
      "posterior mean count by tile:\n",
      "tensor([[0.0000e+00, 1.8610e+00, 0.0000e+00, 1.0034e+00],\n",
      "        [1.8950e+00, 6.8000e-03, 4.0000e-04, 2.9980e+00],\n",
      "        [0.0000e+00, 0.0000e+00, 1.9290e+00, 0.0000e+00],\n",
      "        [1.0000e+00, 1.0000e+00, 1.9872e+00, 1.0170e+00]], device='cuda:4')\n"
     ]
    }
   ],
   "source": [
    "smc = SMCsampler(image = images[0],\n",
    "                 tile_dim = tile_dim,\n",
    "                 Prior = TilePrior,\n",
    "                 ImageModel = TileImageModel,\n",
    "                 MutationKernel = MHKernel,\n",
    "                 num_catalogs_per_count = 1000,\n",
    "                 max_smc_iters = 500)\n",
    "\n",
    "print(f\"True count: {true_counts[0]}\")\n",
    "print(f\"True total flux: {true_fluxes[0].sum()}\\n\")\n",
    "\n",
    "smc.run(print_progress = True)\n",
    "smc.summarize()"
   ]
  },
  {
   "cell_type": "markdown",
   "metadata": {},
   "source": [
    "Now we instantiate an `Aggregate` object with the tile-level results from above:"
   ]
  },
  {
   "cell_type": "code",
   "execution_count": 6,
   "metadata": {},
   "outputs": [],
   "source": [
    "agg = Aggregate(smc.Prior,\n",
    "                smc.ImageModel,\n",
    "                smc.tiled_image,\n",
    "                smc.counts,\n",
    "                smc.locs,\n",
    "                smc.features,\n",
    "                smc.weights_intercount)"
   ]
  },
  {
   "cell_type": "markdown",
   "metadata": {},
   "source": [
    "### A brief tangent: lightweight mixture resampling"
   ]
  },
  {
   "cell_type": "code",
   "execution_count": 7,
   "metadata": {},
   "outputs": [],
   "source": [
    "# agg.resample(multiplier = 5)\n",
    "# agg.log_density_children = agg.compute_log_density()\n",
    "# agg.join(axis = 0)\n",
    "# agg.log_density_parents = agg.compute_log_density()\n",
    "# agg.weights = (agg.log_density_parents - agg.log_density_children).softmax(-1)\n",
    "# agg.resample(multiplier = 1/5)\n",
    "# # TODO: resample log_density_children in agg.resample(multiplier = 1/5)\n",
    "# agg.log_density_parents = agg.compute_log_density()\n",
    "# agg.weights = (agg.log_density_parents - agg.log_density_children).softmax(-1)"
   ]
  },
  {
   "cell_type": "markdown",
   "metadata": {},
   "source": [
    "### End of brief tangent"
   ]
  },
  {
   "cell_type": "markdown",
   "metadata": {},
   "source": [
    "And we run the aggregation procedure to obtain image-level catalogs:"
   ]
  },
  {
   "cell_type": "code",
   "execution_count": 8,
   "metadata": {},
   "outputs": [],
   "source": [
    "agg.run()"
   ]
  },
  {
   "cell_type": "markdown",
   "metadata": {},
   "source": [
    "We compute the posterior mean number of light sources:"
   ]
  },
  {
   "cell_type": "code",
   "execution_count": 9,
   "metadata": {},
   "outputs": [
    {
     "data": {
      "text/plain": [
       "tensor([[15.]], device='cuda:4')"
      ]
     },
     "execution_count": 9,
     "metadata": {},
     "output_type": "execute_result"
    }
   ],
   "source": [
    "agg.posterior_mean_counts"
   ]
  },
  {
   "cell_type": "markdown",
   "metadata": {},
   "source": [
    "And we compute the posterior mean total flux:"
   ]
  },
  {
   "cell_type": "code",
   "execution_count": 10,
   "metadata": {},
   "outputs": [
    {
     "data": {
      "text/plain": [
       "tensor([[1228285.5000]], device='cuda:4')"
      ]
     },
     "execution_count": 10,
     "metadata": {},
     "output_type": "execute_result"
    }
   ],
   "source": [
    "agg.posterior_mean_total_flux"
   ]
  },
  {
   "cell_type": "markdown",
   "metadata": {},
   "source": [
    "Plot the locations from the catalog with the largest weight:"
   ]
  },
  {
   "cell_type": "code",
   "execution_count": 12,
   "metadata": {},
   "outputs": [
    {
     "data": {
      "image/png": "[encoded data removed]",
      "text/plain": [
       "<Figure size 640x480 with 1 Axes>"
      ]
     },
     "metadata": {},
     "output_type": "display_data"
    }
   ],
   "source": [
    "index = agg.weights.squeeze().argmax()\n",
    "tmp = agg.locs.squeeze()[index][:15]\n",
    "fig, img = plt.subplots(1,1)\n",
    "_ = img.imshow(images[0].cpu())\n",
    "_ = img.scatter(tmp[:agg.counts.squeeze()[index],1].cpu() - 0.5,\n",
    "                tmp[:agg.counts.squeeze()[index],0].cpu() - 0.5, color = 'red', marker='x')\n",
    "plt.show()"
   ]
  }
 ],
 "metadata": {
  "kernelspec": {
   "display_name": "Python 3",
   "language": "python",
   "name": "python3"
  },
  "language_info": {
   "codemirror_mode": {
    "name": "ipython",
    "version": 3
   },
   "file_extension": ".py",
   "mimetype": "text/x-python",
   "name": "python",
   "nbconvert_exporter": "python",
   "pygments_lexer": "ipython3",
   "version": "3.10.12"
  }
 },
 "nbformat": 4,
 "nbformat_minor": 2
}
