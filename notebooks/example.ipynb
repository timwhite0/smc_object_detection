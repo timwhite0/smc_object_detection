{
 "cells": [
  {
   "cell_type": "code",
   "execution_count": 1,
   "metadata": {},
   "outputs": [],
   "source": [
    "import sys\n",
    "sys.path.append(\"../\")\n",
    "\n",
    "from smc.sampler import SMCsampler\n",
    "from smc.prior import CatalogPrior\n",
    "from smc.images import ImageAttributes\n",
    "\n",
    "import torch\n",
    "# torch.cuda.is_available()\n",
    "device = torch.device(\"cuda:0\" if torch.cuda.is_available() else \"cpu\")\n",
    "torch.cuda.set_device(device)\n",
    "torch.set_default_device(device)\n",
    "\n",
    "import matplotlib.pyplot as plt"
   ]
  },
  {
   "cell_type": "code",
   "execution_count": 2,
   "metadata": {},
   "outputs": [],
   "source": [
    "num_images = 1\n",
    "img_dim = 64 # Needs to be square for now\n",
    "img_width = img_dim\n",
    "img_height = img_dim\n",
    "max_objects = 32\n",
    "psf_stdev = 1.5\n",
    "background_intensity = 19200\n",
    "\n",
    "prior = CatalogPrior(max_objects = max_objects,\n",
    "                     img_height = img_height,\n",
    "                     img_width = img_width,\n",
    "                     min_flux = background_intensity/3.)\n",
    "\n",
    "image_attributes = ImageAttributes(img_height = img_height,\n",
    "                                   img_width = img_width,\n",
    "                                   max_objects = max_objects,\n",
    "                                   psf_stdev = psf_stdev,\n",
    "                                   background_intensity = background_intensity)\n",
    "\n",
    "true_counts, true_fluxes, true_locs, true_total_intensities, images = image_attributes.generate(prior, num_images)"
   ]
  },
  {
   "cell_type": "code",
   "execution_count": 3,
   "metadata": {},
   "outputs": [
    {
     "name": "stdout",
     "output_type": "stream",
     "text": [
      "image 1 \n",
      "count\n",
      " 21 \n",
      "total flux\n",
      " 1287653.75 \n",
      "loc\n",
      " [[52.162964  39.830418 ]\n",
      " [12.213307  45.293907 ]\n",
      " [63.082912  11.907054 ]\n",
      " [36.36726   56.756287 ]\n",
      " [60.25733    1.1723051]\n",
      " [58.065994  14.595041 ]\n",
      " [43.67334   48.98576  ]\n",
      " [38.669437  13.325005 ]\n",
      " [13.2819605 28.082819 ]\n",
      " [35.648968  48.139133 ]\n",
      " [ 8.273856  34.35229  ]\n",
      " [26.684076  57.230465 ]\n",
      " [ 1.811024   2.46129  ]\n",
      " [39.968826  23.313574 ]\n",
      " [19.464083  22.419538 ]\n",
      " [14.948098   7.399039 ]\n",
      " [ 5.157837   9.410208 ]\n",
      " [62.341183  59.580112 ]\n",
      " [ 6.77164   53.375393 ]\n",
      " [40.670963  44.86735  ]\n",
      " [40.032646  57.61583  ]\n",
      " [ 0.         0.       ]\n",
      " [ 0.         0.       ]\n",
      " [ 0.         0.       ]\n",
      " [ 0.         0.       ]\n",
      " [ 0.         0.       ]\n",
      " [ 0.         0.       ]\n",
      " [ 0.         0.       ]\n",
      " [ 0.         0.       ]\n",
      " [ 0.         0.       ]\n",
      " [ 0.         0.       ]\n",
      " [ 0.         0.       ]] \n",
      "\n",
      "\n"
     ]
    },
    {
     "data": {
      "image/png": "[encoded data removed]",
      "text/plain": [
       "<Figure size 432x288 with 1 Axes>"
      ]
     },
     "metadata": {
      "needs_background": "light"
     },
     "output_type": "display_data"
    }
   ],
   "source": [
    "for i in range(num_images):\n",
    "    print(f\"image {i+1}\",\n",
    "          \"\\ncount\\n\", true_counts[i].round().item(),\n",
    "          \"\\ntotal flux\\n\", true_fluxes[i].sum().item(),\n",
    "          \"\\nloc\\n\", true_locs[i].cpu().numpy(), \"\\n\\n\")\n",
    "    fig, img = plt.subplots(1,1)\n",
    "    _ = img.imshow(images[i].cpu())"
   ]
  },
  {
   "cell_type": "code",
   "execution_count": 4,
   "metadata": {},
   "outputs": [
    {
     "name": "stdout",
     "output_type": "stream",
     "text": [
      "True count: 21\n",
      "True total flux: 1287653.75\n",
      "\n",
      "Starting the tile samplers...\n",
      "iteration 5, temperature = 0.0003873245441354811\n",
      "iteration 10, temperature = 0.0016868829261511564\n",
      "iteration 15, temperature = 0.009638612158596516\n",
      "iteration 20, temperature = 0.14773038029670715\n",
      "iteration 25, temperature = 0.9325543642044067\n",
      "iteration 30, temperature = 0.9978923201560974\n",
      "Done!\n",
      "\n",
      "Combining the results...\n",
      "Done!\n",
      "\n",
      "Pruning detections...\n",
      "Done!\n",
      "\n"
     ]
    },
    {
     "data": {
      "text/plain": [
       "tensor(22.1212, device='cuda:0')"
      ]
     },
     "execution_count": 4,
     "metadata": {},
     "output_type": "execute_result"
    }
   ],
   "source": [
    "tile_side_length = 4\n",
    "\n",
    "max_objects_smc = 2\n",
    "pad = 2\n",
    "prior = CatalogPrior(max_objects_smc, img_width, img_height, background_intensity/3., pad)\n",
    "smc = SMCsampler(images[0], image_attributes, tile_side_length, prior, num_blocks = max_objects_smc+1, catalogs_per_block = 500, max_smc_iters = 500)\n",
    "\n",
    "print(f\"True count: {true_counts[0]}\")\n",
    "print(f\"True total flux: {true_fluxes[0].sum()}\\n\")\n",
    "\n",
    "smc.run(print_progress = True)\n",
    "# smc.summarize()\n",
    "\n",
    "smc.counts.sum([0,1]).mean()"
   ]
  }
 ],
 "metadata": {
  "kernelspec": {
   "display_name": "Python 3",
   "language": "python",
   "name": "python3"
  },
  "language_info": {
   "codemirror_mode": {
    "name": "ipython",
    "version": 3
   },
   "file_extension": ".py",
   "mimetype": "text/x-python",
   "name": "python",
   "nbconvert_exporter": "python",
   "pygments_lexer": "ipython3",
   "version": "3.10.12"
  }
 },
 "nbformat": 4,
 "nbformat_minor": 2
}
