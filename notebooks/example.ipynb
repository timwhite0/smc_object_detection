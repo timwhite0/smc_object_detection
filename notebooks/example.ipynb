{
 "cells": [
  {
   "cell_type": "code",
   "execution_count": 1,
   "metadata": {},
   "outputs": [
    {
     "name": "stderr",
     "output_type": "stream",
     "text": [
      "/usr/lib/python3/dist-packages/scipy/__init__.py:146: UserWarning: A NumPy version >=1.17.3 and <1.25.0 is required for this version of SciPy (detected version 1.26.3\n",
      "  warnings.warn(f\"A NumPy version >={np_minversion} and <{np_maxversion}\"\n"
     ]
    }
   ],
   "source": [
    "import sys\n",
    "sys.path.append(\"../\")\n",
    "\n",
    "from smc.sampler import SMCsampler\n",
    "from smc.prior import CatalogPrior\n",
    "from smc.images import ImageAttributes\n",
    "\n",
    "import torch\n",
    "# torch.cuda.is_available()\n",
    "device = torch.device(\"cuda:7\" if torch.cuda.is_available() else \"cpu\")\n",
    "torch.cuda.set_device(device)\n",
    "torch.set_default_device(device)\n",
    "\n",
    "import matplotlib.pyplot as plt"
   ]
  },
  {
   "cell_type": "code",
   "execution_count": 2,
   "metadata": {},
   "outputs": [],
   "source": [
    "num_images = 1\n",
    "img_dim = 64 # Needs to be square for now\n",
    "img_width = img_dim\n",
    "img_height = img_dim\n",
    "max_objects = 80\n",
    "psf_stdev = 1\n",
    "background_intensity = 19200\n",
    "\n",
    "prior = CatalogPrior(max_objects = max_objects,\n",
    "                     img_height = img_height,\n",
    "                     img_width = img_width,\n",
    "                     min_flux = background_intensity/3.)\n",
    "\n",
    "image_attributes = ImageAttributes(img_height = img_height,\n",
    "                                   img_width = img_width,\n",
    "                                   max_objects = max_objects,\n",
    "                                   psf_stdev = psf_stdev,\n",
    "                                   background_intensity = background_intensity)\n",
    "\n",
    "true_counts, true_fluxes, true_locs, true_total_intensities, images = image_attributes.generate(prior, num_images)"
   ]
  },
  {
   "cell_type": "code",
   "execution_count": 3,
   "metadata": {},
   "outputs": [
    {
     "name": "stdout",
     "output_type": "stream",
     "text": [
      "image 1 \n",
      "count\n",
      " 71 \n",
      "total flux\n",
      " 4511154.5 \n",
      "loc\n",
      " [[4.89389954e+01 2.94719982e+01]\n",
      " [5.46142483e+00 3.60750809e+01]\n",
      " [9.63104248e+00 4.24796867e+01]\n",
      " [6.34954357e+00 1.97884521e+01]\n",
      " [5.16549263e+01 2.90148792e+01]\n",
      " [3.41840515e+01 5.95249863e+01]\n",
      " [4.58836098e+01 2.52592042e-02]\n",
      " [5.16035309e+01 3.53400040e+01]\n",
      " [3.98173676e+01 3.68644295e+01]\n",
      " [4.26799011e+01 3.51419525e+01]\n",
      " [2.03575573e+01 1.30084381e+01]\n",
      " [3.40559883e+01 5.47384453e+01]\n",
      " [5.31707573e+01 5.97809181e+01]\n",
      " [2.10709133e+01 4.33418617e+01]\n",
      " [1.99890175e+01 4.08601036e+01]\n",
      " [2.96834278e+01 7.34411097e+00]\n",
      " [8.17805862e+00 2.18413734e+00]\n",
      " [1.59891205e+01 6.00166206e+01]\n",
      " [4.02549782e+01 4.97428741e+01]\n",
      " [3.85500107e+01 2.43566551e+01]\n",
      " [2.41464367e+01 8.06881142e+00]\n",
      " [5.05413055e+01 5.35402727e+00]\n",
      " [1.42739639e+01 6.01621389e+00]\n",
      " [1.20492401e+01 3.90546646e+01]\n",
      " [4.09982796e+01 2.46123085e+01]\n",
      " [8.86080563e-01 3.03266792e+01]\n",
      " [4.36858013e-02 3.14031410e+01]\n",
      " [2.71110859e+01 3.83970947e+01]\n",
      " [3.15287800e+01 1.86897774e+01]\n",
      " [5.19374580e+01 6.09081154e+01]\n",
      " [1.49380922e+01 5.67181396e+01]\n",
      " [1.02870417e+01 5.82080994e+01]\n",
      " [3.51215019e+01 1.66178894e+01]\n",
      " [5.26220131e+01 8.95872498e+00]\n",
      " [5.64974861e+01 3.56786575e+01]\n",
      " [9.96146441e-01 3.29136925e+01]\n",
      " [2.07922573e+01 1.70543251e+01]\n",
      " [1.13080072e+01 2.74392643e+01]\n",
      " [5.12343369e+01 3.85061913e+01]\n",
      " [5.25968695e+00 4.74768181e+01]\n",
      " [4.89414101e+01 6.06538696e+01]\n",
      " [3.26506958e+01 5.79163704e+01]\n",
      " [5.68285179e+00 9.52583885e+00]\n",
      " [1.16000137e+01 4.26131744e+01]\n",
      " [1.68475723e+01 3.04329185e+01]\n",
      " [2.92924271e+01 2.12343540e+01]\n",
      " [5.64079380e+00 1.15722351e+01]\n",
      " [6.24896507e+01 5.85844040e+01]\n",
      " [1.96577091e+01 2.10537777e+01]\n",
      " [5.73807793e+01 6.08709183e+01]\n",
      " [6.87413025e+00 9.21742630e+00]\n",
      " [5.71140785e+01 3.46657906e+01]\n",
      " [2.98481827e+01 5.09830666e+01]\n",
      " [4.49300613e+01 1.40770264e+01]\n",
      " [5.13819809e+01 2.72462101e+01]\n",
      " [4.15718193e+01 5.77124100e+01]\n",
      " [2.00454769e+01 1.90542774e+01]\n",
      " [4.18118172e+01 4.78065338e+01]\n",
      " [1.36250935e+01 1.07794437e+01]\n",
      " [3.41966286e+01 3.36987724e+01]\n",
      " [3.03179665e+01 2.21662216e+01]\n",
      " [3.68450470e+01 6.02014275e+01]\n",
      " [5.71297884e-01 3.57094421e+01]\n",
      " [1.38244209e+01 5.75080299e+01]\n",
      " [6.58547783e+00 4.16100845e+01]\n",
      " [5.63253746e+01 1.03389235e+01]\n",
      " [1.23151484e+01 6.23367538e+01]\n",
      " [1.38086147e+01 3.16085567e+01]\n",
      " [2.22960205e+01 4.28429985e+01]\n",
      " [3.31855431e+01 1.99856834e+01]\n",
      " [4.56121826e+01 4.50412140e+01]\n",
      " [0.00000000e+00 0.00000000e+00]\n",
      " [0.00000000e+00 0.00000000e+00]\n",
      " [0.00000000e+00 0.00000000e+00]\n",
      " [0.00000000e+00 0.00000000e+00]\n",
      " [0.00000000e+00 0.00000000e+00]\n",
      " [0.00000000e+00 0.00000000e+00]\n",
      " [0.00000000e+00 0.00000000e+00]\n",
      " [0.00000000e+00 0.00000000e+00]\n",
      " [0.00000000e+00 0.00000000e+00]] \n",
      "\n",
      "\n"
     ]
    },
    {
     "data": {
      "image/png": "[encoded data removed]",
      "text/plain": [
       "<Figure size 432x288 with 1 Axes>"
      ]
     },
     "metadata": {
      "needs_background": "light"
     },
     "output_type": "display_data"
    }
   ],
   "source": [
    "for i in range(num_images):\n",
    "    print(f\"image {i+1}\",\n",
    "          \"\\ncount\\n\", true_counts[i].round().item(),\n",
    "          \"\\ntotal flux\\n\", true_fluxes[i].sum().item(),\n",
    "          \"\\nloc\\n\", true_locs[i].cpu().numpy(), \"\\n\\n\")\n",
    "    fig, img = plt.subplots(1,1)\n",
    "    _ = img.imshow(images[i].cpu())"
   ]
  },
  {
   "cell_type": "code",
   "execution_count": 4,
   "metadata": {},
   "outputs": [
    {
     "name": "stdout",
     "output_type": "stream",
     "text": [
      "True count: 71\n",
      "True total flux: 4511154.5\n",
      "\n",
      "Starting the tile samplers...\n",
      "iteration 5, temperature = 0.0015757393557578325\n",
      "iteration 10, temperature = 0.011665459722280502\n",
      "iteration 15, temperature = 0.06281778216362\n",
      "iteration 20, temperature = 0.32919254899024963\n",
      "Done!\n",
      "\n",
      "Combining the results...\n",
      "Done!\n",
      "\n",
      "Pruning detections...\n",
      "Done!\n",
      "\n",
      "summary\n",
      "number of SMC iterations: 23\n",
      "posterior mean count: 70.54769897460938\n",
      "posterior mean total flux: 4437812.5\n",
      "\n",
      "\n",
      "\n"
     ]
    }
   ],
   "source": [
    "tile_side_length = 4\n",
    "max_objects_smc = 2\n",
    "pad = 2\n",
    "\n",
    "prior = CatalogPrior(max_objects_smc,\n",
    "                     tile_side_length, tile_side_length,\n",
    "                     background_intensity/3.,\n",
    "                     pad)\n",
    "\n",
    "smc = SMCsampler(images[0], image_attributes, tile_side_length, prior,\n",
    "                 max_objects = max_objects_smc, catalogs_per_block = 200,\n",
    "                 kernel_num_iters = 100, product_form_multiplier = 500,\n",
    "                 max_smc_iters = 500)\n",
    "\n",
    "print(f\"True count: {true_counts[0]}\")\n",
    "print(f\"True total flux: {true_fluxes[0].sum()}\\n\")\n",
    "\n",
    "smc.run(print_progress = True)\n",
    "smc.summarize()"
   ]
  }
 ],
 "metadata": {
  "kernelspec": {
   "display_name": "Python 3",
   "language": "python",
   "name": "python3"
  },
  "language_info": {
   "codemirror_mode": {
    "name": "ipython",
    "version": 3
   },
   "file_extension": ".py",
   "mimetype": "text/x-python",
   "name": "python",
   "nbconvert_exporter": "python",
   "pygments_lexer": "ipython3",
   "version": "3.10.12"
  }
 },
 "nbformat": 4,
 "nbformat_minor": 2
}
