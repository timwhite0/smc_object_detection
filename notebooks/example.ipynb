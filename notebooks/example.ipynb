{
 "cells": [
  {
   "cell_type": "code",
   "execution_count": 1,
   "metadata": {},
   "outputs": [
    {
     "name": "stderr",
     "output_type": "stream",
     "text": [
      "/usr/lib/python3/dist-packages/scipy/__init__.py:146: UserWarning: A NumPy version >=1.17.3 and <1.25.0 is required for this version of SciPy (detected version 1.26.3\n",
      "  warnings.warn(f\"A NumPy version >={np_minversion} and <{np_maxversion}\"\n"
     ]
    }
   ],
   "source": [
    "import sys\n",
    "sys.path.append(\"../\")\n",
    "\n",
    "from smc.sampler import SMCsampler\n",
    "from smc.prior import CatalogPrior\n",
    "from smc.images import ImageAttributes\n",
    "\n",
    "import torch\n",
    "# torch.cuda.is_available()\n",
    "device = torch.device(\"cuda:1\" if torch.cuda.is_available() else \"cpu\")\n",
    "torch.cuda.set_device(device)\n",
    "torch.set_default_device(device)\n",
    "\n",
    "import matplotlib.pyplot as plt"
   ]
  },
  {
   "cell_type": "code",
   "execution_count": 2,
   "metadata": {},
   "outputs": [],
   "source": [
    "num_images = 1\n",
    "img_dim = 16 # Needs to be square for now\n",
    "img_width = img_dim\n",
    "img_height = img_dim\n",
    "max_objects = 8\n",
    "psf_stdev = 3.25\n",
    "background_intensity = 19200\n",
    "\n",
    "prior = CatalogPrior(max_objects = max_objects,\n",
    "                     img_height = img_height,\n",
    "                     img_width = img_width,\n",
    "                     min_flux = background_intensity/3.)\n",
    "\n",
    "image_attributes = ImageAttributes(img_height = img_height,\n",
    "                                   img_width = img_width,\n",
    "                                   max_objects = max_objects,\n",
    "                                   psf_stdev = psf_stdev,\n",
    "                                   background_intensity = background_intensity)\n",
    "\n",
    "true_counts, true_fluxes, true_locs, true_total_intensities, images = image_attributes.generate(prior, num_images)"
   ]
  },
  {
   "cell_type": "code",
   "execution_count": 3,
   "metadata": {},
   "outputs": [
    {
     "name": "stdout",
     "output_type": "stream",
     "text": [
      "image 1 \n",
      "count\n",
      " 8 \n",
      "total flux\n",
      " 517862.09375 \n",
      "loc\n",
      " [[15.534685   3.7636108]\n",
      " [ 6.080846   5.085106 ]\n",
      " [ 8.980636  14.180791 ]\n",
      " [ 3.650249   8.03778  ]\n",
      " [ 9.338193   7.001665 ]\n",
      " [ 4.409263   1.2575458]\n",
      " [ 6.487659  14.116005 ]\n",
      " [ 3.5637362  1.1865402]] \n",
      "\n",
      "\n"
     ]
    }
   ],
   "source": [
    "for i in range(num_images):\n",
    "    print(f\"image {i+1}\",\n",
    "          \"\\ncount\\n\", true_counts[i].round().item(),\n",
    "          \"\\ntotal flux\\n\", true_fluxes[i].sum().item(),\n",
    "          \"\\nloc\\n\", true_locs[i].cpu().numpy(), \"\\n\\n\")"
   ]
  },
  {
   "cell_type": "code",
   "execution_count": 4,
   "metadata": {},
   "outputs": [
    {
     "name": "stdout",
     "output_type": "stream",
     "text": [
      "True count: 8\n",
      "True total flux: 517862.09375\n",
      "Naive estimated source count (true total flux / prior mean flux): 8.091595649719238\n",
      "\n",
      "Starting the sampler...\n",
      "iteration 5, temperature = 0.0009999698959290981, posterior mean count = 7.948899269104004\n",
      "iteration 10, temperature = 0.002766127698123455, posterior mean count = 8.116589546203613\n",
      "iteration 15, temperature = 0.005527892615646124, posterior mean count = 8.12598991394043\n",
      "iteration 20, temperature = 0.010206280276179314, posterior mean count = 8.100025177001953\n",
      "iteration 25, temperature = 0.019100001081824303, posterior mean count = 8.060813903808594\n",
      "iteration 30, temperature = 0.037029195576906204, posterior mean count = 8.047088623046875\n",
      "iteration 35, temperature = 0.07085270434617996, posterior mean count = 8.05202865600586\n",
      "iteration 40, temperature = 0.1286908984184265, posterior mean count = 8.077194213867188\n",
      "iteration 45, temperature = 0.21600845456123352, posterior mean count = 8.096635818481445\n",
      "iteration 50, temperature = 0.3292185068130493, posterior mean count = 8.08055591583252\n",
      "iteration 55, temperature = 0.47017815709114075, posterior mean count = 8.024343490600586\n",
      "iteration 60, temperature = 0.6492959260940552, posterior mean count = 8.003805160522461\n",
      "iteration 65, temperature = 0.8665094971656799, posterior mean count = 8.02575397491455\n",
      "Done!\n",
      "\n",
      "summary\n",
      "number of SMC iterations: 67\n",
      "log normalizing constant:\n",
      "tensor([[          0, -2147483648],\n",
      "        [          1, -2147483648],\n",
      "        [          2, -2147483648],\n",
      "        [          3, -2147483648],\n",
      "        [          4, -2147483648],\n",
      "        [          5,       -3822],\n",
      "        [          6,       -2871],\n",
      "        [          7,       -2440],\n",
      "        [          8,       -2312],\n",
      "        [          9,       -2411],\n",
      "        [         10,       -2664]], device='cuda:1')\n",
      "posterior mean count: 8.059992790222168\n",
      "posterior mean total flux: 520145.75\n",
      "argmax count: 8.0\n",
      "argmax total flux: 523313.4375\n",
      "\n",
      "\n",
      "\n"
     ]
    },
    {
     "data": {
      "image/png": "[encoded data removed]",
      "text/plain": [
       "<Figure size 432x288 with 2 Axes>"
      ]
     },
     "metadata": {
      "needs_background": "light"
     },
     "output_type": "display_data"
    }
   ],
   "source": [
    "max_objects_smc = max_objects + 2\n",
    "pad = 0\n",
    "prior = CatalogPrior(max_objects_smc, img_width, img_height, background_intensity/3., pad)\n",
    "smc = SMCsampler(images[0], image_attributes, prior,\n",
    "                 max_objects = max_objects_smc, catalogs_per_block = 500,\n",
    "                 kernel_num_iters = 100,\n",
    "                 max_smc_iters = 500,\n",
    "                 wastefree = False, wastefree_M = 10)\n",
    "\n",
    "print(f\"True count: {true_counts[0]}\")\n",
    "print(f\"True total flux: {true_fluxes[0].sum()}\")\n",
    "\n",
    "smc.run(print_progress = True)\n",
    "smc.summarize()"
   ]
  }
 ],
 "metadata": {
  "kernelspec": {
   "display_name": "Python 3",
   "language": "python",
   "name": "python3"
  },
  "language_info": {
   "codemirror_mode": {
    "name": "ipython",
    "version": 3
   },
   "file_extension": ".py",
   "mimetype": "text/x-python",
   "name": "python",
   "nbconvert_exporter": "python",
   "pygments_lexer": "ipython3",
   "version": "3.10.12"
  }
 },
 "nbformat": 4,
 "nbformat_minor": 2
}
