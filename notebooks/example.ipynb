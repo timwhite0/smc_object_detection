{
 "cells": [
  {
   "cell_type": "code",
   "execution_count": 40,
   "metadata": {},
   "outputs": [],
   "source": [
    "import sys\n",
    "sys.path.append(\"../\")\n",
    "\n",
    "from smc.sampler import SMCsampler\n",
    "from smc.prior import CatalogPrior\n",
    "from smc.images import ImageAttributes\n",
    "\n",
    "import torch\n",
    "# torch.cuda.is_available()\n",
    "device = torch.device(\"cuda:1\" if torch.cuda.is_available() else \"cpu\")\n",
    "torch.cuda.set_device(device)\n",
    "torch.set_default_device(device)\n",
    "\n",
    "import matplotlib.pyplot as plt"
   ]
  },
  {
   "cell_type": "code",
   "execution_count": 41,
   "metadata": {},
   "outputs": [],
   "source": [
    "num_images = 1\n",
    "img_dim = 16 # Needs to be square for now\n",
    "img_width = img_dim\n",
    "img_height = img_dim\n",
    "max_objects = 8\n",
    "psf_stdev = 3.25\n",
    "background_intensity = 19200\n",
    "\n",
    "prior = CatalogPrior(max_objects = max_objects,\n",
    "                     img_height = img_height,\n",
    "                     img_width = img_width,\n",
    "                     min_flux = background_intensity/3.)\n",
    "\n",
    "image_attributes = ImageAttributes(img_height = img_height,\n",
    "                                   img_width = img_width,\n",
    "                                   max_objects = max_objects,\n",
    "                                   psf_stdev = psf_stdev,\n",
    "                                   background_intensity = background_intensity)\n",
    "\n",
    "true_counts, true_fluxes, true_locs, true_total_intensities, images = image_attributes.generate(prior, num_images)"
   ]
  },
  {
   "cell_type": "code",
   "execution_count": 42,
   "metadata": {},
   "outputs": [
    {
     "name": "stdout",
     "output_type": "stream",
     "text": [
      "image 1 \n",
      "count\n",
      " 8 \n",
      "total flux\n",
      " 509942.5625 \n",
      "loc\n",
      " [[ 4.4906125  8.281868 ]\n",
      " [ 7.3248706 13.516492 ]\n",
      " [11.171614   9.063038 ]\n",
      " [ 5.390741   6.105352 ]\n",
      " [10.153338  11.646929 ]\n",
      " [ 1.2775602  8.781459 ]\n",
      " [10.772249   1.1388032]\n",
      " [11.897369  15.207951 ]] \n",
      "\n",
      "\n"
     ]
    }
   ],
   "source": [
    "for i in range(num_images):\n",
    "    print(f\"image {i+1}\",\n",
    "          \"\\ncount\\n\", true_counts[i].round().item(),\n",
    "          \"\\ntotal flux\\n\", true_fluxes[i].sum().item(),\n",
    "          \"\\nloc\\n\", true_locs[i].cpu().numpy(), \"\\n\\n\")"
   ]
  },
  {
   "cell_type": "code",
   "execution_count": 43,
   "metadata": {},
   "outputs": [
    {
     "name": "stdout",
     "output_type": "stream",
     "text": [
      "True count: 8\n",
      "True total flux: 509942.5625\n",
      "\n",
      "Starting the sampler...\n",
      "iteration 5, temperature = 0.0008874463965184987, posterior mean count = 7.828012466430664\n",
      "iteration 10, temperature = 0.0026067483704537153, posterior mean count = 7.93489933013916\n",
      "iteration 15, temperature = 0.005621789023280144, posterior mean count = 7.932117938995361\n",
      "iteration 20, temperature = 0.010680151171982288, posterior mean count = 7.946472644805908\n",
      "iteration 25, temperature = 0.019773412495851517, posterior mean count = 7.965195178985596\n",
      "iteration 30, temperature = 0.03632738068699837, posterior mean count = 7.998680114746094\n",
      "iteration 35, temperature = 0.06549248844385147, posterior mean count = 8.034578323364258\n",
      "iteration 40, temperature = 0.11174514144659042, posterior mean count = 8.084256172180176\n",
      "iteration 45, temperature = 0.17526277899742126, posterior mean count = 8.13147258758545\n",
      "iteration 50, temperature = 0.2551264762878418, posterior mean count = 8.172910690307617\n",
      "iteration 55, temperature = 0.35048025846481323, posterior mean count = 8.199058532714844\n",
      "iteration 60, temperature = 0.459420382976532, posterior mean count = 8.189162254333496\n",
      "iteration 65, temperature = 0.5791361331939697, posterior mean count = 8.111181259155273\n",
      "iteration 70, temperature = 0.7082460522651672, posterior mean count = 8.064995765686035\n",
      "iteration 75, temperature = 0.8484154343605042, posterior mean count = 8.05089282989502\n",
      "Done!\n",
      "\n",
      "summary\n",
      "number of SMC iterations: 79\n",
      "log normalizing constant: -2444.49658203125\n",
      "posterior mean count: 8.052395820617676\n",
      "posterior mean total flux: 512553.28125\n",
      "argmax count: 8.0\n",
      "argmax total flux: 516183.875\n",
      "\n",
      "\n",
      "\n"
     ]
    },
    {
     "data": {
      "image/png": "[encoded data removed]",
      "text/plain": [
       "<Figure size 432x288 with 2 Axes>"
      ]
     },
     "metadata": {
      "needs_background": "light"
     },
     "output_type": "display_data"
    }
   ],
   "source": [
    "max_objects_smc = max_objects + 2\n",
    "pad = 0\n",
    "prior = CatalogPrior(max_objects_smc, img_width, img_height, background_intensity/3., pad)\n",
    "smc = SMCsampler(images[0], image_attributes, prior,\n",
    "                 num_blocks = max_objects_smc + 1, catalogs_per_block = 1000,\n",
    "                 max_smc_iters = 1000)\n",
    "\n",
    "print(f\"True count: {true_counts[0]}\")\n",
    "print(f\"True total flux: {true_fluxes[0].sum()}\\n\")\n",
    "\n",
    "smc.run(print_progress = True)\n",
    "smc.summarize()"
   ]
  }
 ],
 "metadata": {
  "kernelspec": {
   "display_name": "Python 3",
   "language": "python",
   "name": "python3"
  },
  "language_info": {
   "codemirror_mode": {
    "name": "ipython",
    "version": 3
   },
   "file_extension": ".py",
   "mimetype": "text/x-python",
   "name": "python",
   "nbconvert_exporter": "python",
   "pygments_lexer": "ipython3",
   "version": "3.10.12"
  }
 },
 "nbformat": 4,
 "nbformat_minor": 2
}
