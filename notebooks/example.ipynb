{
 "cells": [
  {
   "cell_type": "code",
   "execution_count": 1,
   "metadata": {},
   "outputs": [
    {
     "name": "stderr",
     "output_type": "stream",
     "text": [
      "/usr/lib/python3/dist-packages/scipy/__init__.py:146: UserWarning: A NumPy version >=1.17.3 and <1.25.0 is required for this version of SciPy (detected version 1.26.3\n",
      "  warnings.warn(f\"A NumPy version >={np_minversion} and <{np_maxversion}\"\n"
     ]
    }
   ],
   "source": [
    "import sys\n",
    "sys.path.append(\"../\")\n",
    "\n",
    "from smc.sampler import SMCsampler\n",
    "from smc.prior import CatalogPrior\n",
    "from smc.images import ImageAttributes\n",
    "\n",
    "import torch\n",
    "# torch.cuda.is_available()\n",
    "device = torch.device(\"cuda:7\" if torch.cuda.is_available() else \"cpu\")\n",
    "torch.cuda.set_device(device)\n",
    "torch.set_default_device(device)\n",
    "\n",
    "import matplotlib.pyplot as plt"
   ]
  },
  {
   "cell_type": "code",
   "execution_count": 2,
   "metadata": {},
   "outputs": [],
   "source": [
    "num_images = 1\n",
    "img_dim = 64 # Needs to be square for now\n",
    "img_width = img_dim\n",
    "img_height = img_dim\n",
    "max_objects = 80\n",
    "psf_stdev = 1\n",
    "background_intensity = 19200\n",
    "\n",
    "prior = CatalogPrior(max_objects = max_objects,\n",
    "                     img_height = img_height,\n",
    "                     img_width = img_width,\n",
    "                     min_flux = background_intensity/3.)\n",
    "\n",
    "image_attributes = ImageAttributes(img_height = img_height,\n",
    "                                   img_width = img_width,\n",
    "                                   max_objects = max_objects,\n",
    "                                   psf_stdev = psf_stdev,\n",
    "                                   background_intensity = background_intensity)\n",
    "\n",
    "true_counts, true_fluxes, true_locs, true_total_intensities, images = image_attributes.generate(prior, num_images)"
   ]
  },
  {
   "cell_type": "code",
   "execution_count": 3,
   "metadata": {},
   "outputs": [
    {
     "name": "stdout",
     "output_type": "stream",
     "text": [
      "image 1 \n",
      "count\n",
      " 18 \n",
      "total flux\n",
      " 1165538.25 \n",
      "loc\n",
      " [[35.30476   13.238193 ]\n",
      " [44.27685   20.745882 ]\n",
      " [58.926704  31.649649 ]\n",
      " [ 1.9729974 48.40715  ]\n",
      " [26.598814   2.3720174]\n",
      " [ 6.5016494  8.2079735]\n",
      " [ 5.1713977 28.031569 ]\n",
      " [63.54762   43.351727 ]\n",
      " [57.6356    40.45491  ]\n",
      " [60.51958   55.41801  ]\n",
      " [ 8.8365345 12.472075 ]\n",
      " [46.24248    3.8899434]\n",
      " [41.03182   17.05832  ]\n",
      " [55.59697   45.91928  ]\n",
      " [42.962986  21.396296 ]\n",
      " [56.2796     9.619151 ]\n",
      " [33.75031   14.5918665]\n",
      " [ 2.063993  44.431286 ]\n",
      " [ 0.         0.       ]\n",
      " [ 0.         0.       ]\n",
      " [ 0.         0.       ]\n",
      " [ 0.         0.       ]\n",
      " [ 0.         0.       ]\n",
      " [ 0.         0.       ]\n",
      " [ 0.         0.       ]\n",
      " [ 0.         0.       ]\n",
      " [ 0.         0.       ]\n",
      " [ 0.         0.       ]\n",
      " [ 0.         0.       ]\n",
      " [ 0.         0.       ]\n",
      " [ 0.         0.       ]\n",
      " [ 0.         0.       ]\n",
      " [ 0.         0.       ]\n",
      " [ 0.         0.       ]\n",
      " [ 0.         0.       ]\n",
      " [ 0.         0.       ]\n",
      " [ 0.         0.       ]\n",
      " [ 0.         0.       ]\n",
      " [ 0.         0.       ]\n",
      " [ 0.         0.       ]\n",
      " [ 0.         0.       ]\n",
      " [ 0.         0.       ]\n",
      " [ 0.         0.       ]\n",
      " [ 0.         0.       ]\n",
      " [ 0.         0.       ]\n",
      " [ 0.         0.       ]\n",
      " [ 0.         0.       ]\n",
      " [ 0.         0.       ]\n",
      " [ 0.         0.       ]\n",
      " [ 0.         0.       ]\n",
      " [ 0.         0.       ]\n",
      " [ 0.         0.       ]\n",
      " [ 0.         0.       ]\n",
      " [ 0.         0.       ]\n",
      " [ 0.         0.       ]\n",
      " [ 0.         0.       ]\n",
      " [ 0.         0.       ]\n",
      " [ 0.         0.       ]\n",
      " [ 0.         0.       ]\n",
      " [ 0.         0.       ]\n",
      " [ 0.         0.       ]\n",
      " [ 0.         0.       ]\n",
      " [ 0.         0.       ]\n",
      " [ 0.         0.       ]\n",
      " [ 0.         0.       ]\n",
      " [ 0.         0.       ]\n",
      " [ 0.         0.       ]\n",
      " [ 0.         0.       ]\n",
      " [ 0.         0.       ]\n",
      " [ 0.         0.       ]\n",
      " [ 0.         0.       ]\n",
      " [ 0.         0.       ]\n",
      " [ 0.         0.       ]\n",
      " [ 0.         0.       ]\n",
      " [ 0.         0.       ]\n",
      " [ 0.         0.       ]\n",
      " [ 0.         0.       ]\n",
      " [ 0.         0.       ]\n",
      " [ 0.         0.       ]\n",
      " [ 0.         0.       ]] \n",
      "\n",
      "\n"
     ]
    },
    {
     "data": {
      "image/png": "[encoded data removed]",
      "text/plain": [
       "<Figure size 432x288 with 1 Axes>"
      ]
     },
     "metadata": {
      "needs_background": "light"
     },
     "output_type": "display_data"
    }
   ],
   "source": [
    "for i in range(num_images):\n",
    "    print(f\"image {i+1}\",\n",
    "          \"\\ncount\\n\", true_counts[i].round().item(),\n",
    "          \"\\ntotal flux\\n\", true_fluxes[i].sum().item(),\n",
    "          \"\\nloc\\n\", true_locs[i].cpu().numpy(), \"\\n\\n\")\n",
    "    fig, img = plt.subplots(1,1)\n",
    "    _ = img.imshow(images[i].cpu())"
   ]
  },
  {
   "cell_type": "code",
   "execution_count": 4,
   "metadata": {},
   "outputs": [
    {
     "name": "stdout",
     "output_type": "stream",
     "text": [
      "True count: 18\n",
      "True total flux: 1165538.25\n",
      "\n",
      "Starting the tile samplers...\n",
      "iteration 5, temperature = 0.0016993379686027765\n",
      "iteration 10, temperature = 0.013341212645173073\n",
      "iteration 15, temperature = 0.0919261947274208\n",
      "iteration 20, temperature = 0.759225606918335\n",
      "Done!\n",
      "\n",
      "Combining the results...\n",
      "Done!\n",
      "\n",
      "Pruning detections...\n",
      "Done!\n",
      "\n",
      "summary\n",
      "number of SMC iterations: 20\n",
      "posterior mean count: 17.744298934936523\n",
      "posterior mean total flux: 1118558.25\n",
      "\n",
      "\n",
      "\n"
     ]
    }
   ],
   "source": [
    "tile_side_length = 4\n",
    "max_objects_smc = 2\n",
    "pad = 2\n",
    "\n",
    "prior = CatalogPrior(max_objects_smc,\n",
    "                     img_width, img_height,\n",
    "                     background_intensity/3.,\n",
    "                     pad)\n",
    "\n",
    "smc = SMCsampler(images[0], image_attributes, tile_side_length, prior,\n",
    "                 max_objects = max_objects_smc, catalogs_per_block = 200,\n",
    "                 kernel_num_iters = 100, product_form_multiplier = 500,\n",
    "                 max_smc_iters = 500)\n",
    "\n",
    "print(f\"True count: {true_counts[0]}\")\n",
    "print(f\"True total flux: {true_fluxes[0].sum()}\\n\")\n",
    "\n",
    "smc.run(print_progress = True)\n",
    "smc.summarize()"
   ]
  }
 ],
 "metadata": {
  "kernelspec": {
   "display_name": "Python 3",
   "language": "python",
   "name": "python3"
  },
  "language_info": {
   "codemirror_mode": {
    "name": "ipython",
    "version": 3
   },
   "file_extension": ".py",
   "mimetype": "text/x-python",
   "name": "python",
   "nbconvert_exporter": "python",
   "pygments_lexer": "ipython3",
   "version": "3.10.12"
  }
 },
 "nbformat": 4,
 "nbformat_minor": 2
}
