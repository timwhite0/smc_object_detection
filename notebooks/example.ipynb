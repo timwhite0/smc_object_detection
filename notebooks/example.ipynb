{
 "cells": [
  {
   "cell_type": "code",
   "execution_count": null,
   "metadata": {},
   "outputs": [],
   "source": [
    "import sys\n",
    "sys.path.append(\"../\")\n",
    "\n",
    "from smc.sampler import SMCsampler\n",
    "from smc.prior import StarPrior\n",
    "from smc.images import ImageModel\n",
    "from smc.kernel import MetropolisHastings\n",
    "\n",
    "import torch\n",
    "# torch.cuda.is_available()\n",
    "device = torch.device(\"cuda:5\" if torch.cuda.is_available() else \"cpu\")\n",
    "torch.cuda.set_device(device)\n",
    "torch.set_default_device(device)\n",
    "\n",
    "import matplotlib.pyplot as plt"
   ]
  },
  {
   "cell_type": "markdown",
   "metadata": {},
   "source": [
    "### Generate images"
   ]
  },
  {
   "cell_type": "markdown",
   "metadata": {},
   "source": [
    "We specify a prior and an image model and generate one image."
   ]
  },
  {
   "cell_type": "code",
   "execution_count": null,
   "metadata": {},
   "outputs": [],
   "source": [
    "TruePrior = StarPrior(max_objects = 40,\n",
    "                      image_height = 32,\n",
    "                      image_width = 32,\n",
    "                      min_flux = 10000)\n",
    "\n",
    "TrueImageModel = ImageModel(image_height = 32,\n",
    "                            image_width = 32,\n",
    "                            psf_stdev = 0.75,\n",
    "                            background = 20000)\n",
    "\n",
    "true_counts, true_locs, true_fluxes, images = TrueImageModel.generate(Prior = TruePrior,\n",
    "                                                                      num_images = 1)"
   ]
  },
  {
   "cell_type": "code",
   "execution_count": null,
   "metadata": {},
   "outputs": [],
   "source": [
    "for i in range(1):\n",
    "    print(f\"image {i+1}\",\n",
    "          \"\\ncount\\n\", true_counts[i].round().item(),\n",
    "          \"\\ntotal flux\\n\", true_fluxes[i].sum().item(),\n",
    "          \"\\nloc\\n\", true_locs[i].cpu().numpy(), \"\\n\\n\")\n",
    "    fig, img = plt.subplots(1,1)\n",
    "    _ = img.imshow(images[i].cpu())"
   ]
  },
  {
   "cell_type": "markdown",
   "metadata": {},
   "source": [
    "### Perform inference with SMC"
   ]
  },
  {
   "cell_type": "markdown",
   "metadata": {},
   "source": [
    "We set the side length of the tiles on which we will run the sampler, and we specify a prior and image model at the tile level. We also specify a mutation kernel to be used within the SMC sampler."
   ]
  },
  {
   "cell_type": "code",
   "execution_count": null,
   "metadata": {},
   "outputs": [],
   "source": [
    "tile_dim = 4\n",
    "\n",
    "TilePrior = StarPrior(max_objects = 3,\n",
    "                      image_height = tile_dim,\n",
    "                      image_width = tile_dim,\n",
    "                      min_flux = 10000,\n",
    "                      pad = 2)\n",
    "\n",
    "TileImageModel = ImageModel(image_height = tile_dim,\n",
    "                            image_width = tile_dim,\n",
    "                            psf_stdev = 0.75,\n",
    "                            background = 20000)\n",
    "\n",
    "MHKernel = MetropolisHastings(num_iters = 100,\n",
    "                              locs_stdev = 0.1,\n",
    "                              features_stdev = 2000)"
   ]
  },
  {
   "cell_type": "markdown",
   "metadata": {},
   "source": [
    "Now we initialize an `SMCsampler` object and run it on the tiles."
   ]
  },
  {
   "cell_type": "code",
   "execution_count": null,
   "metadata": {},
   "outputs": [],
   "source": [
    "smc = SMCsampler(image = images[0],\n",
    "                 tile_dim = tile_dim,\n",
    "                 Prior = TilePrior,\n",
    "                 ImageModel = TileImageModel,\n",
    "                 MutationKernel = MHKernel,\n",
    "                 num_catalogs_per_count = 1000,\n",
    "                 max_smc_iters = 500)\n",
    "\n",
    "print(f\"True count: {true_counts[0]}\")\n",
    "print(f\"True total flux: {true_fluxes[0].sum()}\\n\")\n",
    "\n",
    "smc.run(print_progress = True)\n",
    "smc.summarize()"
   ]
  },
  {
   "cell_type": "markdown",
   "metadata": {},
   "source": [
    "### reshaping tensors"
   ]
  },
  {
   "cell_type": "code",
   "execution_count": null,
   "metadata": {},
   "outputs": [],
   "source": [
    "from einops import rearrange, reduce"
   ]
  },
  {
   "cell_type": "code",
   "execution_count": null,
   "metadata": {},
   "outputs": [],
   "source": [
    "# data = smc.tiled_image\n",
    "# counts = smc.counts\n",
    "# locs = smc.locs\n",
    "# features = smc.features\n",
    "# weights = smc.weights_intercount\n",
    "\n",
    "# tile_dim = data.shape[0]\n",
    "\n",
    "# k = torch.tensor(tile_dim).log2().int()\n",
    "# num_aggregation_levels = 2 * k\n",
    "\n",
    "# for _ in range(k):\n",
    "#     data = data.unfold(0, 2, 2).unfold(1, 2, 2).squeeze([0,1])\n",
    "#     counts = counts.unfold(0, 2, 2).unfold(1, 2, 2).squeeze([0,1])\n",
    "#     locs = locs.unfold(0, 2, 2).unfold(1, 2, 2).squeeze([0,1])\n",
    "#     features = features.unfold(0, 2, 2).unfold(1, 2, 2).squeeze([0,1])\n",
    "#     weights = weights.unfold(0, 2, 2).unfold(1, 2, 2).squeeze([0,1])\n",
    "\n",
    "# data = rearrange(data, 'h w ... -> ... h w')\n",
    "# counts = rearrange(counts, 'n ... -> ... n')\n",
    "# locs = rearrange(locs, 'n m l ... -> ... n m l')\n",
    "# features = rearrange(features, 'n m ... -> ... n m')\n",
    "# weights = rearrange(weights, 'n ... -> ... n')"
   ]
  },
  {
   "cell_type": "code",
   "execution_count": null,
   "metadata": {},
   "outputs": [],
   "source": [
    "# # this is how to collapse the image along the height axis\n",
    "# rearrange(data, 't ... h w -> ... (t h) w')\n",
    "# # ... and along the width axis\n",
    "# rearrange(data, 't ... h w -> ... h (t w)')"
   ]
  },
  {
   "cell_type": "code",
   "execution_count": null,
   "metadata": {},
   "outputs": [],
   "source": [
    "data = smc.tiled_image\n",
    "counts = smc.counts\n",
    "locs = smc.locs\n",
    "features = smc.features\n",
    "weights = smc.weights_intercount"
   ]
  },
  {
   "cell_type": "markdown",
   "metadata": {},
   "source": [
    "### resample"
   ]
  },
  {
   "cell_type": "code",
   "execution_count": null,
   "metadata": {},
   "outputs": [],
   "source": [
    "resampled_index = weights.flatten(0,1).multinomial(smc.num_catalogs,\n",
    "                                      replacement = True).clamp(min = 0,\n",
    "                                                                max = smc.num_catalogs - 1)\n",
    "\n",
    "for h in range(8):\n",
    "    for w in range(8):\n",
    "        counts[h,w] = counts[h,w, resampled_index[h,w]]\n",
    "        locs[h,w] = locs[h,w, resampled_index[h,w]]\n",
    "        features[h,w] = features[h,w, resampled_index[h,w]]\n",
    "        weights[h,w] = 1 / smc.num_catalogs"
   ]
  },
  {
   "cell_type": "markdown",
   "metadata": {},
   "source": [
    "### merge"
   ]
  },
  {
   "cell_type": "code",
   "execution_count": null,
   "metadata": {},
   "outputs": [],
   "source": [
    "new_data = rearrange(data.unfold(0, 2, 2), 'nh nw h w t -> nh nw (t h) w')"
   ]
  },
  {
   "cell_type": "code",
   "execution_count": null,
   "metadata": {},
   "outputs": [],
   "source": [
    "new_counts = counts.unfold(0, 2, 2).sum(3)"
   ]
  },
  {
   "cell_type": "code",
   "execution_count": null,
   "metadata": {},
   "outputs": [],
   "source": [
    "new_locs = rearrange(locs.unfold(0, 2, 2), 'nh nw N M l t -> nh nw N (t M) l')\n",
    "locs_mask = (new_locs != 0).int()\n",
    "locs_index = torch.sort(locs_mask, dim = 3, descending = True)[1]\n",
    "new_locs = torch.gather(new_locs, dim = 3, index = locs_index)"
   ]
  },
  {
   "cell_type": "code",
   "execution_count": null,
   "metadata": {},
   "outputs": [],
   "source": [
    "new_features = rearrange(features.unfold(0, 2, 2), 'nh nw N M t -> nh nw N (t M)')\n",
    "features_mask = (new_features != 0).int()\n",
    "features_index = torch.sort(features_mask, dim = 3, descending = True)[1]\n",
    "new_features = torch.gather(new_features, dim = 3, index = features_index)"
   ]
  },
  {
   "cell_type": "markdown",
   "metadata": {},
   "source": [
    "### loglikelihood"
   ]
  },
  {
   "cell_type": "code",
   "execution_count": null,
   "metadata": {},
   "outputs": [],
   "source": [
    "ImageModel(image_height=8,\n",
    "           image_width=4,\n",
    "           psf_stdev=0.75,\n",
    "           background=20000).loglikelihood(new_data, new_locs, new_features).shape"
   ]
  },
  {
   "cell_type": "markdown",
   "metadata": {},
   "source": [
    "### prior"
   ]
  },
  {
   "cell_type": "code",
   "execution_count": null,
   "metadata": {},
   "outputs": [],
   "source": [
    "StarPrior(max_objects = 2*3,\n",
    "          image_height = 8,\n",
    "          image_width = 4,\n",
    "          min_flux = 10000,\n",
    "          pad = 2).log_prob(new_counts, new_locs, new_features).shape"
   ]
  }
 ],
 "metadata": {
  "kernelspec": {
   "display_name": "Python 3",
   "language": "python",
   "name": "python3"
  },
  "language_info": {
   "codemirror_mode": {
    "name": "ipython",
    "version": 3
   },
   "file_extension": ".py",
   "mimetype": "text/x-python",
   "name": "python",
   "nbconvert_exporter": "python",
   "pygments_lexer": "ipython3",
   "version": "3.10.12"
  }
 },
 "nbformat": 4,
 "nbformat_minor": 2
}
