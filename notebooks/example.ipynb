{
 "cells": [
  {
   "cell_type": "code",
   "execution_count": null,
   "metadata": {},
   "outputs": [],
   "source": [
    "import sys\n",
    "sys.path.append(\"../\")\n",
    "\n",
    "from smc.sampler import SMCsampler\n",
    "from smc.prior import StarPrior\n",
    "from smc.images import ImageModel\n",
    "from smc.kernel import MetropolisHastings\n",
    "from smc.aggregate import Aggregate\n",
    "\n",
    "import torch\n",
    "# torch.cuda.is_available()\n",
    "device = torch.device(\"cuda:2\" if torch.cuda.is_available() else \"cpu\")\n",
    "torch.cuda.set_device(device)\n",
    "torch.set_default_device(device)\n",
    "\n",
    "import matplotlib.pyplot as plt"
   ]
  },
  {
   "cell_type": "markdown",
   "metadata": {},
   "source": [
    "### Generate images"
   ]
  },
  {
   "cell_type": "markdown",
   "metadata": {},
   "source": [
    "We specify a prior and an image model and generate one image."
   ]
  },
  {
   "cell_type": "code",
   "execution_count": null,
   "metadata": {},
   "outputs": [],
   "source": [
    "image_dim = 16\n",
    "true_psf_stdev = 1.5\n",
    "true_background = 10000\n",
    "true_flux_mean = 80000\n",
    "true_flux_stdev = 20000\n",
    "\n",
    "TruePrior = StarPrior(max_objects = 8,\n",
    "                      image_height = image_dim,\n",
    "                      image_width = image_dim,\n",
    "                      flux_mean = true_flux_mean,\n",
    "                      flux_stdev = true_flux_stdev)\n",
    "\n",
    "TrueImageModel = ImageModel(image_height = image_dim,\n",
    "                            image_width = image_dim,\n",
    "                            psf_stdev = true_psf_stdev,\n",
    "                            background = true_background)\n",
    "\n",
    "true_counts, true_locs, true_fluxes, images = TrueImageModel.generate(Prior = TruePrior,\n",
    "                                                                      num_images = 1)"
   ]
  },
  {
   "cell_type": "code",
   "execution_count": null,
   "metadata": {},
   "outputs": [],
   "source": [
    "for i in range(1):\n",
    "    print(f\"image {i+1}\",\n",
    "          \"\\ncount\\n\", true_counts[i].round().item(),\n",
    "          \"\\ntotal flux\\n\", true_fluxes[i].sum().item(),\n",
    "          \"\\nloc\\n\", true_locs[i].cpu().numpy(), \"\\n\\n\")\n",
    "    fig, img = plt.subplots(1,1)\n",
    "    tmp = img.imshow(images[i].cpu(), cmap = 'viridis')\n",
    "    _ = fig.colorbar(tmp)\n",
    "    _ = img.scatter(true_locs.squeeze()[:true_counts.squeeze(),1].cpu() - 0.5,\n",
    "                    true_locs.squeeze()[:true_counts.squeeze(),0].cpu() - 0.5, marker = 'x', color = 'red')\n",
    "    _ = img.vlines(x=image_dim//4 - 0.5, ymin = 0 - 0.5, ymax = image_dim - 0.5, color = 'white')\n",
    "    _ = img.vlines(x=2*image_dim//4 - 0.5, ymin = 0 - 0.5, ymax = image_dim - 0.5, color = 'white')\n",
    "    _ = img.vlines(x=3*image_dim//4 - 0.5, ymin = 0 - 0.5, ymax = image_dim - 0.5, color = 'white')\n",
    "    _ = img.hlines(y=image_dim//4 - 0.5, xmin = 0 - 0.5, xmax = image_dim - 0.5, color = 'white')\n",
    "    _ = img.hlines(y=2*image_dim//4 - 0.5, xmin = 0 - 0.5, xmax = image_dim - 0.5, color = 'white')\n",
    "    _ = img.hlines(y=3*image_dim//4 - 0.5, xmin = 0 - 0.5, xmax = image_dim - 0.5, color = 'white')"
   ]
  },
  {
   "cell_type": "markdown",
   "metadata": {},
   "source": [
    "### Perform inference with SMC"
   ]
  },
  {
   "cell_type": "markdown",
   "metadata": {},
   "source": [
    "We set the side length of the tiles on which we will run the sampler, and we specify a prior and image model at the tile level. We also specify a mutation kernel to be used within the SMC sampler.\n",
    "\n",
    "We'll assume that the image background, PSF standard deviation, and flux prior parameters are all known."
   ]
  },
  {
   "cell_type": "code",
   "execution_count": null,
   "metadata": {},
   "outputs": [],
   "source": [
    "tile_dim = 16\n",
    "\n",
    "TilePrior = StarPrior(max_objects = 8,\n",
    "                      image_height = tile_dim,\n",
    "                      image_width = tile_dim,\n",
    "                      flux_mean = true_flux_mean,\n",
    "                      flux_stdev = true_flux_stdev,\n",
    "                      pad = 2)\n",
    "\n",
    "TileImageModel = ImageModel(image_height = tile_dim,\n",
    "                            image_width = tile_dim,\n",
    "                            psf_stdev = true_psf_stdev,\n",
    "                            background = true_background)\n",
    "\n",
    "MHKernel = MetropolisHastings(num_iters = 100,\n",
    "                              locs_stdev = 0.1,\n",
    "                              features_stdev = 2500,\n",
    "                              features_min = 20000)"
   ]
  },
  {
   "cell_type": "markdown",
   "metadata": {},
   "source": [
    "Now we initialize an `SMCsampler` object and run it on the tiles."
   ]
  },
  {
   "cell_type": "code",
   "execution_count": null,
   "metadata": {},
   "outputs": [],
   "source": [
    "smc = SMCsampler(image = images[0],\n",
    "                 tile_dim = tile_dim,\n",
    "                 Prior = TilePrior,\n",
    "                 ImageModel = TileImageModel,\n",
    "                 MutationKernel = MHKernel,\n",
    "                 num_catalogs_per_count = 1000,\n",
    "                 max_smc_iters = 500)\n",
    "\n",
    "print(f\"True count: {true_counts[0]}\")\n",
    "print(f\"True total flux: {true_fluxes[0].sum()}\\n\")\n",
    "\n",
    "smc.run(print_progress = True)"
   ]
  },
  {
   "cell_type": "markdown",
   "metadata": {},
   "source": [
    "Now we instantiate an `Aggregate` object with the tile-level results from above:"
   ]
  },
  {
   "cell_type": "code",
   "execution_count": null,
   "metadata": {},
   "outputs": [],
   "source": [
    "agg = Aggregate(smc.Prior,\n",
    "                smc.ImageModel,\n",
    "                smc.tiled_image,\n",
    "                smc.counts,\n",
    "                smc.locs,\n",
    "                smc.features,\n",
    "                smc.weights_intercount)"
   ]
  },
  {
   "cell_type": "markdown",
   "metadata": {},
   "source": [
    "We run the aggregation procedure to obtain image-level catalogs:"
   ]
  },
  {
   "cell_type": "code",
   "execution_count": null,
   "metadata": {},
   "outputs": [],
   "source": [
    "agg.run()"
   ]
  },
  {
   "cell_type": "markdown",
   "metadata": {},
   "source": [
    "We compute the posterior mean number of light sources:"
   ]
  },
  {
   "cell_type": "code",
   "execution_count": null,
   "metadata": {},
   "outputs": [],
   "source": [
    "agg.posterior_mean_counts"
   ]
  },
  {
   "cell_type": "markdown",
   "metadata": {},
   "source": [
    "And we compute the posterior mean total flux:"
   ]
  },
  {
   "cell_type": "code",
   "execution_count": null,
   "metadata": {},
   "outputs": [],
   "source": [
    "agg.posterior_mean_total_flux"
   ]
  },
  {
   "cell_type": "markdown",
   "metadata": {},
   "source": [
    "Finally, we reconstruct the image using one of the catalogs we just sampled:"
   ]
  },
  {
   "cell_type": "code",
   "execution_count": null,
   "metadata": {},
   "outputs": [],
   "source": [
    "index = torch.randint(low = 0, high = agg.counts.shape[-1] - 1, size = [1])\n",
    "psf = agg.ImageModel.psf(agg.locs[:,:,index])\n",
    "rate = (psf * agg.features[:,:,index].unsqueeze(-3).unsqueeze(-4)).sum(-1) + agg.ImageModel.background\n",
    "reconstruction = torch.distributions.Poisson(rate).sample().squeeze([0,1]).permute((2,0,1))\n",
    "_ = plt.imshow(reconstruction[0].cpu())\n",
    "_ = plt.colorbar()\n",
    "_ = plt.scatter(true_locs.squeeze()[:true_counts.squeeze(),1].cpu() - 0.5,\n",
    "                true_locs.squeeze()[:true_counts.squeeze(),0].cpu() - 0.5, marker = 'x', color = 'red')\n",
    "_ = plt.scatter(agg.locs.squeeze()[index,:agg.counts.squeeze()[index],1].cpu() - 0.5,\n",
    "                agg.locs.squeeze()[index,:agg.counts.squeeze()[index],0].cpu() - 0.5, marker = 'x', color = 'blue')"
   ]
  },
  {
   "cell_type": "code",
   "execution_count": null,
   "metadata": {},
   "outputs": [],
   "source": [
    "true_fluxes"
   ]
  },
  {
   "cell_type": "code",
   "execution_count": null,
   "metadata": {},
   "outputs": [],
   "source": [
    "agg.locs.squeeze()[index]"
   ]
  },
  {
   "cell_type": "code",
   "execution_count": null,
   "metadata": {},
   "outputs": [],
   "source": [
    "agg.features.squeeze()[index]"
   ]
  }
 ],
 "metadata": {
  "kernelspec": {
   "display_name": "Python 3",
   "language": "python",
   "name": "python3"
  },
  "language_info": {
   "codemirror_mode": {
    "name": "ipython",
    "version": 3
   },
   "file_extension": ".py",
   "mimetype": "text/x-python",
   "name": "python",
   "nbconvert_exporter": "python",
   "pygments_lexer": "ipython3",
   "version": "3.10.12"
  }
 },
 "nbformat": 4,
 "nbformat_minor": 2
}
