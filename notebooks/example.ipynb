{
 "cells": [
  {
   "cell_type": "code",
   "execution_count": 1,
   "metadata": {},
   "outputs": [],
   "source": [
    "import sys\n",
    "sys.path.append(\"../\")\n",
    "\n",
    "from smc.sampler import SMCsampler\n",
    "from smc.prior import CatalogPrior\n",
    "from smc.images import ImageAttributes\n",
    "\n",
    "import torch\n",
    "# torch.cuda.is_available()\n",
    "device = torch.device(\"cuda:1\" if torch.cuda.is_available() else \"cpu\")\n",
    "torch.cuda.set_device(device)\n",
    "torch.set_default_device(device)\n",
    "\n",
    "import matplotlib.pyplot as plt"
   ]
  },
  {
   "cell_type": "code",
   "execution_count": 2,
   "metadata": {},
   "outputs": [],
   "source": [
    "num_images = 1\n",
    "img_dim = 16 # Needs to be square for now\n",
    "img_width = img_dim\n",
    "img_height = img_dim\n",
    "max_objects = 10\n",
    "psf_stdev = 2.5\n",
    "background_intensity = 19200\n",
    "\n",
    "prior = CatalogPrior(max_objects = max_objects,\n",
    "                     img_height = img_height,\n",
    "                     img_width = img_width,\n",
    "                     min_flux = background_intensity/3.)\n",
    "\n",
    "image_attributes = ImageAttributes(img_height = img_height,\n",
    "                                   img_width = img_width,\n",
    "                                   max_objects = max_objects,\n",
    "                                   psf_stdev = psf_stdev,\n",
    "                                   background_intensity = background_intensity)\n",
    "\n",
    "true_counts, true_fluxes, true_locs, true_total_intensities, images = image_attributes.generate(prior, num_images)"
   ]
  },
  {
   "cell_type": "code",
   "execution_count": 3,
   "metadata": {},
   "outputs": [
    {
     "name": "stdout",
     "output_type": "stream",
     "text": [
      "image 1 \n",
      "count\n",
      " 8 \n",
      "total flux\n",
      " 498780.71875 \n",
      "loc\n",
      " [[ 2.6367798 15.8408   ]\n",
      " [ 6.296625  15.171221 ]\n",
      " [ 3.5580199 10.683717 ]\n",
      " [ 5.7247696  1.2470021]\n",
      " [ 3.5942476  6.239829 ]\n",
      " [12.473097   3.5370576]\n",
      " [12.014536   2.0466807]\n",
      " [ 8.660949   4.3084807]\n",
      " [ 0.         0.       ]\n",
      " [ 0.         0.       ]] \n",
      "\n",
      "\n"
     ]
    }
   ],
   "source": [
    "for i in range(num_images):\n",
    "    print(f\"image {i+1}\",\n",
    "          \"\\ncount\\n\", true_counts[i].round().item(),\n",
    "          \"\\ntotal flux\\n\", true_fluxes[i].sum().item(),\n",
    "          \"\\nloc\\n\", true_locs[i].cpu().numpy(), \"\\n\\n\")"
   ]
  },
  {
   "cell_type": "code",
   "execution_count": 4,
   "metadata": {},
   "outputs": [
    {
     "name": "stdout",
     "output_type": "stream",
     "text": [
      "True count: 8\n",
      "True total flux: 498780.71875\n",
      "\n",
      "Starting the sampler...\n",
      "iteration 5, temperature = 0.0008670776151120663, posterior mean count = 7.480551719665527\n",
      "iteration 10, temperature = 0.0035973754711449146, posterior mean count = 7.614020824432373\n",
      "iteration 15, temperature = 0.008877700194716454, posterior mean count = 7.738487243652344\n",
      "iteration 20, temperature = 0.017179517075419426, posterior mean count = 7.760730743408203\n",
      "iteration 25, temperature = 0.029198018833994865, posterior mean count = 7.759161472320557\n",
      "iteration 30, temperature = 0.04797958582639694, posterior mean count = 7.786734104156494\n",
      "iteration 35, temperature = 0.07889237999916077, posterior mean count = 7.848095893859863\n",
      "iteration 40, temperature = 0.13141147792339325, posterior mean count = 7.902289867401123\n",
      "iteration 45, temperature = 0.20748741924762726, posterior mean count = 7.9552154541015625\n",
      "iteration 50, temperature = 0.3141939342021942, posterior mean count = 7.9858503341674805\n",
      "iteration 55, temperature = 0.4535602331161499, posterior mean count = 7.996645927429199\n",
      "iteration 60, temperature = 0.627896249294281, posterior mean count = 8.00547981262207\n",
      "iteration 65, temperature = 0.8260198831558228, posterior mean count = 8.012999534606934\n",
      "iteration 70, temperature = 0.9889363050460815, posterior mean count = 8.016818046569824\n",
      "iteration 75, temperature = 0.9996542930603027, posterior mean count = 8.017038345336914\n",
      "Done!\n",
      "\n",
      "summary\n",
      "number of SMC iterations: 76\n",
      "log normalizing constant: -2400.001708984375\n",
      "posterior mean count: 8.01704216003418\n",
      "posterior mean total flux: 493918.5625\n",
      "argmax count: 8.0\n",
      "argmax total flux: 494915.0625\n",
      "\n",
      "\n",
      "\n"
     ]
    },
    {
     "data": {
      "image/png": "[encoded data removed]",
      "text/plain": [
       "<Figure size 432x288 with 2 Axes>"
      ]
     },
     "metadata": {
      "needs_background": "light"
     },
     "output_type": "display_data"
    }
   ],
   "source": [
    "max_objects_smc = max_objects + 2\n",
    "pad = 0\n",
    "prior = CatalogPrior(max_objects_smc, img_width, img_height, background_intensity/3., pad)\n",
    "smc = SMCsampler(images[0], image_attributes, prior,\n",
    "                 num_blocks = max_objects_smc + 1, catalogs_per_block = 500,\n",
    "                 max_smc_iters = 1000)\n",
    "\n",
    "print(f\"True count: {true_counts[0]}\")\n",
    "print(f\"True total flux: {true_fluxes[0].sum()}\\n\")\n",
    "\n",
    "smc.run(print_progress = True)\n",
    "smc.summarize()"
   ]
  }
 ],
 "metadata": {
  "kernelspec": {
   "display_name": "Python 3",
   "language": "python",
   "name": "python3"
  },
  "language_info": {
   "codemirror_mode": {
    "name": "ipython",
    "version": 3
   },
   "file_extension": ".py",
   "mimetype": "text/x-python",
   "name": "python",
   "nbconvert_exporter": "python",
   "pygments_lexer": "ipython3",
   "version": "3.10.12"
  }
 },
 "nbformat": 4,
 "nbformat_minor": 2
}
