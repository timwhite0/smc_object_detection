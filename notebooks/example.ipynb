{
 "cells": [
  {
   "cell_type": "code",
   "execution_count": 1,
   "metadata": {},
   "outputs": [
    {
     "name": "stderr",
     "output_type": "stream",
     "text": [
      "/usr/lib/python3/dist-packages/scipy/__init__.py:146: UserWarning: A NumPy version >=1.17.3 and <1.25.0 is required for this version of SciPy (detected version 1.26.3\n",
      "  warnings.warn(f\"A NumPy version >={np_minversion} and <{np_maxversion}\"\n"
     ]
    }
   ],
   "source": [
    "import sys\n",
    "sys.path.append(\"../\")\n",
    "\n",
    "from smc.sampler import SMCsampler\n",
    "from smc.prior import CatalogPrior\n",
    "from smc.images import ImageAttributes\n",
    "\n",
    "import torch\n",
    "# torch.cuda.is_available()\n",
    "device = torch.device(\"cuda:1\" if torch.cuda.is_available() else \"cpu\")\n",
    "torch.cuda.set_device(device)\n",
    "torch.set_default_device(device)\n",
    "\n",
    "import matplotlib.pyplot as plt"
   ]
  },
  {
   "cell_type": "code",
   "execution_count": 2,
   "metadata": {},
   "outputs": [],
   "source": [
    "num_images = 1\n",
    "img_dim = 16 # Needs to be square for now\n",
    "img_width = img_dim\n",
    "img_height = img_dim\n",
    "max_objects = 8\n",
    "psf_stdev = 3.25\n",
    "background_intensity = 19200\n",
    "\n",
    "prior = CatalogPrior(max_objects = max_objects,\n",
    "                     img_height = img_height,\n",
    "                     img_width = img_width,\n",
    "                     min_flux = background_intensity/3.)\n",
    "\n",
    "image_attributes = ImageAttributes(img_height = img_height,\n",
    "                                   img_width = img_width,\n",
    "                                   max_objects = max_objects,\n",
    "                                   psf_stdev = psf_stdev,\n",
    "                                   background_intensity = background_intensity)\n",
    "\n",
    "true_counts, true_fluxes, true_locs, true_total_intensities, images = image_attributes.generate(prior, num_images)"
   ]
  },
  {
   "cell_type": "code",
   "execution_count": 3,
   "metadata": {},
   "outputs": [
    {
     "name": "stdout",
     "output_type": "stream",
     "text": [
      "image 1 \n",
      "count\n",
      " 4 \n",
      "total flux\n",
      " 274280.09375 \n",
      "loc\n",
      " [[ 3.8474562  8.905297 ]\n",
      " [12.627814   6.961519 ]\n",
      " [13.117119  10.861321 ]\n",
      " [ 4.8680634 13.167611 ]\n",
      " [ 0.         0.       ]\n",
      " [ 0.         0.       ]\n",
      " [ 0.         0.       ]\n",
      " [ 0.         0.       ]] \n",
      "\n",
      "\n"
     ]
    }
   ],
   "source": [
    "for i in range(num_images):\n",
    "    print(f\"image {i+1}\",\n",
    "          \"\\ncount\\n\", true_counts[i].round().item(),\n",
    "          \"\\ntotal flux\\n\", true_fluxes[i].sum().item(),\n",
    "          \"\\nloc\\n\", true_locs[i].cpu().numpy(), \"\\n\\n\")"
   ]
  },
  {
   "cell_type": "code",
   "execution_count": 4,
   "metadata": {},
   "outputs": [
    {
     "name": "stdout",
     "output_type": "stream",
     "text": [
      "True count: 4\n",
      "True total flux: 274280.09375\n",
      "Starting the sampler...\n",
      "iteration 5, temperature = 0.0018517071148380637, posterior mean count = 3.9783730506896973\n",
      "iteration 10, temperature = 0.005764983594417572, posterior mean count = 4.096364974975586\n",
      "iteration 15, temperature = 0.015832537785172462, posterior mean count = 4.142011642456055\n",
      "iteration 20, temperature = 0.04672975093126297, posterior mean count = 4.138359069824219\n",
      "iteration 25, temperature = 0.1330578476190567, posterior mean count = 4.100290298461914\n",
      "iteration 30, temperature = 0.3188372254371643, posterior mean count = 4.061532020568848\n",
      "iteration 35, temperature = 0.6472277045249939, posterior mean count = 4.037238121032715\n",
      "Done!\n",
      "\n",
      "summary\n",
      "number of SMC iterations: 38\n",
      "log normalizing constant: -2155.695068359375\n",
      "posterior mean count: 4.016909599304199\n",
      "posterior mean total flux: 270986.84375\n",
      "argmax count: 4.0\n",
      "argmax total flux: 272873.8125\n",
      "\n",
      "\n",
      "\n"
     ]
    },
    {
     "data": {
      "image/png": "[encoded data removed]",
      "text/plain": [
       "<Figure size 432x288 with 2 Axes>"
      ]
     },
     "metadata": {
      "needs_background": "light"
     },
     "output_type": "display_data"
    }
   ],
   "source": [
    "max_objects_smc = max_objects + 2\n",
    "pad = 0\n",
    "prior = CatalogPrior(max_objects_smc, img_width, img_height, background_intensity/3., pad)\n",
    "smc = SMCsampler(images[0], image_attributes, prior,\n",
    "                 max_objects = max_objects_smc, catalogs_per_block = 20000,\n",
    "                 kernel_num_iters = 200,\n",
    "                 max_smc_iters = 500,\n",
    "                 wastefree = True, wastefree_M = 80)\n",
    "\n",
    "print(f\"True count: {true_counts[0]}\")\n",
    "print(f\"True total flux: {true_fluxes[0].sum()}\")\n",
    "\n",
    "smc.run(print_progress = True)\n",
    "smc.summarize()"
   ]
  }
 ],
 "metadata": {
  "kernelspec": {
   "display_name": "Python 3",
   "language": "python",
   "name": "python3"
  },
  "language_info": {
   "codemirror_mode": {
    "name": "ipython",
    "version": 3
   },
   "file_extension": ".py",
   "mimetype": "text/x-python",
   "name": "python",
   "nbconvert_exporter": "python",
   "pygments_lexer": "ipython3",
   "version": "3.10.12"
  }
 },
 "nbformat": 4,
 "nbformat_minor": 2
}
