{
 "cells": [
  {
   "cell_type": "code",
   "execution_count": 1,
   "metadata": {},
   "outputs": [],
   "source": [
    "import sys\n",
    "sys.path.append(\"../\")\n",
    "\n",
    "from smc.sampler import SMCsampler\n",
    "from smc.prior import StarPrior\n",
    "from smc.images import ImageModel\n",
    "from smc.kernel import MetropolisHastings\n",
    "from smc.aggregate import Aggregate\n",
    "\n",
    "import torch\n",
    "# torch.cuda.is_available()\n",
    "device = torch.device(\"cuda:1\" if torch.cuda.is_available() else \"cpu\")\n",
    "torch.cuda.set_device(device)\n",
    "torch.set_default_device(device)\n",
    "\n",
    "import matplotlib.pyplot as plt"
   ]
  },
  {
   "cell_type": "markdown",
   "metadata": {},
   "source": [
    "### Generate images"
   ]
  },
  {
   "cell_type": "markdown",
   "metadata": {},
   "source": [
    "We specify a prior and an image model and generate one image."
   ]
  },
  {
   "cell_type": "code",
   "execution_count": 2,
   "metadata": {},
   "outputs": [],
   "source": [
    "image_dim = 16\n",
    "true_psf_stdev = 1.5\n",
    "true_background = 100000\n",
    "true_flux_mean = 80000\n",
    "true_flux_stdev = 15000\n",
    "\n",
    "TruePrior = StarPrior(max_objects = 8,\n",
    "                      image_height = image_dim,\n",
    "                      image_width = image_dim,\n",
    "                      flux_mean = true_flux_mean,\n",
    "                      flux_stdev = true_flux_stdev,\n",
    "                      pad = 2)\n",
    "\n",
    "TrueImageModel = ImageModel(image_height = image_dim,\n",
    "                            image_width = image_dim,\n",
    "                            psf_stdev = true_psf_stdev,\n",
    "                            background = true_background)\n",
    "\n",
    "true_counts, true_locs, true_fluxes, images = TrueImageModel.generate(Prior = TruePrior,\n",
    "                                                                      num_images = 1)"
   ]
  },
  {
   "cell_type": "code",
   "execution_count": 3,
   "metadata": {},
   "outputs": [
    {
     "name": "stdout",
     "output_type": "stream",
     "text": [
      "image 1 \n",
      "count\n",
      " 5 \n",
      "fluxes\n",
      " [ 57172.79   75137.11  102478.94   59173.875  90774.12       0.\n",
      "      0.         0.   ] \n",
      "locs\n",
      " [[10.7207775  9.067385 ]\n",
      " [ 9.001229  15.282129 ]\n",
      " [ 8.568038   3.849872 ]\n",
      " [ 6.248123  10.8624325]\n",
      " [ 1.1299994 11.531481 ]\n",
      " [ 0.         0.       ]\n",
      " [ 0.         0.       ]\n",
      " [ 0.         0.       ]] \n",
      "\n",
      "\n"
     ]
    },
    {
     "data": {
      "image/png": "[encoded data removed]",
      "text/plain": [
       "<Figure size 640x480 with 2 Axes>"
      ]
     },
     "metadata": {},
     "output_type": "display_data"
    }
   ],
   "source": [
    "for i in range(1):\n",
    "    print(f\"image {i+1}\",\n",
    "          \"\\ncount\\n\", true_counts[i].round().item(),\n",
    "          \"\\nfluxes\\n\", true_fluxes[i].cpu().numpy(),\n",
    "          \"\\nlocs\\n\", true_locs[i].cpu().numpy(), \"\\n\\n\")\n",
    "    fig, img = plt.subplots(1,1)\n",
    "    tmp = img.imshow(images[i].cpu())\n",
    "    _ = fig.colorbar(tmp)\n",
    "    _ = img.scatter(true_locs.squeeze()[:true_counts.squeeze(),1].cpu() - 0.5,\n",
    "                    true_locs.squeeze()[:true_counts.squeeze(),0].cpu() - 0.5, marker = 'x', color = 'red')\n",
    "    _ = img.vlines(x = image_dim//4 - 0.5, ymin = 0 - 0.5, ymax = image_dim - 0.5, color = 'white')\n",
    "    _ = img.vlines(x = 2*image_dim//4 - 0.5, ymin = 0 - 0.5, ymax = image_dim - 0.5, color = 'white')\n",
    "    _ = img.vlines(x = 3*image_dim//4 - 0.5, ymin = 0 - 0.5, ymax = image_dim - 0.5, color = 'white')\n",
    "    _ = img.hlines(y = image_dim//4 - 0.5, xmin = 0 - 0.5, xmax = image_dim - 0.5, color = 'white')\n",
    "    _ = img.hlines(y = 2*image_dim//4 - 0.5, xmin = 0 - 0.5, xmax = image_dim - 0.5, color = 'white')\n",
    "    _ = img.hlines(y = 3*image_dim//4 - 0.5, xmin = 0 - 0.5, xmax = image_dim - 0.5, color = 'white')"
   ]
  },
  {
   "cell_type": "markdown",
   "metadata": {},
   "source": [
    "### Perform inference with SMC"
   ]
  },
  {
   "cell_type": "markdown",
   "metadata": {},
   "source": [
    "We set the side length of the tiles on which we will run the sampler, and we specify a prior and image model at the tile level. We also specify a mutation kernel to be used within the SMC sampler.\n",
    "\n",
    "We'll assume that the image background, PSF standard deviation, and flux prior parameters are all known."
   ]
  },
  {
   "cell_type": "code",
   "execution_count": 4,
   "metadata": {},
   "outputs": [],
   "source": [
    "tile_dim = 16\n",
    "\n",
    "TilePrior = StarPrior(max_objects = 10,\n",
    "                      image_height = tile_dim,\n",
    "                      image_width = tile_dim,\n",
    "                      flux_mean = true_flux_mean,\n",
    "                      flux_stdev = true_flux_stdev,\n",
    "                      pad = 2)\n",
    "\n",
    "TileImageModel = ImageModel(image_height = tile_dim,\n",
    "                            image_width = tile_dim,\n",
    "                            psf_stdev = true_psf_stdev,\n",
    "                            background = true_background)\n",
    "\n",
    "MHKernel = MetropolisHastings(num_iters = 100,\n",
    "                              locs_stdev = 0.1,\n",
    "                              features_stdev = 1000,\n",
    "                              features_min = 50000,\n",
    "                              features_max = 110000)"
   ]
  },
  {
   "cell_type": "markdown",
   "metadata": {},
   "source": [
    "Now we initialize an `SMCsampler` object and run it on the tiles."
   ]
  },
  {
   "cell_type": "code",
   "execution_count": 5,
   "metadata": {},
   "outputs": [
    {
     "name": "stdout",
     "output_type": "stream",
     "text": [
      "True count: 5\n",
      "True total flux: 384736.84375\n",
      "\n",
      "Starting the tile samplers...\n",
      "iteration 5, temperature = 0.007314562797546387\n",
      "iteration 10, temperature = 0.029321029782295227\n",
      "iteration 15, temperature = 0.10023991018533707\n",
      "iteration 20, temperature = 0.3402268886566162\n",
      "iteration 25, temperature = 0.8765448927879333\n",
      "Done!\n",
      "\n"
     ]
    }
   ],
   "source": [
    "smc = SMCsampler(image = images[0],\n",
    "                 tile_dim = tile_dim,\n",
    "                 Prior = TilePrior,\n",
    "                 ImageModel = TileImageModel,\n",
    "                 MutationKernel = MHKernel,\n",
    "                 num_catalogs_per_count = 1000,\n",
    "                 max_smc_iters = 100)\n",
    "\n",
    "print(f\"True count: {true_counts[0]}\")\n",
    "print(f\"True total flux: {true_fluxes[0].sum()}\\n\")\n",
    "\n",
    "smc.run(print_progress = True)"
   ]
  },
  {
   "cell_type": "markdown",
   "metadata": {},
   "source": [
    "Now we instantiate an `Aggregate` object with the tile-level results from above:"
   ]
  },
  {
   "cell_type": "code",
   "execution_count": 6,
   "metadata": {},
   "outputs": [],
   "source": [
    "agg = Aggregate(smc.Prior,\n",
    "                smc.ImageModel,\n",
    "                smc.tiled_image,\n",
    "                smc.counts,\n",
    "                smc.locs,\n",
    "                smc.features,\n",
    "                smc.weights_intercount)"
   ]
  },
  {
   "cell_type": "markdown",
   "metadata": {},
   "source": [
    "We run the aggregation procedure to obtain image-level catalogs:"
   ]
  },
  {
   "cell_type": "code",
   "execution_count": 7,
   "metadata": {},
   "outputs": [],
   "source": [
    "agg.run()"
   ]
  },
  {
   "cell_type": "markdown",
   "metadata": {},
   "source": [
    "We compute the posterior mean number of light sources:"
   ]
  },
  {
   "cell_type": "code",
   "execution_count": 8,
   "metadata": {},
   "outputs": [
    {
     "data": {
      "text/plain": [
       "tensor([[5.]], device='cuda:1')"
      ]
     },
     "execution_count": 8,
     "metadata": {},
     "output_type": "execute_result"
    }
   ],
   "source": [
    "agg.posterior_mean_counts"
   ]
  },
  {
   "cell_type": "markdown",
   "metadata": {},
   "source": [
    "And we compute the posterior mean total flux:"
   ]
  },
  {
   "cell_type": "code",
   "execution_count": 9,
   "metadata": {},
   "outputs": [
    {
     "data": {
      "text/plain": [
       "tensor([[374147.4375]], device='cuda:1')"
      ]
     },
     "execution_count": 9,
     "metadata": {},
     "output_type": "execute_result"
    }
   ],
   "source": [
    "agg.posterior_mean_total_flux"
   ]
  },
  {
   "cell_type": "markdown",
   "metadata": {},
   "source": [
    "Finally, we reconstruct the image using one of the catalogs we just sampled:"
   ]
  },
  {
   "cell_type": "code",
   "execution_count": 10,
   "metadata": {},
   "outputs": [
    {
     "name": "stdout",
     "output_type": "stream",
     "text": [
      "tensor([[[ 1.0887, 11.4668],\n",
      "         [ 9.0477, 15.3657],\n",
      "         [10.6914,  9.2576],\n",
      "         [ 6.3195, 10.9220],\n",
      "         [ 8.5282,  3.7533],\n",
      "         [ 0.0000,  0.0000],\n",
      "         [ 0.0000,  0.0000],\n",
      "         [ 0.0000,  0.0000],\n",
      "         [ 0.0000,  0.0000],\n",
      "         [ 0.0000,  0.0000]]], device='cuda:1')\n",
      "tensor([[90259.2109, 73753.6953, 57246.8164, 57171.3516, 99940.9922,     0.0000,\n",
      "             0.0000,     0.0000,     0.0000,     0.0000]], device='cuda:1')\n"
     ]
    },
    {
     "data": {
      "image/png": "[encoded data removed]",
      "text/plain": [
       "<Figure size 640x480 with 2 Axes>"
      ]
     },
     "metadata": {},
     "output_type": "display_data"
    }
   ],
   "source": [
    "index = torch.randint(low = 0, high = agg.counts.shape[-1] - 1, size = [1])\n",
    "print(agg.locs.squeeze()[index])\n",
    "print(agg.features.squeeze()[index])\n",
    "psf = agg.ImageModel.psf(agg.locs[:,:,index])\n",
    "rate = (psf * agg.features[:,:,index].unsqueeze(-3).unsqueeze(-4)).sum(-1) + agg.ImageModel.background\n",
    "reconstruction = torch.distributions.Poisson(rate).sample().squeeze([0,1]).permute((2,0,1))\n",
    "_ = plt.imshow(reconstruction[0].cpu())\n",
    "_ = plt.colorbar()\n",
    "_ = plt.scatter(true_locs.squeeze()[:true_counts.squeeze(),1].cpu() - 0.5,\n",
    "                true_locs.squeeze()[:true_counts.squeeze(),0].cpu() - 0.5, marker = 'x', color = 'red')\n",
    "_ = plt.scatter(agg.locs.squeeze()[index,:agg.counts.squeeze()[index],1].cpu() - 0.5,\n",
    "                agg.locs.squeeze()[index,:agg.counts.squeeze()[index],0].cpu() - 0.5, marker = 'x', color = 'blue')"
   ]
  }
 ],
 "metadata": {
  "kernelspec": {
   "display_name": "Python 3",
   "language": "python",
   "name": "python3"
  },
  "language_info": {
   "codemirror_mode": {
    "name": "ipython",
    "version": 3
   },
   "file_extension": ".py",
   "mimetype": "text/x-python",
   "name": "python",
   "nbconvert_exporter": "python",
   "pygments_lexer": "ipython3",
   "version": "3.10.12"
  }
 },
 "nbformat": 4,
 "nbformat_minor": 2
}
