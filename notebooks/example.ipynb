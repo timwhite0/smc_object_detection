{
 "cells": [
  {
   "cell_type": "code",
   "execution_count": 1,
   "metadata": {},
   "outputs": [
    {
     "name": "stderr",
     "output_type": "stream",
     "text": [
      "/home/twhit/.local/lib/python3.10/site-packages/matplotlib/projections/__init__.py:63: UserWarning: Unable to import Axes3D. This may be due to multiple versions of Matplotlib being installed (e.g. as a system package and as a pip package). As a result, the 3D projection is not available.\n",
      "  warnings.warn(\"Unable to import Axes3D. This may be due to multiple versions of \"\n"
     ]
    }
   ],
   "source": [
    "import sys\n",
    "sys.path.append(\"../\")\n",
    "\n",
    "from smc.sampler import SMCsampler\n",
    "from smc.prior import CellPrior\n",
    "from smc.images import ImageAttributes\n",
    "\n",
    "import torch\n",
    "# torch.cuda.is_available()\n",
    "device = torch.device(\"cuda:7\" if torch.cuda.is_available() else \"cpu\")\n",
    "torch.cuda.set_device(device)\n",
    "torch.set_default_device(device)\n",
    "\n",
    "import matplotlib.pyplot as plt"
   ]
  },
  {
   "cell_type": "code",
   "execution_count": 2,
   "metadata": {},
   "outputs": [
    {
     "name": "stdout",
     "output_type": "stream",
     "text": [
      "image 1 \n",
      "count\n",
      " 4 \n",
      "total fluor\n",
      " 560.4500122070312\n"
     ]
    },
    {
     "data": {
      "image/png": "[encoded data removed]",
      "text/plain": [
       "<Figure size 432x288 with 2 Axes>"
      ]
     },
     "metadata": {
      "needs_background": "light"
     },
     "output_type": "display_data"
    }
   ],
   "source": [
    "num_images = 1\n",
    "img_dim = 32 # Needs to be square\n",
    "img_height = img_dim\n",
    "img_width = img_dim\n",
    "max_objects = 4\n",
    "psf_size = 5\n",
    "psf_stdev = 1\n",
    "background = 10\n",
    "\n",
    "prior = CellPrior(max_objects, img_height, img_width, min_fluor = background)\n",
    "\n",
    "image_attributes = ImageAttributes(img_height, img_width, max_objects, psf_size, psf_stdev, background)\n",
    "\n",
    "true_counts, true_fluors, true_locs, true_axes, true_angles, true_total_intensities, images = image_attributes.generate(prior, num_images)\n",
    "\n",
    "for i in range(num_images):\n",
    "    print(f\"image {i+1}\",\n",
    "          \"\\ncount\\n\", true_counts[i].round().item(),\n",
    "          \"\\ntotal fluor\\n\", true_fluors[i].sum().item())\n",
    "    fig, img = plt.subplots(1,1)\n",
    "    _ = img.imshow(images[i].cpu())\n",
    "    plt.colorbar(_, ax=img)"
   ]
  },
  {
   "cell_type": "code",
   "execution_count": 3,
   "metadata": {},
   "outputs": [
    {
     "name": "stdout",
     "output_type": "stream",
     "text": [
      "True count: 4\n",
      "True total fluorescence: 560.4500122070312\n",
      "\n",
      "Starting the tile samplers...\n",
      "iteration 2, temperature = 0.00017694880079943687\n",
      "iteration 4, temperature = 0.0007130894809961319\n",
      "iteration 6, temperature = 0.0016756191616877913\n",
      "iteration 8, temperature = 0.003203644184395671\n",
      "iteration 10, temperature = 0.006064307410269976\n",
      "iteration 12, temperature = 0.01160714216530323\n",
      "iteration 14, temperature = 0.021961988881230354\n",
      "iteration 16, temperature = 0.03900933638215065\n",
      "iteration 18, temperature = 0.06468122452497482\n",
      "iteration 20, temperature = 0.09938772022724152\n",
      "iteration 22, temperature = 0.19651809334754944\n",
      "iteration 24, temperature = 0.35398632287979126\n",
      "Done!\n",
      "\n",
      "summary\n",
      "number of SMC iterations: 24\n",
      "posterior mean count: 4.000000953674316\n",
      "posterior mean total fluor: 557.6962890625\n",
      "\n",
      "\n",
      "\n"
     ]
    }
   ],
   "source": [
    "tile_side_length = img_dim\n",
    "max_objects_smc = 4\n",
    "\n",
    "prior = CellPrior(max_objects_smc,\n",
    "                  tile_side_length, tile_side_length,\n",
    "                  min_fluor = background,\n",
    "                  pad = 0)\n",
    "\n",
    "smc = SMCsampler(images[0], image_attributes, tile_side_length, prior,\n",
    "                 max_objects = max_objects_smc, catalogs_per_block = 2000,\n",
    "                 kernel_num_iters = 100, product_form_multiplier = 500,\n",
    "                 max_smc_iters = 500)\n",
    "\n",
    "print(f\"True count: {true_counts[0]}\")\n",
    "print(f\"True total fluorescence: {true_fluors[0].sum()}\\n\")\n",
    "\n",
    "smc.run(print_progress = True)\n",
    "smc.summarize()"
   ]
  }
 ],
 "metadata": {
  "kernelspec": {
   "display_name": "Python 3",
   "language": "python",
   "name": "python3"
  },
  "language_info": {
   "codemirror_mode": {
    "name": "ipython",
    "version": 3
   },
   "file_extension": ".py",
   "mimetype": "text/x-python",
   "name": "python",
   "nbconvert_exporter": "python",
   "pygments_lexer": "ipython3",
   "version": "3.10.12"
  }
 },
 "nbformat": 4,
 "nbformat_minor": 2
}
