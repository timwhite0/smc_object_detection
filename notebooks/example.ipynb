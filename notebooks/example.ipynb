{
 "cells": [
  {
   "cell_type": "code",
   "execution_count": 1,
   "metadata": {},
   "outputs": [],
   "source": [
    "import sys\n",
    "sys.path.append(\"../\")\n",
    "\n",
    "from smc.sampler import SMCsampler\n",
    "from smc.prior import StarPrior\n",
    "from smc.images import ImageModel\n",
    "from smc.kernel import MetropolisHastings\n",
    "from smc.aggregate import Aggregate\n",
    "\n",
    "import torch\n",
    "# torch.cuda.is_available()\n",
    "device = torch.device(\"cuda:4\" if torch.cuda.is_available() else \"cpu\")\n",
    "torch.cuda.set_device(device)\n",
    "torch.set_default_device(device)\n",
    "\n",
    "import matplotlib.pyplot as plt"
   ]
  },
  {
   "cell_type": "markdown",
   "metadata": {},
   "source": [
    "### Generate images"
   ]
  },
  {
   "cell_type": "markdown",
   "metadata": {},
   "source": [
    "We specify a prior and an image model and generate one image."
   ]
  },
  {
   "cell_type": "code",
   "execution_count": 2,
   "metadata": {},
   "outputs": [
    {
     "name": "stdout",
     "output_type": "stream",
     "text": [
      "count\n",
      " 9 \n",
      "fluxes\n",
      " [59768.68  89462.39  74107.625 77755.73  89854.68  87506.62  94675.84\n",
      " 73580.68  99072.8       0.        0.        0.        0.        0.\n",
      "     0.        0.        0.        0.        0.        0.   ] \n",
      "locs\n",
      " [[29.122168   21.130514  ]\n",
      " [16.104336    3.4755292 ]\n",
      " [30.13964    29.201342  ]\n",
      " [28.706226   10.674752  ]\n",
      " [16.655642   30.63976   ]\n",
      " [ 4.199903   12.641563  ]\n",
      " [ 0.54924345 18.135876  ]\n",
      " [25.898815    6.8528833 ]\n",
      " [15.021894   13.134869  ]\n",
      " [ 0.          0.        ]\n",
      " [ 0.          0.        ]\n",
      " [ 0.          0.        ]\n",
      " [ 0.          0.        ]\n",
      " [ 0.          0.        ]\n",
      " [ 0.          0.        ]\n",
      " [ 0.          0.        ]\n",
      " [ 0.          0.        ]\n",
      " [ 0.          0.        ]\n",
      " [ 0.          0.        ]\n",
      " [ 0.          0.        ]] \n",
      "\n",
      "\n"
     ]
    },
    {
     "data": {
      "image/png": "[encoded data removed]",
      "text/plain": [
       "<Figure size 640x480 with 2 Axes>"
      ]
     },
     "metadata": {},
     "output_type": "display_data"
    }
   ],
   "source": [
    "image_dim = 32\n",
    "true_psf_stdev = 1.5\n",
    "true_background = 400000\n",
    "true_flux_mean = 80000\n",
    "true_flux_stdev = 15000\n",
    "\n",
    "TruePrior = StarPrior(max_objects = 20,\n",
    "                      image_height = image_dim,\n",
    "                      image_width = image_dim,\n",
    "                      flux_mean = true_flux_mean,\n",
    "                      flux_stdev = true_flux_stdev,\n",
    "                      pad = 2)\n",
    "\n",
    "TrueImageModel = ImageModel(image_height = image_dim,\n",
    "                            image_width = image_dim,\n",
    "                            psf_stdev = true_psf_stdev,\n",
    "                            background = true_background)\n",
    "\n",
    "true_counts, true_locs, true_fluxes, images = TrueImageModel.generate(Prior = TruePrior,\n",
    "                                                                      num_images = 1)\n",
    "\n",
    "print(f\"count\\n\", true_counts[0].round().item(),\n",
    "      \"\\nfluxes\\n\", true_fluxes[0].cpu().numpy(),\n",
    "      \"\\nlocs\\n\", true_locs[0].cpu().numpy(), \"\\n\\n\")\n",
    "fig, img = plt.subplots(1,1)\n",
    "tmp = img.imshow(images[0].cpu(), cmap = 'gray')\n",
    "_ = fig.colorbar(tmp)\n",
    "_ = img.scatter(true_locs.squeeze()[:true_counts.squeeze(),1].cpu() - 0.5,\n",
    "                true_locs.squeeze()[:true_counts.squeeze(),0].cpu() - 0.5, marker = 'x', color = 'red')\n",
    "_ = img.vlines(x = image_dim//4 - 0.5, ymin = 0 - 0.5, ymax = image_dim - 0.5, color = 'white')\n",
    "_ = img.vlines(x = 2*image_dim//4 - 0.5, ymin = 0 - 0.5, ymax = image_dim - 0.5, color = 'white')\n",
    "_ = img.vlines(x = 3*image_dim//4 - 0.5, ymin = 0 - 0.5, ymax = image_dim - 0.5, color = 'white')\n",
    "_ = img.hlines(y = image_dim//4 - 0.5, xmin = 0 - 0.5, xmax = image_dim - 0.5, color = 'white')\n",
    "_ = img.hlines(y = 2*image_dim//4 - 0.5, xmin = 0 - 0.5, xmax = image_dim - 0.5, color = 'white')\n",
    "_ = img.hlines(y = 3*image_dim//4 - 0.5, xmin = 0 - 0.5, xmax = image_dim - 0.5, color = 'white')"
   ]
  },
  {
   "cell_type": "markdown",
   "metadata": {},
   "source": [
    "### Perform inference with SMC"
   ]
  },
  {
   "cell_type": "markdown",
   "metadata": {},
   "source": [
    "We set the side length of the tiles on which we will run the sampler, and we specify a prior and image model at the tile level. We also specify a mutation kernel to be used within the SMC sampler.\n",
    "\n",
    "We'll assume that the image background, PSF standard deviation, and flux prior parameters are all known."
   ]
  },
  {
   "cell_type": "code",
   "execution_count": 3,
   "metadata": {},
   "outputs": [],
   "source": [
    "tile_dim = 8\n",
    "\n",
    "TilePrior = StarPrior(max_objects = 4,\n",
    "                      image_height = tile_dim,\n",
    "                      image_width = tile_dim,\n",
    "                      flux_mean = true_flux_mean,\n",
    "                      flux_stdev = true_flux_stdev,\n",
    "                      pad = 2)\n",
    "\n",
    "TileImageModel = ImageModel(image_height = tile_dim,\n",
    "                            image_width = tile_dim,\n",
    "                            psf_stdev = true_psf_stdev,\n",
    "                            background = true_background)\n",
    "\n",
    "MHKernel = MetropolisHastings(num_iters = 75,\n",
    "                              locs_stdev = 0.1,\n",
    "                              features_stdev = 1000,\n",
    "                              features_min = 50000,\n",
    "                              features_max = 110000)"
   ]
  },
  {
   "cell_type": "markdown",
   "metadata": {},
   "source": [
    "Now we initialize an `SMCsampler` object and run it on the tiles."
   ]
  },
  {
   "cell_type": "code",
   "execution_count": 4,
   "metadata": {},
   "outputs": [
    {
     "name": "stdout",
     "output_type": "stream",
     "text": [
      "True count: 9\n",
      "True total flux: 745785.0625\n",
      "\n",
      "Starting the tile samplers...\n",
      "iteration 5, temperature = 0.014220019802451134\n",
      "iteration 10, temperature = 0.0624588243663311\n",
      "iteration 15, temperature = 0.23448415100574493\n",
      "iteration 20, temperature = 0.7266168594360352\n",
      "Done!\n",
      "\n"
     ]
    }
   ],
   "source": [
    "smc = SMCsampler(image = images[0],\n",
    "                 tile_dim = tile_dim,\n",
    "                 Prior = TilePrior,\n",
    "                 ImageModel = TileImageModel,\n",
    "                 MutationKernel = MHKernel,\n",
    "                 num_catalogs_per_count = 1000,\n",
    "                 max_smc_iters = 100)\n",
    "\n",
    "print(f\"True count: {true_counts[0]}\")\n",
    "print(f\"True total flux: {true_fluxes[0].sum()}\\n\")\n",
    "\n",
    "smc.run(print_progress = True)"
   ]
  },
  {
   "cell_type": "markdown",
   "metadata": {},
   "source": [
    "Now we instantiate an `Aggregate` object with the tile-level results from above:"
   ]
  },
  {
   "cell_type": "code",
   "execution_count": 5,
   "metadata": {},
   "outputs": [],
   "source": [
    "agg = Aggregate(smc.Prior,\n",
    "                smc.ImageModel,\n",
    "                smc.MutationKernel,\n",
    "                smc.tiled_image,\n",
    "                smc.counts,\n",
    "                smc.locs,\n",
    "                smc.features,\n",
    "                smc.weights_intercount)"
   ]
  },
  {
   "cell_type": "markdown",
   "metadata": {},
   "source": [
    "We run the aggregation procedure to obtain image-level catalogs:"
   ]
  },
  {
   "cell_type": "code",
   "execution_count": 6,
   "metadata": {},
   "outputs": [],
   "source": [
    "agg.run()"
   ]
  },
  {
   "cell_type": "markdown",
   "metadata": {},
   "source": [
    "We compute the posterior mean number of light sources:"
   ]
  },
  {
   "cell_type": "code",
   "execution_count": 7,
   "metadata": {},
   "outputs": [
    {
     "data": {
      "text/plain": [
       "tensor([[9.0262]], device='cuda:4')"
      ]
     },
     "execution_count": 7,
     "metadata": {},
     "output_type": "execute_result"
    }
   ],
   "source": [
    "agg.posterior_mean_counts"
   ]
  },
  {
   "cell_type": "markdown",
   "metadata": {},
   "source": [
    "And we compute the posterior mean total flux:"
   ]
  },
  {
   "cell_type": "code",
   "execution_count": 8,
   "metadata": {},
   "outputs": [
    {
     "data": {
      "text/plain": [
       "tensor([[712983.2500]], device='cuda:4')"
      ]
     },
     "execution_count": 8,
     "metadata": {},
     "output_type": "execute_result"
    }
   ],
   "source": [
    "agg.posterior_mean_total_flux"
   ]
  },
  {
   "cell_type": "markdown",
   "metadata": {},
   "source": [
    "Finally, we reconstruct the image using one of the catalogs we just sampled:"
   ]
  },
  {
   "cell_type": "code",
   "execution_count": 10,
   "metadata": {},
   "outputs": [
    {
     "name": "stdout",
     "output_type": "stream",
     "text": [
      "tensor([[[15.0515, 13.1792],\n",
      "         [16.1714,  3.5199],\n",
      "         [ 4.3117, 12.4659],\n",
      "         [28.5765, 10.5114],\n",
      "         [25.7956,  6.7102],\n",
      "         [16.9098, 30.4714],\n",
      "         [30.1523, 29.3299],\n",
      "         [ 0.6305, 17.8332],\n",
      "         [29.2820, 21.0943],\n",
      "         [ 0.0000,  0.0000],\n",
      "         [-0.0000,  0.0000],\n",
      "         [-0.0000, -0.0000],\n",
      "         [ 0.0000,  0.0000],\n",
      "         [ 0.0000,  0.0000]]], device='cuda:4')\n",
      "tensor([[93017.7500, 87346.6953, 93404.4375, 89809.5156, 66746.8047, 73261.7422,\n",
      "         74106.5469, 81014.7891, 50935.8047,     0.0000,     0.0000,     0.0000,\n",
      "             0.0000,     0.0000]], device='cuda:4')\n"
     ]
    },
    {
     "data": {
      "image/png": "[encoded data removed]",
      "text/plain": [
       "<Figure size 640x480 with 2 Axes>"
      ]
     },
     "metadata": {},
     "output_type": "display_data"
    }
   ],
   "source": [
    "index = torch.randint(low = 0, high = agg.counts.shape[-1] - 1, size = [1])\n",
    "print(agg.locs.squeeze()[index])\n",
    "print(agg.features.squeeze()[index])\n",
    "psf = agg.ImageModel.psf(agg.locs[:,:,index])\n",
    "rate = (psf * agg.features[:,:,index].unsqueeze(-3).unsqueeze(-4)).sum(-1) + agg.ImageModel.background\n",
    "reconstruction = torch.distributions.Poisson(rate).sample().squeeze([0,1]).permute((2,0,1))\n",
    "_ = plt.imshow(reconstruction[0].cpu(), cmap = 'gray')\n",
    "_ = plt.colorbar()\n",
    "_ = plt.scatter(true_locs.squeeze()[:true_counts.squeeze(),1].cpu() - 0.5,\n",
    "                true_locs.squeeze()[:true_counts.squeeze(),0].cpu() - 0.5, marker = 'x', color = 'red')\n",
    "_ = plt.scatter(agg.locs.squeeze()[index,:agg.counts.squeeze()[index],1].cpu() - 0.5,\n",
    "                agg.locs.squeeze()[index,:agg.counts.squeeze()[index],0].cpu() - 0.5, marker = 'x', color = 'blue')"
   ]
  }
 ],
 "metadata": {
  "kernelspec": {
   "display_name": "Python 3",
   "language": "python",
   "name": "python3"
  },
  "language_info": {
   "codemirror_mode": {
    "name": "ipython",
    "version": 3
   },
   "file_extension": ".py",
   "mimetype": "text/x-python",
   "name": "python",
   "nbconvert_exporter": "python",
   "pygments_lexer": "ipython3",
   "version": "3.10.12"
  }
 },
 "nbformat": 4,
 "nbformat_minor": 2
}
