{
 "cells": [
  {
   "cell_type": "code",
   "execution_count": 1,
   "metadata": {},
   "outputs": [],
   "source": [
    "import sys\n",
    "sys.path.append(\"../\")\n",
    "\n",
    "from smc.sampler import SMCsampler\n",
    "from smc.prior import StarPrior\n",
    "from smc.images import ImageModel\n",
    "from smc.kernel import MetropolisHastings\n",
    "\n",
    "import torch\n",
    "# torch.cuda.is_available()\n",
    "device = torch.device(\"cuda:0\" if torch.cuda.is_available() else \"cpu\")\n",
    "torch.cuda.set_device(device)\n",
    "torch.set_default_device(device)\n",
    "\n",
    "import matplotlib.pyplot as plt"
   ]
  },
  {
   "cell_type": "markdown",
   "metadata": {},
   "source": [
    "### Generate images"
   ]
  },
  {
   "cell_type": "markdown",
   "metadata": {},
   "source": [
    "We specify a prior and an image model and generate one image."
   ]
  },
  {
   "cell_type": "code",
   "execution_count": 2,
   "metadata": {},
   "outputs": [],
   "source": [
    "TruePrior = StarPrior(max_objects = 100,\n",
    "                      image_dim = 64,\n",
    "                      min_flux = 10000)\n",
    "\n",
    "TrueImageModel = ImageModel(image_dim = 64,\n",
    "                            psf_stdev = 3,\n",
    "                            background = 20000)\n",
    "\n",
    "true_counts, true_locs, true_fluxes, images = TrueImageModel.generate(Prior = TruePrior,\n",
    "                                                                      num_images = 1)"
   ]
  },
  {
   "cell_type": "code",
   "execution_count": 3,
   "metadata": {},
   "outputs": [
    {
     "name": "stdout",
     "output_type": "stream",
     "text": [
      "image 1 \n",
      "count\n",
      " 56 \n",
      "total flux\n",
      " 5490589.0 \n",
      "loc\n",
      " [[ 4.721205   37.68647   ]\n",
      " [24.188025   33.41074   ]\n",
      " [44.535492    1.1854029 ]\n",
      " [ 0.8357376  10.34008   ]\n",
      " [17.091951   32.416843  ]\n",
      " [63.45525    63.549618  ]\n",
      " [35.272778   36.9554    ]\n",
      " [32.034756   26.465534  ]\n",
      " [42.76109    16.477234  ]\n",
      " [55.094532   42.084915  ]\n",
      " [32.634827   62.539425  ]\n",
      " [ 7.0962577  15.009464  ]\n",
      " [38.072006   63.3596    ]\n",
      " [45.404816   63.343143  ]\n",
      " [11.462564    5.3112855 ]\n",
      " [50.857742   35.705788  ]\n",
      " [ 8.245456   40.349255  ]\n",
      " [63.583378   62.08131   ]\n",
      " [22.84788    46.290337  ]\n",
      " [31.509125   59.736412  ]\n",
      " [42.757576   59.912876  ]\n",
      " [44.618717   24.889683  ]\n",
      " [23.116096   51.982067  ]\n",
      " [26.275017    5.6728616 ]\n",
      " [53.504013   13.712195  ]\n",
      " [ 9.691026   50.314022  ]\n",
      " [23.309637    5.8596616 ]\n",
      " [ 6.5753274  11.741436  ]\n",
      " [ 3.7886736   7.578208  ]\n",
      " [14.17612    35.99206   ]\n",
      " [55.269665   26.27807   ]\n",
      " [57.75796    39.158913  ]\n",
      " [21.32481    28.660433  ]\n",
      " [11.787424   51.30055   ]\n",
      " [42.676376    4.8784184 ]\n",
      " [12.618024    3.5888915 ]\n",
      " [63.689484   52.01892   ]\n",
      " [29.73947    59.034863  ]\n",
      " [ 1.744084    3.0092041 ]\n",
      " [19.508587   22.24326   ]\n",
      " [59.460068   47.594795  ]\n",
      " [15.004087   53.049633  ]\n",
      " [ 6.8414707   4.9215074 ]\n",
      " [60.871326   57.976402  ]\n",
      " [37.050766   62.535892  ]\n",
      " [54.990543   50.313488  ]\n",
      " [39.29954    46.900013  ]\n",
      " [63.33675    54.348244  ]\n",
      " [ 0.21366376 47.96579   ]\n",
      " [15.774293   26.211832  ]\n",
      " [22.368958    8.385268  ]\n",
      " [51.130127   58.913624  ]\n",
      " [ 4.41929    26.611084  ]\n",
      " [13.046075   20.963285  ]\n",
      " [47.41641    14.334145  ]\n",
      " [ 3.3029168  34.538586  ]\n",
      " [ 0.          0.        ]\n",
      " [ 0.          0.        ]\n",
      " [ 0.          0.        ]\n",
      " [ 0.          0.        ]\n",
      " [ 0.          0.        ]\n",
      " [ 0.          0.        ]\n",
      " [ 0.          0.        ]\n",
      " [ 0.          0.        ]\n",
      " [ 0.          0.        ]\n",
      " [ 0.          0.        ]\n",
      " [ 0.          0.        ]\n",
      " [ 0.          0.        ]\n",
      " [ 0.          0.        ]\n",
      " [ 0.          0.        ]\n",
      " [ 0.          0.        ]\n",
      " [ 0.          0.        ]\n",
      " [ 0.          0.        ]\n",
      " [ 0.          0.        ]\n",
      " [ 0.          0.        ]\n",
      " [ 0.          0.        ]\n",
      " [ 0.          0.        ]\n",
      " [ 0.          0.        ]\n",
      " [ 0.          0.        ]\n",
      " [ 0.          0.        ]\n",
      " [ 0.          0.        ]\n",
      " [ 0.          0.        ]\n",
      " [ 0.          0.        ]\n",
      " [ 0.          0.        ]\n",
      " [ 0.          0.        ]\n",
      " [ 0.          0.        ]\n",
      " [ 0.          0.        ]\n",
      " [ 0.          0.        ]\n",
      " [ 0.          0.        ]\n",
      " [ 0.          0.        ]\n",
      " [ 0.          0.        ]\n",
      " [ 0.          0.        ]\n",
      " [ 0.          0.        ]\n",
      " [ 0.          0.        ]\n",
      " [ 0.          0.        ]\n",
      " [ 0.          0.        ]\n",
      " [ 0.          0.        ]\n",
      " [ 0.          0.        ]\n",
      " [ 0.          0.        ]\n",
      " [ 0.          0.        ]] \n",
      "\n",
      "\n"
     ]
    },
    {
     "data": {
      "image/png": "[encoded data removed]",
      "text/plain": [
       "<Figure size 640x480 with 1 Axes>"
      ]
     },
     "metadata": {},
     "output_type": "display_data"
    }
   ],
   "source": [
    "for i in range(1):\n",
    "    print(f\"image {i+1}\",\n",
    "          \"\\ncount\\n\", true_counts[i].round().item(),\n",
    "          \"\\ntotal flux\\n\", true_fluxes[i].sum().item(),\n",
    "          \"\\nloc\\n\", true_locs[i].cpu().numpy(), \"\\n\\n\")\n",
    "    fig, img = plt.subplots(1,1)\n",
    "    _ = img.imshow(images[i].cpu())"
   ]
  },
  {
   "cell_type": "markdown",
   "metadata": {},
   "source": [
    "### Perform inference with SMC"
   ]
  },
  {
   "cell_type": "markdown",
   "metadata": {},
   "source": [
    "We set the side length of the tiles on which we will run the sampler, and we specify a prior and image model at the tile level. We also specify a mutation kernel to be used within the SMC sampler."
   ]
  },
  {
   "cell_type": "code",
   "execution_count": 4,
   "metadata": {},
   "outputs": [],
   "source": [
    "tile_dim = 8\n",
    "\n",
    "TilePrior = StarPrior(max_objects = 3,\n",
    "                      image_dim = tile_dim,\n",
    "                      min_flux = 10000,\n",
    "                      pad = 2)\n",
    "\n",
    "TileImageModel = ImageModel(image_dim = tile_dim,\n",
    "                            psf_stdev = 3,\n",
    "                            background = 20000)\n",
    "\n",
    "MHKernel = MetropolisHastings(num_iters = 50,\n",
    "                              locs_stdev = 0.25,\n",
    "                              features_stdev = 1250)"
   ]
  },
  {
   "cell_type": "markdown",
   "metadata": {},
   "source": [
    "Now we initialize an `SMCsampler` object and run it on the tiles."
   ]
  },
  {
   "cell_type": "code",
   "execution_count": 5,
   "metadata": {},
   "outputs": [
    {
     "name": "stdout",
     "output_type": "stream",
     "text": [
      "True count: 56\n",
      "True total flux: 5490589.0\n",
      "\n",
      "Starting the tile samplers...\n",
      "iteration 5, temperature = 0.005010553635656834\n",
      "iteration 10, temperature = 0.05010689049959183\n",
      "iteration 15, temperature = 0.2913079857826233\n",
      "Done!\n",
      "\n",
      "summary\n",
      "number of SMC iterations: 19\n"
     ]
    }
   ],
   "source": [
    "smc = SMCsampler(image = images[0],\n",
    "                 tile_dim = tile_dim,\n",
    "                 Prior = TilePrior,\n",
    "                 ImageModel = TileImageModel,\n",
    "                 MutationKernel = MHKernel,\n",
    "                 num_catalogs_per_count = 500,\n",
    "                 max_smc_iters = 500)\n",
    "\n",
    "print(f\"True count: {true_counts[0]}\")\n",
    "print(f\"True total flux: {true_fluxes[0].sum()}\\n\")\n",
    "\n",
    "smc.run(print_progress = True)\n",
    "smc.summarize()"
   ]
  }
 ],
 "metadata": {
  "kernelspec": {
   "display_name": "Python 3",
   "language": "python",
   "name": "python3"
  },
  "language_info": {
   "codemirror_mode": {
    "name": "ipython",
    "version": 3
   },
   "file_extension": ".py",
   "mimetype": "text/x-python",
   "name": "python",
   "nbconvert_exporter": "python",
   "pygments_lexer": "ipython3",
   "version": "3.10.12"
  }
 },
 "nbformat": 4,
 "nbformat_minor": 2
}
