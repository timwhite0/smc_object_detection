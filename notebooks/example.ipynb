{
 "cells": [
  {
   "cell_type": "code",
   "execution_count": 1,
   "metadata": {},
   "outputs": [
    {
     "name": "stderr",
     "output_type": "stream",
     "text": [
      "/usr/lib/python3/dist-packages/scipy/__init__.py:146: UserWarning: A NumPy version >=1.17.3 and <1.25.0 is required for this version of SciPy (detected version 1.26.3\n",
      "  warnings.warn(f\"A NumPy version >={np_minversion} and <{np_maxversion}\"\n"
     ]
    }
   ],
   "source": [
    "import sys\n",
    "sys.path.append(\"../\")\n",
    "\n",
    "from smc.sampler import SMCsampler\n",
    "from smc.prior import CatalogPrior\n",
    "from smc.images import ImageAttributes\n",
    "\n",
    "import torch\n",
    "# torch.cuda.is_available()\n",
    "device = torch.device(\"cuda:1\" if torch.cuda.is_available() else \"cpu\")\n",
    "torch.cuda.set_device(device)\n",
    "torch.set_default_device(device)\n",
    "\n",
    "import matplotlib.pyplot as plt"
   ]
  },
  {
   "cell_type": "code",
   "execution_count": 2,
   "metadata": {},
   "outputs": [],
   "source": [
    "num_images = 1\n",
    "img_dim = 16 # Needs to be square for now\n",
    "img_width = img_dim\n",
    "img_height = img_dim\n",
    "max_objects = 8\n",
    "psf_stdev = 3.25\n",
    "background_intensity = 19200\n",
    "\n",
    "prior = CatalogPrior(max_objects = max_objects,\n",
    "                     img_height = img_height,\n",
    "                     img_width = img_width,\n",
    "                     min_flux = background_intensity/3.)\n",
    "\n",
    "image_attributes = ImageAttributes(img_height = img_height,\n",
    "                                   img_width = img_width,\n",
    "                                   max_objects = max_objects,\n",
    "                                   psf_stdev = psf_stdev,\n",
    "                                   background_intensity = background_intensity)\n",
    "\n",
    "true_counts, true_fluxes, true_locs, true_total_intensities, images = image_attributes.generate(prior, num_images)"
   ]
  },
  {
   "cell_type": "code",
   "execution_count": 3,
   "metadata": {},
   "outputs": [
    {
     "name": "stdout",
     "output_type": "stream",
     "text": [
      "image 1 \n",
      "count\n",
      " 5 \n",
      "total flux\n",
      " 310059.625 \n",
      "loc\n",
      " [[ 5.2999854 14.183369 ]\n",
      " [ 2.8935199 11.932484 ]\n",
      " [10.297721   2.3781328]\n",
      " [ 9.657547   3.0498097]\n",
      " [ 5.11774   15.066838 ]\n",
      " [ 0.         0.       ]\n",
      " [ 0.         0.       ]\n",
      " [ 0.         0.       ]] \n",
      "\n",
      "\n"
     ]
    }
   ],
   "source": [
    "for i in range(num_images):\n",
    "    print(f\"image {i+1}\",\n",
    "          \"\\ncount\\n\", true_counts[i].round().item(),\n",
    "          \"\\ntotal flux\\n\", true_fluxes[i].sum().item(),\n",
    "          \"\\nloc\\n\", true_locs[i].cpu().numpy(), \"\\n\\n\")"
   ]
  },
  {
   "cell_type": "code",
   "execution_count": 4,
   "metadata": {},
   "outputs": [
    {
     "name": "stdout",
     "output_type": "stream",
     "text": [
      "True count: 5\n",
      "True total flux: 310059.625\n",
      "Naive estimated source count (true total flux / prior mean flux): 4.844681739807129\n",
      "\n",
      "Starting the sampler...\n",
      "iteration 5, temperature = 0.0014071406330913305, posterior mean count = 4.62787389755249\n",
      "iteration 10, temperature = 0.0037299722898751497, posterior mean count = 4.336371421813965\n",
      "iteration 15, temperature = 0.007591670379042625, posterior mean count = 4.382802963256836\n",
      "iteration 20, temperature = 0.015145122073590755, posterior mean count = 4.527815341949463\n",
      "iteration 25, temperature = 0.030918657779693604, posterior mean count = 5.238385200500488\n",
      "iteration 30, temperature = 0.0735955759882927, posterior mean count = 5.162085056304932\n",
      "iteration 35, temperature = 0.16922837495803833, posterior mean count = 5.075878620147705\n",
      "iteration 40, temperature = 0.36921051144599915, posterior mean count = 5.002291679382324\n",
      "iteration 45, temperature = 0.679955244064331, posterior mean count = 5.007290840148926\n",
      "Done!\n",
      "\n",
      "summary\n",
      "number of SMC iterations: 48\n",
      "log normalizing constant: -2115.498046875\n",
      "posterior mean count: 5.027708053588867\n",
      "posterior mean total flux: 311721.65625\n",
      "argmax count: 5.0\n",
      "argmax total flux: 311913.75\n",
      "\n",
      "\n",
      "\n"
     ]
    },
    {
     "data": {
      "image/png": "[encoded data removed]",
      "text/plain": [
       "<Figure size 432x288 with 2 Axes>"
      ]
     },
     "metadata": {
      "needs_background": "light"
     },
     "output_type": "display_data"
    }
   ],
   "source": [
    "max_objects_smc = max_objects + 2\n",
    "pad = 0\n",
    "prior = CatalogPrior(max_objects_smc, img_width, img_height, background_intensity/3., pad)\n",
    "smc = SMCsampler(images[0], image_attributes, prior,\n",
    "                 num_blocks = max_objects_smc + 1, catalogs_per_block = 500,\n",
    "                 max_smc_iters = 500,\n",
    "                 wastefree = True, wastefree_M = 10)\n",
    "\n",
    "print(f\"True count: {true_counts[0]}\")\n",
    "print(f\"True total flux: {true_fluxes[0].sum()}\")\n",
    "print(f\"Naive estimated source count (true total flux / prior mean flux): {true_fluxes[0].sum() / prior.flux_prior.mean}\\n\")\n",
    "\n",
    "smc.run(print_progress = True)\n",
    "smc.summarize()"
   ]
  }
 ],
 "metadata": {
  "kernelspec": {
   "display_name": "Python 3",
   "language": "python",
   "name": "python3"
  },
  "language_info": {
   "codemirror_mode": {
    "name": "ipython",
    "version": 3
   },
   "file_extension": ".py",
   "mimetype": "text/x-python",
   "name": "python",
   "nbconvert_exporter": "python",
   "pygments_lexer": "ipython3",
   "version": "3.10.12"
  }
 },
 "nbformat": 4,
 "nbformat_minor": 2
}
