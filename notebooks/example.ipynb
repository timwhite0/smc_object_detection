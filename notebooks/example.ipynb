{
 "cells": [
  {
   "cell_type": "code",
   "execution_count": 1,
   "metadata": {},
   "outputs": [
    {
     "name": "stderr",
     "output_type": "stream",
     "text": [
      "/usr/lib/python3/dist-packages/scipy/__init__.py:146: UserWarning: A NumPy version >=1.17.3 and <1.25.0 is required for this version of SciPy (detected version 1.26.3\n",
      "  warnings.warn(f\"A NumPy version >={np_minversion} and <{np_maxversion}\"\n"
     ]
    }
   ],
   "source": [
    "import sys\n",
    "sys.path.append(\"../\")\n",
    "\n",
    "from smc.sampler import SMCsampler\n",
    "from smc.prior import CatalogPrior\n",
    "from smc.images import ImageAttributes\n",
    "\n",
    "import torch\n",
    "# torch.cuda.is_available()\n",
    "device = torch.device(\"cuda:1\" if torch.cuda.is_available() else \"cpu\")\n",
    "torch.cuda.set_device(device)\n",
    "torch.set_default_device(device)\n",
    "\n",
    "import matplotlib.pyplot as plt"
   ]
  },
  {
   "cell_type": "code",
   "execution_count": 2,
   "metadata": {},
   "outputs": [],
   "source": [
    "num_images = 1\n",
    "img_dim = 64 # Needs to be square for now\n",
    "img_width = img_dim\n",
    "img_height = img_dim\n",
    "max_objects = 80\n",
    "psf_stdev = 1\n",
    "background_intensity = 19200\n",
    "\n",
    "prior = CatalogPrior(max_objects = max_objects,\n",
    "                     img_height = img_height,\n",
    "                     img_width = img_width,\n",
    "                     min_flux = background_intensity/3.)\n",
    "\n",
    "image_attributes = ImageAttributes(img_height = img_height,\n",
    "                                   img_width = img_width,\n",
    "                                   max_objects = max_objects,\n",
    "                                   psf_stdev = psf_stdev,\n",
    "                                   background_intensity = background_intensity)\n",
    "\n",
    "true_counts, true_fluxes, true_locs, true_total_intensities, images = image_attributes.generate(prior, num_images)"
   ]
  },
  {
   "cell_type": "code",
   "execution_count": 3,
   "metadata": {},
   "outputs": [
    {
     "name": "stdout",
     "output_type": "stream",
     "text": [
      "image 1 \n",
      "count\n",
      " 80 \n",
      "total flux\n",
      " 4936792.5 \n",
      "loc\n",
      " [[ 5.520816    5.8532414 ]\n",
      " [46.8804     63.451862  ]\n",
      " [26.582922   34.372803  ]\n",
      " [63.496937   17.303703  ]\n",
      " [36.906574   42.968178  ]\n",
      " [35.36972    25.056147  ]\n",
      " [ 4.212587   15.759312  ]\n",
      " [ 8.822884   19.507607  ]\n",
      " [14.352716   30.947414  ]\n",
      " [44.75681    38.7628    ]\n",
      " [15.391516   61.520027  ]\n",
      " [43.772175   29.890059  ]\n",
      " [21.555786   51.640938  ]\n",
      " [34.855      17.18437   ]\n",
      " [10.106801    2.9610767 ]\n",
      " [45.437004   57.575447  ]\n",
      " [14.8152895   0.6507088 ]\n",
      " [18.587025   18.339804  ]\n",
      " [31.277592   35.98682   ]\n",
      " [ 4.949513   19.574566  ]\n",
      " [19.249668   22.327883  ]\n",
      " [56.053066   21.848057  ]\n",
      " [ 7.7471547  50.992813  ]\n",
      " [61.41995     5.2547455 ]\n",
      " [46.137333   18.612541  ]\n",
      " [ 1.0052184   6.912592  ]\n",
      " [ 5.5329747  51.42247   ]\n",
      " [ 4.117388   26.932093  ]\n",
      " [ 5.230475   29.71815   ]\n",
      " [47.20956    31.096195  ]\n",
      " [13.331853   61.869152  ]\n",
      " [55.588116   41.761322  ]\n",
      " [48.11779    18.079708  ]\n",
      " [ 0.70751274 17.886171  ]\n",
      " [49.544136    9.890984  ]\n",
      " [56.729134   41.426956  ]\n",
      " [37.74491    46.74371   ]\n",
      " [51.347794   12.98835   ]\n",
      " [43.841923   18.739529  ]\n",
      " [59.99157    32.22211   ]\n",
      " [23.233732   27.728735  ]\n",
      " [35.6437     58.619717  ]\n",
      " [ 7.6419373  22.216187  ]\n",
      " [34.36812    13.4446335 ]\n",
      " [ 0.27368104 20.755445  ]\n",
      " [34.005817   59.522644  ]\n",
      " [ 0.48989314 13.662201  ]\n",
      " [ 6.2950664  60.079697  ]\n",
      " [45.664192    8.462425  ]\n",
      " [29.253056   61.1955    ]\n",
      " [35.636253   13.545779  ]\n",
      " [63.57613    22.54213   ]\n",
      " [10.062307   11.482503  ]\n",
      " [17.71889    27.088587  ]\n",
      " [44.74354    27.031944  ]\n",
      " [61.892105   30.450647  ]\n",
      " [24.840546    3.7551248 ]\n",
      " [55.071926   31.693459  ]\n",
      " [23.053818   28.75456   ]\n",
      " [59.172436    0.18776935]\n",
      " [14.956252   51.05749   ]\n",
      " [55.52518     8.96196   ]\n",
      " [44.3133     43.426712  ]\n",
      " [59.5994      9.625427  ]\n",
      " [35.114346   11.961984  ]\n",
      " [21.104897   50.367764  ]\n",
      " [20.052414    4.805494  ]\n",
      " [40.288776   14.372379  ]\n",
      " [49.61377    61.427998  ]\n",
      " [17.965458    5.2512784 ]\n",
      " [12.773053   14.321573  ]\n",
      " [13.910948   52.870228  ]\n",
      " [21.488272   62.9978    ]\n",
      " [39.107822   32.63474   ]\n",
      " [57.11853    49.723804  ]\n",
      " [52.10588    15.845286  ]\n",
      " [ 6.432029    6.4686246 ]\n",
      " [12.500294   12.156896  ]\n",
      " [18.500185   52.390564  ]\n",
      " [ 8.008765    2.9893885 ]] \n",
      "\n",
      "\n"
     ]
    },
    {
     "data": {
      "image/png": "[encoded data removed]",
      "text/plain": [
       "<Figure size 432x288 with 1 Axes>"
      ]
     },
     "metadata": {
      "needs_background": "light"
     },
     "output_type": "display_data"
    }
   ],
   "source": [
    "for i in range(num_images):\n",
    "    print(f\"image {i+1}\",\n",
    "          \"\\ncount\\n\", true_counts[i].round().item(),\n",
    "          \"\\ntotal flux\\n\", true_fluxes[i].sum().item(),\n",
    "          \"\\nloc\\n\", true_locs[i].cpu().numpy(), \"\\n\\n\")\n",
    "    fig, img = plt.subplots(1,1)\n",
    "    _ = img.imshow(images[i].cpu())"
   ]
  },
  {
   "cell_type": "code",
   "execution_count": 4,
   "metadata": {},
   "outputs": [
    {
     "name": "stdout",
     "output_type": "stream",
     "text": [
      "True count: 80\n",
      "True total flux: 4936792.5\n",
      "\n",
      "Starting the tile samplers...\n",
      "iteration 5, temperature = 0.001518210512585938\n",
      "iteration 10, temperature = 0.009848058223724365\n",
      "iteration 15, temperature = 0.037124671041965485\n",
      "iteration 20, temperature = 0.16590064764022827\n",
      "iteration 25, temperature = 0.9678134918212891\n",
      "Done!\n",
      "\n",
      "Combining the results...\n",
      "Done!\n",
      "\n",
      "Pruning detections...\n",
      "Done!\n",
      "\n",
      "summary\n",
      "number of SMC iterations: 25\n",
      "posterior mean count: 80.65471649169922\n",
      "posterior mean total flux: 4762629.5\n",
      "\n",
      "\n",
      "\n"
     ]
    }
   ],
   "source": [
    "tile_side_length = 4\n",
    "max_objects_smc = 2\n",
    "pad = 2\n",
    "\n",
    "prior = CatalogPrior(max_objects_smc,\n",
    "                     img_width, img_height,\n",
    "                     background_intensity/3.,\n",
    "                     pad)\n",
    "\n",
    "smc = SMCsampler(images[0], image_attributes, tile_side_length, prior,\n",
    "                 max_objects = max_objects_smc, catalogs_per_block = 500,\n",
    "                 kernel_num_iters = 100, product_form_multiplier = 250,\n",
    "                 max_smc_iters = 500)\n",
    "\n",
    "print(f\"True count: {true_counts[0]}\")\n",
    "print(f\"True total flux: {true_fluxes[0].sum()}\\n\")\n",
    "\n",
    "smc.run(print_progress = True)\n",
    "smc.summarize()"
   ]
  }
 ],
 "metadata": {
  "kernelspec": {
   "display_name": "Python 3",
   "language": "python",
   "name": "python3"
  },
  "language_info": {
   "codemirror_mode": {
    "name": "ipython",
    "version": 3
   },
   "file_extension": ".py",
   "mimetype": "text/x-python",
   "name": "python",
   "nbconvert_exporter": "python",
   "pygments_lexer": "ipython3",
   "version": "3.10.12"
  }
 },
 "nbformat": 4,
 "nbformat_minor": 2
}
