{
 "cells": [
  {
   "cell_type": "code",
   "execution_count": 1,
   "metadata": {},
   "outputs": [
    {
     "name": "stderr",
     "output_type": "stream",
     "text": [
      "/usr/lib/python3/dist-packages/scipy/__init__.py:146: UserWarning: A NumPy version >=1.17.3 and <1.25.0 is required for this version of SciPy (detected version 1.26.3\n",
      "  warnings.warn(f\"A NumPy version >={np_minversion} and <{np_maxversion}\"\n"
     ]
    }
   ],
   "source": [
    "import sys\n",
    "sys.path.append(\"../\")\n",
    "\n",
    "from smc.sampler import SMCsampler\n",
    "from smc.prior import CatalogPrior\n",
    "from smc.images import ImageAttributes\n",
    "\n",
    "import torch\n",
    "# torch.cuda.is_available()\n",
    "device = torch.device(\"cuda:6\" if torch.cuda.is_available() else \"cpu\")\n",
    "torch.cuda.set_device(device)\n",
    "torch.set_default_device(device)\n",
    "\n",
    "import matplotlib.pyplot as plt"
   ]
  },
  {
   "cell_type": "code",
   "execution_count": 2,
   "metadata": {},
   "outputs": [],
   "source": [
    "num_images = 1\n",
    "img_dim = 16 # Needs to be square for now\n",
    "img_width = img_dim\n",
    "img_height = img_dim\n",
    "max_objects = 8\n",
    "psf_stdev = 3.25\n",
    "background_intensity = 19200\n",
    "\n",
    "prior = CatalogPrior(max_objects = max_objects,\n",
    "                     img_height = img_height,\n",
    "                     img_width = img_width,\n",
    "                     min_flux = background_intensity/3.)\n",
    "\n",
    "image_attributes = ImageAttributes(img_height = img_height,\n",
    "                                   img_width = img_width,\n",
    "                                   max_objects = max_objects,\n",
    "                                   psf_stdev = psf_stdev,\n",
    "                                   background_intensity = background_intensity)\n",
    "\n",
    "true_counts, true_fluxes, true_locs, true_total_intensities, images = image_attributes.generate(prior, num_images)"
   ]
  },
  {
   "cell_type": "code",
   "execution_count": 3,
   "metadata": {},
   "outputs": [
    {
     "name": "stdout",
     "output_type": "stream",
     "text": [
      "image 1 \n",
      "count\n",
      " 6 \n",
      "total flux\n",
      " 370135.28125 \n",
      "loc\n",
      " [[ 0.9523412  8.561985 ]\n",
      " [11.69315   11.314336 ]\n",
      " [14.002481  13.3920765]\n",
      " [ 2.2978427  2.646015 ]\n",
      " [15.840272  15.847098 ]\n",
      " [13.371125   5.784336 ]\n",
      " [ 0.         0.       ]\n",
      " [ 0.         0.       ]] \n",
      "\n",
      "\n"
     ]
    }
   ],
   "source": [
    "for i in range(num_images):\n",
    "    print(f\"image {i+1}\",\n",
    "          \"\\ncount\\n\", true_counts[i].round().item(),\n",
    "          \"\\ntotal flux\\n\", true_fluxes[i].sum().item(),\n",
    "          \"\\nloc\\n\", true_locs[i].cpu().numpy(), \"\\n\\n\")"
   ]
  },
  {
   "cell_type": "code",
   "execution_count": 4,
   "metadata": {},
   "outputs": [
    {
     "name": "stdout",
     "output_type": "stream",
     "text": [
      "True count: 6\n",
      "True total flux: 370135.28125\n",
      "Starting the sampler...\n",
      "iteration 5, temperature = 0.0015024291351437569, posterior mean count = 5.698089599609375\n",
      "iteration 10, temperature = 0.004730993881821632, posterior mean count = 5.834558963775635\n",
      "iteration 15, temperature = 0.011188908480107784, posterior mean count = 5.91513729095459\n",
      "iteration 20, temperature = 0.024712031707167625, posterior mean count = 5.912128448486328\n",
      "iteration 25, temperature = 0.05171557143330574, posterior mean count = 5.894503593444824\n",
      "iteration 30, temperature = 0.10408830642700195, posterior mean count = 5.92924690246582\n",
      "iteration 35, temperature = 0.1840170919895172, posterior mean count = 5.9488091468811035\n",
      "iteration 40, temperature = 0.29570823907852173, posterior mean count = 5.982973575592041\n",
      "iteration 45, temperature = 0.44336479902267456, posterior mean count = 6.001395225524902\n",
      "iteration 50, temperature = 0.6437064409255981, posterior mean count = 6.024298667907715\n",
      "iteration 55, temperature = 0.9183815121650696, posterior mean count = 6.052383899688721\n",
      "Done!\n",
      "\n",
      "summary\n",
      "number of SMC iterations: 56\n",
      "log normalizing constants:\n",
      "[[0, -20021], [1, -7893], [2, -2956], [3, -2113], [4, -1718], [5, -1631], [6, -1637], [7, -1631], [8, -1636], [9, -1631], [10, -1638]]\n",
      "posterior mean count: 6.0796966552734375\n",
      "posterior mean total flux: 369992.96875\n",
      "argmax count: 6.0\n",
      "argmax total flux: 368268.5625\n",
      "\n",
      "\n",
      "\n"
     ]
    },
    {
     "data": {
      "image/png": "[encoded data removed]",
      "text/plain": [
       "<Figure size 432x288 with 2 Axes>"
      ]
     },
     "metadata": {
      "needs_background": "light"
     },
     "output_type": "display_data"
    }
   ],
   "source": [
    "max_objects_smc = max_objects + 2\n",
    "pad = 0\n",
    "prior = CatalogPrior(max_objects_smc, img_width, img_height, background_intensity/3., pad)\n",
    "smc = SMCsampler(images[0], image_attributes, prior,\n",
    "                 max_objects = max_objects_smc, catalogs_per_block = 10000,\n",
    "                 kernel_num_iters = 100,\n",
    "                 max_smc_iters = 500,\n",
    "                 wastefree = True, wastefree_M = 80)\n",
    "\n",
    "print(f\"True count: {true_counts[0]}\")\n",
    "print(f\"True total flux: {true_fluxes[0].sum()}\")\n",
    "\n",
    "smc.run(print_progress = True)\n",
    "smc.summarize()"
   ]
  }
 ],
 "metadata": {
  "kernelspec": {
   "display_name": "Python 3",
   "language": "python",
   "name": "python3"
  },
  "language_info": {
   "codemirror_mode": {
    "name": "ipython",
    "version": 3
   },
   "file_extension": ".py",
   "mimetype": "text/x-python",
   "name": "python",
   "nbconvert_exporter": "python",
   "pygments_lexer": "ipython3",
   "version": "3.10.12"
  }
 },
 "nbformat": 4,
 "nbformat_minor": 2
}
