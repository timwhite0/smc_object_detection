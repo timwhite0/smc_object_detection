{
 "cells": [
  {
   "cell_type": "code",
   "execution_count": 1,
   "metadata": {},
   "outputs": [],
   "source": [
    "import sys\n",
    "sys.path.append(\"../\")\n",
    "\n",
    "from smc.sampler import SMCsampler\n",
    "from smc.prior import CatalogPrior\n",
    "from smc.images import ImageAttributes\n",
    "\n",
    "import torch\n",
    "# torch.cuda.is_available()\n",
    "device = torch.device(\"cuda:5\" if torch.cuda.is_available() else \"cpu\")\n",
    "torch.cuda.set_device(device)\n",
    "torch.set_default_device(device)"
   ]
  },
  {
   "cell_type": "code",
   "execution_count": 2,
   "metadata": {},
   "outputs": [],
   "source": [
    "num_images = 1\n",
    "img_dim = 10 # Needs to be square for now\n",
    "img_width = img_dim\n",
    "img_height = img_dim\n",
    "max_objects = 5\n",
    "psf_stdev = 3.25\n",
    "background_intensity = 19200\n",
    "\n",
    "image_attributes = ImageAttributes(img_width = img_width,\n",
    "                                   img_height = img_height,\n",
    "                                   max_objects = max_objects,\n",
    "                                   psf_stdev = psf_stdev,\n",
    "                                   background_intensity = background_intensity)\n",
    "\n",
    "true_counts, true_fluxes, true_locs, true_total_intensities, images = image_attributes.generate(num_images)"
   ]
  },
  {
   "cell_type": "code",
   "execution_count": 3,
   "metadata": {},
   "outputs": [
    {
     "name": "stdout",
     "output_type": "stream",
     "text": [
      "image 1 \n",
      "count\n",
      " 5 \n",
      "total flux\n",
      " 311887.96875 \n",
      "loc\n",
      " [[7.9214535 0.6638794]\n",
      " [2.8712397 5.223489 ]\n",
      " [6.609723  1.8982654]\n",
      " [0.5796147 4.27513  ]\n",
      " [6.6050234 3.4229348]] \n",
      "\n",
      "\n"
     ]
    }
   ],
   "source": [
    "for i in range(num_images):\n",
    "    print(f\"image {i+1}\",\n",
    "          \"\\ncount\\n\", true_counts[i].round().item(),\n",
    "          \"\\ntotal flux\\n\", true_fluxes[i].sum().item(),\n",
    "          \"\\nloc\\n\", true_locs[i].cpu().numpy(), \"\\n\\n\")"
   ]
  },
  {
   "cell_type": "code",
   "execution_count": 4,
   "metadata": {},
   "outputs": [
    {
     "name": "stdout",
     "output_type": "stream",
     "text": [
      "True count: 5\n",
      "True total flux: 311887.96875\n",
      "\n",
      "Starting the sampler...\n",
      "iteration 5, temperature = 0.000931879854761064, posterior mean count = 4.731235027313232\n",
      "iteration 10, temperature = 0.00400039367377758, posterior mean count = 4.904787063598633\n",
      "iteration 15, temperature = 0.009054305031895638, posterior mean count = 4.902759552001953\n",
      "iteration 20, temperature = 0.016162777319550514, posterior mean count = 4.8931779861450195\n",
      "iteration 25, temperature = 0.027004718780517578, posterior mean count = 4.890597343444824\n",
      "iteration 30, temperature = 0.04432687163352966, posterior mean count = 4.8818583488464355\n",
      "iteration 35, temperature = 0.07424372434616089, posterior mean count = 4.870232582092285\n",
      "iteration 40, temperature = 0.13470682501792908, posterior mean count = 4.859467029571533\n",
      "iteration 45, temperature = 0.2819312512874603, posterior mean count = 4.855513095855713\n",
      "iteration 50, temperature = 0.680296778678894, posterior mean count = 4.863792419433594\n",
      "iteration 55, temperature = 0.9892548322677612, posterior mean count = 4.879775047302246\n",
      "iteration 60, temperature = 0.9996641874313354, posterior mean count = 4.880231857299805\n",
      "Done!\n",
      "\n",
      "summary\n",
      "number of SMC iterations: 61\n",
      "log normalizing constant: -1191.9498291015625\n",
      "posterior mean count: 4.8802409172058105\n",
      "posterior mean total flux: 314053.125\n",
      "argmax count: 5.0\n",
      "argmax total flux: 312808.0\n",
      "\n",
      "\n",
      "\n"
     ]
    },
    {
     "data": {
      "image/png": "[encoded data removed]",
      "text/plain": [
       "<Figure size 432x288 with 2 Axes>"
      ]
     },
     "metadata": {
      "needs_background": "light"
     },
     "output_type": "display_data"
    }
   ],
   "source": [
    "max_objects_smc = max_objects + 2\n",
    "pad = 5\n",
    "prior = CatalogPrior(max_objects_smc, img_width, img_height, pad, background_intensity/3.)\n",
    "smc = SMCsampler(images[0], image_attributes, prior, num_blocks = max_objects_smc+1, catalogs_per_block = 500, max_smc_iters = 1000)\n",
    "\n",
    "print(f\"True count: {true_counts[0]}\")\n",
    "print(f\"True total flux: {true_fluxes[0].sum()}\\n\")\n",
    "\n",
    "smc.run(print_progress = True)\n",
    "smc.summarize()"
   ]
  }
 ],
 "metadata": {
  "kernelspec": {
   "display_name": "Python 3",
   "language": "python",
   "name": "python3"
  },
  "language_info": {
   "codemirror_mode": {
    "name": "ipython",
    "version": 3
   },
   "file_extension": ".py",
   "mimetype": "text/x-python",
   "name": "python",
   "nbconvert_exporter": "python",
   "pygments_lexer": "ipython3",
   "version": "3.10.12"
  }
 },
 "nbformat": 4,
 "nbformat_minor": 2
}
