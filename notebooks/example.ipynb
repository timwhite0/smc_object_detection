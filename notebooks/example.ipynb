{
 "cells": [
  {
   "cell_type": "code",
   "execution_count": 1,
   "metadata": {},
   "outputs": [],
   "source": [
    "import sys\n",
    "sys.path.append(\"../\")\n",
    "\n",
    "from smc.sampler import SMCsampler\n",
    "from smc.prior import CatalogPrior\n",
    "from smc.images import ImageAttributes\n",
    "\n",
    "import torch\n",
    "# torch.cuda.is_available()\n",
    "device = torch.device(\"cuda:0\" if torch.cuda.is_available() else \"cpu\")\n",
    "torch.cuda.set_device(device)\n",
    "torch.set_default_device(device)"
   ]
  },
  {
   "cell_type": "code",
   "execution_count": 2,
   "metadata": {},
   "outputs": [],
   "source": [
    "num_images = 1\n",
    "img_dim = 16 # Needs to be square for now\n",
    "img_width = img_dim\n",
    "img_height = img_dim\n",
    "max_objects = 10\n",
    "psf_stdev = 2.5\n",
    "background_intensity = 19200\n",
    "\n",
    "prior = CatalogPrior(max_objects = max_objects,\n",
    "                     img_height = img_height,\n",
    "                     img_width = img_width,\n",
    "                     min_flux = background_intensity/3.)\n",
    "\n",
    "image_attributes = ImageAttributes(img_height = img_height,\n",
    "                                   img_width = img_width,\n",
    "                                   max_objects = max_objects,\n",
    "                                   psf_stdev = psf_stdev,\n",
    "                                   background_intensity = background_intensity)\n",
    "\n",
    "true_counts, true_fluxes, true_locs, true_total_intensities, images = image_attributes.generate(prior, num_images)"
   ]
  },
  {
   "cell_type": "code",
   "execution_count": 3,
   "metadata": {},
   "outputs": [
    {
     "name": "stdout",
     "output_type": "stream",
     "text": [
      "image 1 \n",
      "count\n",
      " 8 \n",
      "total flux\n",
      " 479291.6875 \n",
      "loc\n",
      " [[10.525788   11.54548   ]\n",
      " [ 2.6087904   1.8868625 ]\n",
      " [ 5.005557    2.6585505 ]\n",
      " [ 4.3373804  12.83849   ]\n",
      " [ 8.769936    3.1988308 ]\n",
      " [ 0.89083546  8.672187  ]\n",
      " [10.274224    2.512418  ]\n",
      " [ 9.348548    6.860104  ]\n",
      " [ 0.          0.        ]\n",
      " [ 0.          0.        ]] \n",
      "\n",
      "\n"
     ]
    }
   ],
   "source": [
    "for i in range(num_images):\n",
    "    print(f\"image {i+1}\",\n",
    "          \"\\ncount\\n\", true_counts[i].round().item(),\n",
    "          \"\\ntotal flux\\n\", true_fluxes[i].sum().item(),\n",
    "          \"\\nloc\\n\", true_locs[i].cpu().numpy(), \"\\n\\n\")"
   ]
  },
  {
   "cell_type": "code",
   "execution_count": 4,
   "metadata": {},
   "outputs": [
    {
     "name": "stdout",
     "output_type": "stream",
     "text": [
      "True count: 8\n",
      "True total flux: 479291.6875\n",
      "\n",
      "Starting the sampler...\n",
      "iteration 5, temperature = 0.0007555714109912515, posterior mean count = 6.852203369140625\n",
      "iteration 10, temperature = 0.0029916074126958847, posterior mean count = 7.357382774353027\n",
      "iteration 15, temperature = 0.008029856719076633, posterior mean count = 7.580738067626953\n",
      "iteration 20, temperature = 0.016790572553873062, posterior mean count = 7.6107988357543945\n",
      "iteration 25, temperature = 0.030443541705608368, posterior mean count = 7.5964179039001465\n",
      "iteration 30, temperature = 0.05624816566705704, posterior mean count = 7.617929458618164\n",
      "iteration 35, temperature = 0.10848574340343475, posterior mean count = 7.6734089851379395\n",
      "iteration 40, temperature = 0.19424989819526672, posterior mean count = 7.739075660705566\n",
      "iteration 45, temperature = 0.31139230728149414, posterior mean count = 7.851785182952881\n",
      "iteration 50, temperature = 0.4765031933784485, posterior mean count = 7.909951210021973\n",
      "iteration 55, temperature = 0.6684622168540955, posterior mean count = 7.9466657638549805\n",
      "iteration 60, temperature = 0.8618326187133789, posterior mean count = 7.947237014770508\n",
      "iteration 65, temperature = 0.9920628070831299, posterior mean count = 7.946918964385986\n",
      "iteration 70, temperature = 0.9997519254684448, posterior mean count = 7.946867942810059\n",
      "Done!\n",
      "\n",
      "summary\n",
      "number of SMC iterations: 71\n",
      "log normalizing constant: -2317.8330078125\n",
      "posterior mean count: 7.946863174438477\n",
      "posterior mean total flux: 475826.84375\n",
      "argmax count: 8.0\n",
      "argmax total flux: 476126.40625\n",
      "\n",
      "\n",
      "\n"
     ]
    },
    {
     "data": {
      "image/png": "[encoded data removed]",
      "text/plain": [
       "<Figure size 432x288 with 2 Axes>"
      ]
     },
     "metadata": {
      "needs_background": "light"
     },
     "output_type": "display_data"
    }
   ],
   "source": [
    "tile_side_length = img_dim//2\n",
    "\n",
    "max_objects_smc = max_objects + 2\n",
    "pad = 2\n",
    "prior = CatalogPrior(max_objects_smc, img_width, img_height, background_intensity/3., pad)\n",
    "smc = SMCsampler(images[0], image_attributes, tile_side_length, prior, num_blocks = max_objects_smc+1, catalogs_per_block = 500, max_smc_iters = 1000)\n",
    "\n",
    "print(f\"True count: {true_counts[0]}\")\n",
    "print(f\"True total flux: {true_fluxes[0].sum()}\\n\")\n",
    "\n",
    "smc.run(print_progress = True)\n",
    "smc.summarize()"
   ]
  }
 ],
 "metadata": {
  "kernelspec": {
   "display_name": "Python 3",
   "language": "python",
   "name": "python3"
  },
  "language_info": {
   "codemirror_mode": {
    "name": "ipython",
    "version": 3
   },
   "file_extension": ".py",
   "mimetype": "text/x-python",
   "name": "python",
   "nbconvert_exporter": "python",
   "pygments_lexer": "ipython3",
   "version": "3.10.12"
  }
 },
 "nbformat": 4,
 "nbformat_minor": 2
}
