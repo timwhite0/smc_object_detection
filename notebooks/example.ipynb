{
 "cells": [
  {
   "cell_type": "code",
   "execution_count": 1,
   "metadata": {},
   "outputs": [],
   "source": [
    "import sys\n",
    "sys.path.append(\"../\")\n",
    "\n",
    "from smc.sampler import SMCsampler\n",
    "from smc.prior import StarPrior\n",
    "from smc.images import ImageModel\n",
    "from smc.kernel import MetropolisHastings\n",
    "\n",
    "import torch\n",
    "# torch.cuda.is_available()\n",
    "device = torch.device(\"cuda:2\" if torch.cuda.is_available() else \"cpu\")\n",
    "torch.cuda.set_device(device)\n",
    "torch.set_default_device(device)\n",
    "\n",
    "import matplotlib.pyplot as plt"
   ]
  },
  {
   "cell_type": "markdown",
   "metadata": {},
   "source": [
    "### Generate images"
   ]
  },
  {
   "cell_type": "markdown",
   "metadata": {},
   "source": [
    "We specify a prior and an image model and generate one image."
   ]
  },
  {
   "cell_type": "code",
   "execution_count": 2,
   "metadata": {},
   "outputs": [],
   "source": [
    "TruePrior = StarPrior(max_objects = 100,\n",
    "                      image_dim = 64,\n",
    "                      min_flux = 10000)\n",
    "\n",
    "TrueImageModel = ImageModel(image_dim = 64,\n",
    "                            psf_stdev = 1,\n",
    "                            background = 20000)\n",
    "\n",
    "true_counts, true_locs, true_fluxes, images = TrueImageModel.generate(Prior = TruePrior,\n",
    "                                                                      num_images = 1)"
   ]
  },
  {
   "cell_type": "code",
   "execution_count": 3,
   "metadata": {},
   "outputs": [
    {
     "name": "stdout",
     "output_type": "stream",
     "text": [
      "image 1 \n",
      "count\n",
      " 87 \n",
      "total flux\n",
      " 8818305.0 \n",
      "loc\n",
      " [[20.139856    2.7144613 ]\n",
      " [62.362095   58.191235  ]\n",
      " [32.079025   43.86874   ]\n",
      " [ 6.3475604  30.189175  ]\n",
      " [35.273506   33.831825  ]\n",
      " [10.20067    39.017654  ]\n",
      " [ 6.1653395  10.724381  ]\n",
      " [32.963448   42.589996  ]\n",
      " [60.686787   41.619095  ]\n",
      " [36.40653    37.044407  ]\n",
      " [23.93756    32.55011   ]\n",
      " [28.137117   28.501263  ]\n",
      " [36.728256   14.264544  ]\n",
      " [30.149252   35.98597   ]\n",
      " [60.47115    26.354403  ]\n",
      " [17.355553   19.073671  ]\n",
      " [31.002151    2.1798542 ]\n",
      " [54.302383   48.118244  ]\n",
      " [ 6.0162363  21.314007  ]\n",
      " [18.509829   41.146103  ]\n",
      " [23.302822   13.531297  ]\n",
      " [54.125153    6.0048356 ]\n",
      " [13.448663   15.458325  ]\n",
      " [ 4.7891827  19.701649  ]\n",
      " [10.906032   62.02362   ]\n",
      " [19.628963   18.039898  ]\n",
      " [63.406567    4.9231887 ]\n",
      " [45.639317   51.86817   ]\n",
      " [32.42411     0.28704956]\n",
      " [47.95519    55.135395  ]\n",
      " [ 0.12914893 49.248974  ]\n",
      " [35.091248   35.234715  ]\n",
      " [39.48557    33.149403  ]\n",
      " [36.192295   35.37597   ]\n",
      " [55.99719    53.808598  ]\n",
      " [46.61654     6.1951613 ]\n",
      " [ 2.6093895  30.694021  ]\n",
      " [49.917255   19.00244   ]\n",
      " [37.87283    14.641642  ]\n",
      " [47.44135    44.579437  ]\n",
      " [33.39958    23.491762  ]\n",
      " [ 2.0162435  36.2951    ]\n",
      " [ 6.5839205   6.1715083 ]\n",
      " [63.402348    6.424487  ]\n",
      " [24.370136   16.647264  ]\n",
      " [38.137817    0.8665815 ]\n",
      " [41.18349    18.711182  ]\n",
      " [25.97676    54.32373   ]\n",
      " [58.642876    0.8934266 ]\n",
      " [28.049557   53.573036  ]\n",
      " [40.312916   39.525215  ]\n",
      " [18.233572   48.615902  ]\n",
      " [10.361946   61.05207   ]\n",
      " [40.479324   12.290562  ]\n",
      " [ 7.7700777  49.767944  ]\n",
      " [ 3.350203   61.262863  ]\n",
      " [ 7.2387123  18.580687  ]\n",
      " [52.31154     1.1795596 ]\n",
      " [60.01794    51.668255  ]\n",
      " [28.74528    24.772133  ]\n",
      " [34.092876   36.621895  ]\n",
      " [29.369139   18.003756  ]\n",
      " [26.194792   54.187103  ]\n",
      " [22.439386   43.66145   ]\n",
      " [27.629      61.90666   ]\n",
      " [18.253363   12.8056965 ]\n",
      " [37.04913    45.59486   ]\n",
      " [33.61058    56.023922  ]\n",
      " [18.319103    4.399935  ]\n",
      " [37.705406   25.259014  ]\n",
      " [41.760048   38.36654   ]\n",
      " [31.841806   63.642006  ]\n",
      " [45.84759    54.367226  ]\n",
      " [58.926483    1.6292104 ]\n",
      " [37.899822   28.184288  ]\n",
      " [49.771057   46.447422  ]\n",
      " [ 6.2058544  23.688707  ]\n",
      " [60.574905   14.496388  ]\n",
      " [61.315224   12.632477  ]\n",
      " [19.216259   33.01496   ]\n",
      " [39.30946    33.791252  ]\n",
      " [18.954756   31.034702  ]\n",
      " [56.79868    18.033377  ]\n",
      " [ 4.804639   59.896145  ]\n",
      " [ 9.153648   33.024246  ]\n",
      " [ 0.9780922  15.845227  ]\n",
      " [24.024836   55.580456  ]\n",
      " [ 0.          0.        ]\n",
      " [ 0.          0.        ]\n",
      " [ 0.          0.        ]\n",
      " [ 0.          0.        ]\n",
      " [ 0.          0.        ]\n",
      " [ 0.          0.        ]\n",
      " [ 0.          0.        ]\n",
      " [ 0.          0.        ]\n",
      " [ 0.          0.        ]\n",
      " [ 0.          0.        ]\n",
      " [ 0.          0.        ]\n",
      " [ 0.          0.        ]\n",
      " [ 0.          0.        ]] \n",
      "\n",
      "\n"
     ]
    },
    {
     "data": {
      "image/png": "[encoded data removed]",
      "text/plain": [
       "<Figure size 640x480 with 1 Axes>"
      ]
     },
     "metadata": {},
     "output_type": "display_data"
    }
   ],
   "source": [
    "for i in range(1):\n",
    "    print(f\"image {i+1}\",\n",
    "          \"\\ncount\\n\", true_counts[i].round().item(),\n",
    "          \"\\ntotal flux\\n\", true_fluxes[i].sum().item(),\n",
    "          \"\\nloc\\n\", true_locs[i].cpu().numpy(), \"\\n\\n\")\n",
    "    fig, img = plt.subplots(1,1)\n",
    "    _ = img.imshow(images[i].cpu())"
   ]
  },
  {
   "cell_type": "markdown",
   "metadata": {},
   "source": [
    "### Perform inference with SMC"
   ]
  },
  {
   "cell_type": "markdown",
   "metadata": {},
   "source": [
    "We set the side length of the tiles on which we will run the sampler, and we specify a prior and image model at the tile level. We also specify a mutation kernel to be used within the SMC sampler."
   ]
  },
  {
   "cell_type": "code",
   "execution_count": 4,
   "metadata": {},
   "outputs": [],
   "source": [
    "tile_dim = 8\n",
    "\n",
    "TilePrior = StarPrior(max_objects = 3,\n",
    "                      image_dim = tile_dim,\n",
    "                      min_flux = 10000,\n",
    "                      pad = 4)\n",
    "\n",
    "TileImageModel = ImageModel(image_dim = tile_dim,\n",
    "                            psf_stdev = 1,\n",
    "                            background = 20000)\n",
    "\n",
    "MHKernel = MetropolisHastings(num_iters = 100,\n",
    "                              locs_stdev = 0.25,\n",
    "                              features_stdev = 1250)"
   ]
  },
  {
   "cell_type": "markdown",
   "metadata": {},
   "source": [
    "Now we initialize an `SMCsampler` object and run it on the tiles."
   ]
  },
  {
   "cell_type": "code",
   "execution_count": 5,
   "metadata": {},
   "outputs": [
    {
     "name": "stdout",
     "output_type": "stream",
     "text": [
      "True count: 87\n",
      "True total flux: 8818305.0\n",
      "\n",
      "Starting the tile samplers...\n",
      "iteration 5, temperature = 0.0002875602513086051\n",
      "iteration 10, temperature = 0.0012004765449091792\n",
      "iteration 15, temperature = 0.004263522103428841\n",
      "iteration 20, temperature = 0.015185526572167873\n",
      "iteration 25, temperature = 0.050658389925956726\n",
      "iteration 30, temperature = 0.08719681203365326\n",
      "iteration 35, temperature = 0.25618886947631836\n",
      "iteration 40, temperature = 0.6805338263511658\n",
      "Done!\n",
      "\n",
      "summary\n",
      "number of SMC iterations: 42\n"
     ]
    }
   ],
   "source": [
    "smc = SMCsampler(image = images[0],\n",
    "                 tile_dim = tile_dim,\n",
    "                 Prior = TilePrior,\n",
    "                 ImageModel = TileImageModel,\n",
    "                 MutationKernel = MHKernel,\n",
    "                 num_catalogs_per_count = 500,\n",
    "                 max_smc_iters = 500)\n",
    "\n",
    "print(f\"True count: {true_counts[0]}\")\n",
    "print(f\"True total flux: {true_fluxes[0].sum()}\\n\")\n",
    "\n",
    "smc.run(print_progress = True)\n",
    "smc.summarize()"
   ]
  }
 ],
 "metadata": {
  "kernelspec": {
   "display_name": "Python 3",
   "language": "python",
   "name": "python3"
  },
  "language_info": {
   "codemirror_mode": {
    "name": "ipython",
    "version": 3
   },
   "file_extension": ".py",
   "mimetype": "text/x-python",
   "name": "python",
   "nbconvert_exporter": "python",
   "pygments_lexer": "ipython3",
   "version": "3.10.12"
  }
 },
 "nbformat": 4,
 "nbformat_minor": 2
}
