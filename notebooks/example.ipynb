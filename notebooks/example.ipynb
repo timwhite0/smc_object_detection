{
 "cells": [
  {
   "cell_type": "code",
   "execution_count": 1,
   "metadata": {},
   "outputs": [],
   "source": [
    "import sys\n",
    "sys.path.append(\"../\")\n",
    "\n",
    "from smc.sampler import SMCsampler\n",
    "from smc.prior import CatalogPrior\n",
    "from smc.images import ImageAttributes\n",
    "\n",
    "import torch\n",
    "# torch.cuda.is_available()\n",
    "device = torch.device(\"cuda:5\" if torch.cuda.is_available() else \"cpu\")\n",
    "torch.cuda.set_device(device)\n",
    "torch.set_default_device(device)"
   ]
  },
  {
   "cell_type": "code",
   "execution_count": 2,
   "metadata": {},
   "outputs": [],
   "source": [
    "num_images = 1\n",
    "img_dim = 10 # Needs to be square for now\n",
    "img_width = img_dim\n",
    "img_height = img_dim\n",
    "max_objects = 8\n",
    "psf_stdev = 3.25\n",
    "background_intensity = 19200\n",
    "\n",
    "image_attributes = ImageAttributes(img_width = img_width,\n",
    "                                   img_height = img_height,\n",
    "                                   max_objects = max_objects,\n",
    "                                   psf_stdev = psf_stdev,\n",
    "                                   background_intensity = background_intensity)\n",
    "\n",
    "true_counts, true_fluxes, true_locs, true_total_intensities, images = image_attributes.generate(num_images)"
   ]
  },
  {
   "cell_type": "code",
   "execution_count": 3,
   "metadata": {},
   "outputs": [
    {
     "name": "stdout",
     "output_type": "stream",
     "text": [
      "image 1 \n",
      "count\n",
      " 6 \n",
      "total flux\n",
      " 417942.375 \n",
      "loc\n",
      " [[0.         0.        ]\n",
      " [2.0668101  1.5567099 ]\n",
      " [2.4932714  1.5795732 ]\n",
      " [3.4220095  8.21996   ]\n",
      " [2.6797628  2.081991  ]\n",
      " [9.404255   2.5567799 ]\n",
      " [0.68100154 4.9697022 ]\n",
      " [0.         0.        ]\n",
      " [0.         0.        ]] \n",
      "\n",
      "\n"
     ]
    }
   ],
   "source": [
    "for i in range(num_images):\n",
    "    print(f\"image {i+1}\",\n",
    "          \"\\ncount\\n\", true_counts[i].round().item(),\n",
    "          \"\\ntotal flux\\n\", true_fluxes[i].sum().item(),\n",
    "          \"\\nloc\\n\", true_locs[i].cpu().numpy(), \"\\n\\n\")"
   ]
  },
  {
   "cell_type": "code",
   "execution_count": 4,
   "metadata": {},
   "outputs": [
    {
     "name": "stdout",
     "output_type": "stream",
     "text": [
      "True count: 6\n",
      "True total flux: 417942.375\n",
      "\n",
      "Starting the sampler...\n",
      "iteration 5, temperature = 0.0007965576951391995, posterior mean count = 6.403882026672363\n",
      "iteration 10, temperature = 0.002728061517700553, posterior mean count = 6.532935619354248\n",
      "iteration 15, temperature = 0.005488364491611719, posterior mean count = 6.489260673522949\n",
      "iteration 20, temperature = 0.009052698500454426, posterior mean count = 6.470949172973633\n",
      "iteration 25, temperature = 0.013281617313623428, posterior mean count = 6.449550628662109\n",
      "iteration 30, temperature = 0.01891336590051651, posterior mean count = 6.4242048263549805\n",
      "iteration 35, temperature = 0.02667185664176941, posterior mean count = 6.4166388511657715\n",
      "iteration 40, temperature = 0.03741636127233505, posterior mean count = 6.410426139831543\n",
      "iteration 45, temperature = 0.05350833386182785, posterior mean count = 6.397818565368652\n",
      "iteration 50, temperature = 0.07752168923616409, posterior mean count = 6.398205280303955\n",
      "iteration 55, temperature = 0.11422178149223328, posterior mean count = 6.4125213623046875\n",
      "iteration 60, temperature = 0.16981691122055054, posterior mean count = 6.420997619628906\n",
      "iteration 65, temperature = 0.26440805196762085, posterior mean count = 6.430135726928711\n",
      "iteration 70, temperature = 0.4349867105484009, posterior mean count = 6.462033271789551\n",
      "iteration 75, temperature = 0.7493394017219543, posterior mean count = 6.470313549041748\n",
      "iteration 80, temperature = 0.9899890422821045, posterior mean count = 6.489772796630859\n",
      "iteration 85, temperature = 0.9996871948242188, posterior mean count = 6.491311073303223\n",
      "Done!\n",
      "\n",
      "summary\n",
      "number of SMC iterations: 86\n",
      "log normalizing constant: -1437.0845947265625\n",
      "posterior mean count: 6.491341590881348\n",
      "posterior mean total flux: 418428.75\n",
      "argmax count: 6.0\n",
      "argmax total flux: 419678.03125\n",
      "\n",
      "\n",
      "\n"
     ]
    },
    {
     "data": {
      "image/png": "[encoded data removed]",
      "text/plain": [
       "<Figure size 432x288 with 2 Axes>"
      ]
     },
     "metadata": {
      "needs_background": "light"
     },
     "output_type": "display_data"
    }
   ],
   "source": [
    "max_objects_smc = max_objects + 2\n",
    "pad = 5\n",
    "prior = CatalogPrior(max_objects_smc, img_width, img_height, pad, background_intensity/3.)\n",
    "smc = SMCsampler(images[0], image_attributes, prior, num_blocks = max_objects_smc+1, catalogs_per_block = 500, max_smc_iters = 1000)\n",
    "\n",
    "print(f\"True count: {true_counts[0]}\")\n",
    "print(f\"True total flux: {true_fluxes[0].sum()}\\n\")\n",
    "\n",
    "smc.run(print_progress = True)\n",
    "smc.summarize()"
   ]
  }
 ],
 "metadata": {
  "kernelspec": {
   "display_name": "Python 3",
   "language": "python",
   "name": "python3"
  },
  "language_info": {
   "codemirror_mode": {
    "name": "ipython",
    "version": 3
   },
   "file_extension": ".py",
   "mimetype": "text/x-python",
   "name": "python",
   "nbconvert_exporter": "python",
   "pygments_lexer": "ipython3",
   "version": "3.10.12"
  }
 },
 "nbformat": 4,
 "nbformat_minor": 2
}
