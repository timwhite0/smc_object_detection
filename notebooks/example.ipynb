{
 "cells": [
  {
   "cell_type": "code",
   "execution_count": null,
   "metadata": {},
   "outputs": [],
   "source": [
    "import sys\n",
    "sys.path.append(\"../\")\n",
    "\n",
    "from smc.sampler import SMCsampler\n",
    "from smc.prior import CellPrior\n",
    "from smc.images import ImageAttributes\n",
    "\n",
    "import torch\n",
    "# torch.cuda.is_available()\n",
    "device = torch.device(\"cuda:7\" if torch.cuda.is_available() else \"cpu\")\n",
    "torch.cuda.set_device(device)\n",
    "torch.set_default_device(device)\n",
    "\n",
    "import matplotlib.pyplot as plt"
   ]
  },
  {
   "cell_type": "code",
   "execution_count": null,
   "metadata": {},
   "outputs": [],
   "source": [
    "num_images = 1\n",
    "img_dim = 32 # Needs to be square\n",
    "img_height = img_dim\n",
    "img_width = img_dim\n",
    "max_objects = 3\n",
    "psf_size = 5\n",
    "psf_stdev = 1\n",
    "background_intensity = 160\n",
    "\n",
    "prior = CellPrior(max_objects, img_height, img_width)\n",
    "\n",
    "image_attributes = ImageAttributes(img_height, img_width, max_objects, psf_size, psf_stdev, background_intensity)\n",
    "\n",
    "true_counts, true_fluors, true_locs, true_axes, true_angles, true_total_intensities, images = image_attributes.generate(prior, num_images)\n",
    "\n",
    "for i in range(num_images):\n",
    "    print(f\"image {i+1}\",\n",
    "          \"\\ncount\\n\", true_counts[i].round().item(),\n",
    "          \"\\ntotal fluor\\n\", true_fluors[i].sum().item())\n",
    "    fig, img = plt.subplots(1,1)\n",
    "    _ = img.imshow(images[i].cpu())\n",
    "    plt.colorbar(_, ax=img)"
   ]
  },
  {
   "cell_type": "code",
   "execution_count": null,
   "metadata": {},
   "outputs": [],
   "source": [
    "tile_side_length = 32\n",
    "max_objects_smc = 3\n",
    "pad = 0\n",
    "\n",
    "prior = CellPrior(max_objects_smc,\n",
    "                  tile_side_length, tile_side_length,\n",
    "                  pad)\n",
    "\n",
    "smc = SMCsampler(images[0], image_attributes, tile_side_length, prior,\n",
    "                 max_objects = max_objects_smc, catalogs_per_block = 500,\n",
    "                 kernel_num_iters = 100, product_form_multiplier = 500,\n",
    "                 max_smc_iters = 500)\n",
    "\n",
    "print(f\"True count: {true_counts[0]}\")\n",
    "print(f\"True total fluorescence: {true_fluors[0].sum()}\\n\")\n",
    "\n",
    "smc.run(print_progress = True)\n",
    "smc.summarize()"
   ]
  }
 ],
 "metadata": {
  "kernelspec": {
   "display_name": "Python 3",
   "language": "python",
   "name": "python3"
  },
  "language_info": {
   "codemirror_mode": {
    "name": "ipython",
    "version": 3
   },
   "file_extension": ".py",
   "mimetype": "text/x-python",
   "name": "python",
   "nbconvert_exporter": "python",
   "pygments_lexer": "ipython3",
   "version": "3.10.12"
  }
 },
 "nbformat": 4,
 "nbformat_minor": 2
}
