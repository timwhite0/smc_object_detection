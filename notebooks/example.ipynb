{
 "cells": [
  {
   "cell_type": "code",
   "execution_count": 1,
   "metadata": {},
   "outputs": [
    {
     "name": "stderr",
     "output_type": "stream",
     "text": [
      "/usr/lib/python3/dist-packages/scipy/__init__.py:146: UserWarning: A NumPy version >=1.17.3 and <1.25.0 is required for this version of SciPy (detected version 1.26.3\n",
      "  warnings.warn(f\"A NumPy version >={np_minversion} and <{np_maxversion}\"\n"
     ]
    }
   ],
   "source": [
    "import sys\n",
    "sys.path.append(\"../\")\n",
    "\n",
    "from smc.sampler import SMCsampler\n",
    "from smc.prior import CatalogPrior\n",
    "from smc.images import ImageAttributes\n",
    "\n",
    "import torch\n",
    "# torch.cuda.is_available()\n",
    "device = torch.device(\"cuda:1\" if torch.cuda.is_available() else \"cpu\")\n",
    "torch.cuda.set_device(device)\n",
    "torch.set_default_device(device)\n",
    "\n",
    "import matplotlib.pyplot as plt"
   ]
  },
  {
   "cell_type": "code",
   "execution_count": 2,
   "metadata": {},
   "outputs": [],
   "source": [
    "num_images = 1\n",
    "img_dim = 16 # Needs to be square for now\n",
    "img_width = img_dim\n",
    "img_height = img_dim\n",
    "max_objects = 8\n",
    "psf_stdev = 3.25\n",
    "background_intensity = 19200\n",
    "\n",
    "prior = CatalogPrior(max_objects = max_objects,\n",
    "                     img_height = img_height,\n",
    "                     img_width = img_width,\n",
    "                     min_flux = background_intensity/3.)\n",
    "\n",
    "image_attributes = ImageAttributes(img_height = img_height,\n",
    "                                   img_width = img_width,\n",
    "                                   max_objects = max_objects,\n",
    "                                   psf_stdev = psf_stdev,\n",
    "                                   background_intensity = background_intensity)\n",
    "\n",
    "true_counts, true_fluxes, true_locs, true_total_intensities, images = image_attributes.generate(prior, num_images)"
   ]
  },
  {
   "cell_type": "code",
   "execution_count": 3,
   "metadata": {},
   "outputs": [
    {
     "name": "stdout",
     "output_type": "stream",
     "text": [
      "image 1 \n",
      "count\n",
      " 4 \n",
      "total flux\n",
      " 236765.71875 \n",
      "loc\n",
      " [[2.1051197 3.071801 ]\n",
      " [5.8016376 9.625041 ]\n",
      " [8.813784  4.0086017]\n",
      " [5.2745442 4.4388704]\n",
      " [0.        0.       ]\n",
      " [0.        0.       ]\n",
      " [0.        0.       ]\n",
      " [0.        0.       ]] \n",
      "\n",
      "\n"
     ]
    }
   ],
   "source": [
    "for i in range(num_images):\n",
    "    print(f\"image {i+1}\",\n",
    "          \"\\ncount\\n\", true_counts[i].round().item(),\n",
    "          \"\\ntotal flux\\n\", true_fluxes[i].sum().item(),\n",
    "          \"\\nloc\\n\", true_locs[i].cpu().numpy(), \"\\n\\n\")"
   ]
  },
  {
   "cell_type": "code",
   "execution_count": 4,
   "metadata": {},
   "outputs": [
    {
     "name": "stdout",
     "output_type": "stream",
     "text": [
      "True count: 4\n",
      "True total flux: 236765.71875\n",
      "Starting the sampler...\n",
      "iteration 5, temperature = 0.0016426525544375181, posterior mean count = 3.9144554138183594\n",
      "iteration 10, temperature = 0.004399361088871956, posterior mean count = 3.8338751792907715\n",
      "iteration 15, temperature = 0.00851447694003582, posterior mean count = 3.797929286956787\n",
      "iteration 20, temperature = 0.015198806300759315, posterior mean count = 3.773214101791382\n",
      "iteration 25, temperature = 0.02815091982483864, posterior mean count = 3.8350048065185547\n",
      "iteration 30, temperature = 0.06102806329727173, posterior mean count = 3.8493459224700928\n",
      "iteration 35, temperature = 0.144076868891716, posterior mean count = 3.889965057373047\n",
      "iteration 40, temperature = 0.3148099482059479, posterior mean count = 3.980954885482788\n",
      "iteration 45, temperature = 0.6571356654167175, posterior mean count = 3.9994277954101562\n",
      "Done!\n",
      "\n",
      "summary\n",
      "number of SMC iterations: 48\n",
      "log normalizing constant:\n",
      "tensor([[          0, -2147483648],\n",
      "        [          1, -2147483648],\n",
      "        [          2, -2147483648],\n",
      "        [          3,       -2246],\n",
      "        [          4,       -2119],\n",
      "        [          5,       -2431],\n",
      "        [          6,       -2768],\n",
      "        [          7,       -3738],\n",
      "        [          8,       -4088],\n",
      "        [          9,       -4588],\n",
      "        [         10, -2147483648]], device='cuda:1')\n",
      "posterior mean count: 3.999974012374878\n",
      "posterior mean total flux: 231443.203125\n",
      "argmax count: 4.0\n",
      "argmax total flux: 231262.453125\n",
      "\n",
      "\n",
      "\n"
     ]
    },
    {
     "data": {
      "image/png": "[encoded data removed]",
      "text/plain": [
       "<Figure size 432x288 with 2 Axes>"
      ]
     },
     "metadata": {
      "needs_background": "light"
     },
     "output_type": "display_data"
    }
   ],
   "source": [
    "max_objects_smc = max_objects + 2\n",
    "pad = 0\n",
    "prior = CatalogPrior(max_objects_smc, img_width, img_height, background_intensity/3., pad)\n",
    "smc = SMCsampler(images[0], image_attributes, prior,\n",
    "                 max_objects = max_objects_smc, catalogs_per_block = 500,\n",
    "                 kernel_num_iters = 100,\n",
    "                 max_smc_iters = 500,\n",
    "                 wastefree = True, wastefree_M = 20)\n",
    "\n",
    "print(f\"True count: {true_counts[0]}\")\n",
    "print(f\"True total flux: {true_fluxes[0].sum()}\")\n",
    "\n",
    "smc.run(print_progress = True)\n",
    "smc.summarize()"
   ]
  }
 ],
 "metadata": {
  "kernelspec": {
   "display_name": "Python 3",
   "language": "python",
   "name": "python3"
  },
  "language_info": {
   "codemirror_mode": {
    "name": "ipython",
    "version": 3
   },
   "file_extension": ".py",
   "mimetype": "text/x-python",
   "name": "python",
   "nbconvert_exporter": "python",
   "pygments_lexer": "ipython3",
   "version": "3.10.12"
  }
 },
 "nbformat": 4,
 "nbformat_minor": 2
}
